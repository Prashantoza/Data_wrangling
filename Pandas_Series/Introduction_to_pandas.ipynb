{
 "metadata": {
  "language_info": {
   "codemirror_mode": {
    "name": "ipython",
    "version": 3
   },
   "file_extension": ".py",
   "mimetype": "text/x-python",
   "name": "python",
   "nbconvert_exporter": "python",
   "pygments_lexer": "ipython3",
   "version": "3.9.1"
  },
  "orig_nbformat": 2,
  "kernelspec": {
   "name": "python391jvsc74a57bd0f23377a8b136574be0446ea178e62af42b81697c864020af43a785bbd1853bae",
   "display_name": "Python 3.9.1 64-bit"
  },
  "metadata": {
   "interpreter": {
    "hash": "f23377a8b136574be0446ea178e62af42b81697c864020af43a785bbd1853bae"
   }
  }
 },
 "nbformat": 4,
 "nbformat_minor": 2,
 "cells": [
  {
   "source": [
    "# INTRODUCTION TO PANDAS"
   ],
   "cell_type": "markdown",
   "metadata": {}
  },
  {
   "cell_type": "code",
   "execution_count": 1,
   "metadata": {},
   "outputs": [],
   "source": [
    "#Importing pandas library\n",
    "import pandas as pd"
   ]
  },
  {
   "cell_type": "code",
   "execution_count": 2,
   "metadata": {},
   "outputs": [],
   "source": [
    "#Loading the data using read function\n",
    "netflix = pd.read_csv(r\"C:\\Users\\Prashant\\Documents\\GitHub\\Data_wrangling\\Pandas_Series\\/netflix_titles.csv\", parse_dates=[\"release_year\"],index_col=\"show_id\")\n",
    "spotify = pd.read_csv(r\"C:\\Users\\Prashant\\Documents\\GitHub\\Data_wrangling\\Pandas_Series\\Spotify.csv\", index_col=\"Unnamed: 0\")"
   ]
  },
  {
   "cell_type": "code",
   "execution_count": 3,
   "metadata": {},
   "outputs": [
    {
     "output_type": "execute_result",
     "data": {
      "text/plain": [
       "            type  title           director  \\\n",
       "show_id                                      \n",
       "s1       TV Show     3%                NaN   \n",
       "s2         Movie   7:19  Jorge Michel Grau   \n",
       "s3         Movie  23:59       Gilbert Chan   \n",
       "s4         Movie      9        Shane Acker   \n",
       "s5         Movie     21     Robert Luketic   \n",
       "\n",
       "                                                      cast        country  \\\n",
       "show_id                                                                     \n",
       "s1       João Miguel, Bianca Comparato, Michel Gomes, R...         Brazil   \n",
       "s2       Demián Bichir, Héctor Bonilla, Oscar Serrano, ...         Mexico   \n",
       "s3       Tedd Chan, Stella Chung, Henley Hii, Lawrence ...      Singapore   \n",
       "s4       Elijah Wood, John C. Reilly, Jennifer Connelly...  United States   \n",
       "s5       Jim Sturgess, Kevin Spacey, Kate Bosworth, Aar...  United States   \n",
       "\n",
       "                date_added release_year rating   duration  \\\n",
       "show_id                                                     \n",
       "s1         August 14, 2020   2020-01-01  TV-MA  4 Seasons   \n",
       "s2       December 23, 2016   2016-01-01  TV-MA     93 min   \n",
       "s3       December 20, 2018   2011-01-01      R     78 min   \n",
       "s4       November 16, 2017   2009-01-01  PG-13     80 min   \n",
       "s5         January 1, 2020   2008-01-01  PG-13    123 min   \n",
       "\n",
       "                                                 listed_in  \\\n",
       "show_id                                                      \n",
       "s1       International TV Shows, TV Dramas, TV Sci-Fi &...   \n",
       "s2                            Dramas, International Movies   \n",
       "s3                     Horror Movies, International Movies   \n",
       "s4       Action & Adventure, Independent Movies, Sci-Fi...   \n",
       "s5                                                  Dramas   \n",
       "\n",
       "                                               description  \n",
       "show_id                                                     \n",
       "s1       In a future where the elite inhabit an island ...  \n",
       "s2       After a devastating earthquake hits Mexico Cit...  \n",
       "s3       When an army recruit is found dead, his fellow...  \n",
       "s4       In a postapocalyptic world, rag-doll robots hi...  \n",
       "s5       A brilliant group of students become card-coun...  "
      ],
      "text/html": "<div>\n<style scoped>\n    .dataframe tbody tr th:only-of-type {\n        vertical-align: middle;\n    }\n\n    .dataframe tbody tr th {\n        vertical-align: top;\n    }\n\n    .dataframe thead th {\n        text-align: right;\n    }\n</style>\n<table border=\"1\" class=\"dataframe\">\n  <thead>\n    <tr style=\"text-align: right;\">\n      <th></th>\n      <th>type</th>\n      <th>title</th>\n      <th>director</th>\n      <th>cast</th>\n      <th>country</th>\n      <th>date_added</th>\n      <th>release_year</th>\n      <th>rating</th>\n      <th>duration</th>\n      <th>listed_in</th>\n      <th>description</th>\n    </tr>\n    <tr>\n      <th>show_id</th>\n      <th></th>\n      <th></th>\n      <th></th>\n      <th></th>\n      <th></th>\n      <th></th>\n      <th></th>\n      <th></th>\n      <th></th>\n      <th></th>\n      <th></th>\n    </tr>\n  </thead>\n  <tbody>\n    <tr>\n      <th>s1</th>\n      <td>TV Show</td>\n      <td>3%</td>\n      <td>NaN</td>\n      <td>João Miguel, Bianca Comparato, Michel Gomes, R...</td>\n      <td>Brazil</td>\n      <td>August 14, 2020</td>\n      <td>2020-01-01</td>\n      <td>TV-MA</td>\n      <td>4 Seasons</td>\n      <td>International TV Shows, TV Dramas, TV Sci-Fi &amp;...</td>\n      <td>In a future where the elite inhabit an island ...</td>\n    </tr>\n    <tr>\n      <th>s2</th>\n      <td>Movie</td>\n      <td>7:19</td>\n      <td>Jorge Michel Grau</td>\n      <td>Demián Bichir, Héctor Bonilla, Oscar Serrano, ...</td>\n      <td>Mexico</td>\n      <td>December 23, 2016</td>\n      <td>2016-01-01</td>\n      <td>TV-MA</td>\n      <td>93 min</td>\n      <td>Dramas, International Movies</td>\n      <td>After a devastating earthquake hits Mexico Cit...</td>\n    </tr>\n    <tr>\n      <th>s3</th>\n      <td>Movie</td>\n      <td>23:59</td>\n      <td>Gilbert Chan</td>\n      <td>Tedd Chan, Stella Chung, Henley Hii, Lawrence ...</td>\n      <td>Singapore</td>\n      <td>December 20, 2018</td>\n      <td>2011-01-01</td>\n      <td>R</td>\n      <td>78 min</td>\n      <td>Horror Movies, International Movies</td>\n      <td>When an army recruit is found dead, his fellow...</td>\n    </tr>\n    <tr>\n      <th>s4</th>\n      <td>Movie</td>\n      <td>9</td>\n      <td>Shane Acker</td>\n      <td>Elijah Wood, John C. Reilly, Jennifer Connelly...</td>\n      <td>United States</td>\n      <td>November 16, 2017</td>\n      <td>2009-01-01</td>\n      <td>PG-13</td>\n      <td>80 min</td>\n      <td>Action &amp; Adventure, Independent Movies, Sci-Fi...</td>\n      <td>In a postapocalyptic world, rag-doll robots hi...</td>\n    </tr>\n    <tr>\n      <th>s5</th>\n      <td>Movie</td>\n      <td>21</td>\n      <td>Robert Luketic</td>\n      <td>Jim Sturgess, Kevin Spacey, Kate Bosworth, Aar...</td>\n      <td>United States</td>\n      <td>January 1, 2020</td>\n      <td>2008-01-01</td>\n      <td>PG-13</td>\n      <td>123 min</td>\n      <td>Dramas</td>\n      <td>A brilliant group of students become card-coun...</td>\n    </tr>\n  </tbody>\n</table>\n</div>"
     },
     "metadata": {},
     "execution_count": 3
    }
   ],
   "source": [
    "#Displaying the first\n",
    "netflix.head()"
   ]
  },
  {
   "source": [
    "## Understanding DataFrame Atrributes"
   ],
   "cell_type": "markdown",
   "metadata": {}
  },
  {
   "source": [
    "#Using dataframe attribute index and assiging them variables.\n",
    "index = netflix.index"
   ],
   "cell_type": "code",
   "metadata": {},
   "execution_count": 4,
   "outputs": []
  },
  {
   "cell_type": "code",
   "execution_count": 5,
   "metadata": {},
   "outputs": [
    {
     "output_type": "execute_result",
     "data": {
      "text/plain": [
       "Index(['s1', 's2', 's3', 's4', 's5', 's6', 's7', 's8', 's9', 's10',\n",
       "       ...\n",
       "       's7778', 's7779', 's7780', 's7781', 's7782', 's7783', 's7784', 's7785',\n",
       "       's7786', 's7787'],\n",
       "      dtype='object', name='show_id', length=7787)"
      ]
     },
     "metadata": {},
     "execution_count": 5
    }
   ],
   "source": [
    "index"
   ]
  },
  {
   "cell_type": "code",
   "execution_count": 6,
   "metadata": {},
   "outputs": [
    {
     "output_type": "execute_result",
     "data": {
      "text/plain": [
       "pandas.core.indexes.base.Index"
      ]
     },
     "metadata": {},
     "execution_count": 6
    }
   ],
   "source": [
    "type(index)"
   ]
  },
  {
   "cell_type": "code",
   "execution_count": 7,
   "metadata": {},
   "outputs": [
    {
     "output_type": "execute_result",
     "data": {
      "text/plain": [
       "array(['s1', 's2', 's3', ..., 's7785', 's7786', 's7787'], dtype=object)"
      ]
     },
     "metadata": {},
     "execution_count": 7
    }
   ],
   "source": [
    "index.values"
   ]
  },
  {
   "cell_type": "code",
   "execution_count": 8,
   "metadata": {},
   "outputs": [],
   "source": [
    "#Using dataframe attribute column and assiging them variables.\n",
    "columns = netflix.columns"
   ]
  },
  {
   "cell_type": "code",
   "execution_count": 9,
   "metadata": {},
   "outputs": [
    {
     "output_type": "execute_result",
     "data": {
      "text/plain": [
       "Index(['type', 'title', 'director', 'cast', 'country', 'date_added',\n",
       "       'release_year', 'rating', 'duration', 'listed_in', 'description'],\n",
       "      dtype='object')"
      ]
     },
     "metadata": {},
     "execution_count": 9
    }
   ],
   "source": [
    "columns"
   ]
  },
  {
   "cell_type": "code",
   "execution_count": 10,
   "metadata": {},
   "outputs": [
    {
     "output_type": "execute_result",
     "data": {
      "text/plain": [
       "pandas.core.indexes.base.Index"
      ]
     },
     "metadata": {},
     "execution_count": 10
    }
   ],
   "source": [
    "type(columns)"
   ]
  },
  {
   "cell_type": "code",
   "execution_count": 11,
   "metadata": {},
   "outputs": [
    {
     "output_type": "execute_result",
     "data": {
      "text/plain": [
       "array(['type', 'title', 'director', 'cast', 'country', 'date_added',\n",
       "       'release_year', 'rating', 'duration', 'listed_in', 'description'],\n",
       "      dtype=object)"
      ]
     },
     "metadata": {},
     "execution_count": 11
    }
   ],
   "source": [
    "columns.values"
   ]
  },
  {
   "cell_type": "code",
   "execution_count": 12,
   "metadata": {},
   "outputs": [],
   "source": [
    "#Using dataframe attribute values and assiging them variables.\n",
    "values = netflix.values"
   ]
  },
  {
   "cell_type": "code",
   "execution_count": 13,
   "metadata": {},
   "outputs": [
    {
     "output_type": "execute_result",
     "data": {
      "text/plain": [
       "numpy.ndarray"
      ]
     },
     "metadata": {},
     "execution_count": 13
    }
   ],
   "source": [
    "type(values)"
   ]
  },
  {
   "cell_type": "code",
   "execution_count": 14,
   "metadata": {},
   "outputs": [
    {
     "output_type": "execute_result",
     "data": {
      "text/plain": [
       "array([['TV Show', '3%', nan, ..., '4 Seasons',\n",
       "        'International TV Shows, TV Dramas, TV Sci-Fi & Fantasy',\n",
       "        'In a future where the elite inhabit an island paradise far from the crowded slums, you get one chance to join the 3% saved from squalor.'],\n",
       "       ['Movie', '7:19', 'Jorge Michel Grau', ..., '93 min',\n",
       "        'Dramas, International Movies',\n",
       "        'After a devastating earthquake hits Mexico City, trapped survivors from all walks of life wait to be rescued while trying desperately to stay alive.'],\n",
       "       ['Movie', '23:59', 'Gilbert Chan', ..., '78 min',\n",
       "        'Horror Movies, International Movies',\n",
       "        \"When an army recruit is found dead, his fellow soldiers are forced to confront a terrifying secret that's haunting their jungle island training camp.\"],\n",
       "       ...,\n",
       "       ['Movie', 'Zulu Man in Japan', nan, ..., '44 min',\n",
       "        'Documentaries, International Movies, Music & Musicals',\n",
       "        \"In this documentary, South African rapper Nasty C hits the stage and streets of Tokyo, introducing himself to the city's sights, sounds and culture.\"],\n",
       "       ['TV Show', \"Zumbo's Just Desserts\", nan, ..., '1 Season',\n",
       "        'International TV Shows, Reality TV',\n",
       "        'Dessert wizard Adriano Zumbo looks for the next “Willy Wonka” in this tense competition that finds skilled amateurs competing for a $100,000 prize.'],\n",
       "       ['Movie', \"ZZ TOP: THAT LITTLE OL' BAND FROM TEXAS\", 'Sam Dunn',\n",
       "        ..., '90 min', 'Documentaries, Music & Musicals',\n",
       "        'This documentary delves into the mystique behind the blues-rock trio and explores how the enigmatic band created their iconic look and sound.']],\n",
       "      dtype=object)"
      ]
     },
     "metadata": {},
     "execution_count": 14
    }
   ],
   "source": [
    "values"
   ]
  },
  {
   "cell_type": "code",
   "execution_count": 15,
   "metadata": {},
   "outputs": [
    {
     "output_type": "execute_result",
     "data": {
      "text/plain": [
       "type                    object\n",
       "title                   object\n",
       "director                object\n",
       "cast                    object\n",
       "country                 object\n",
       "date_added              object\n",
       "release_year    datetime64[ns]\n",
       "rating                  object\n",
       "duration                object\n",
       "listed_in               object\n",
       "description             object\n",
       "dtype: object"
      ]
     },
     "metadata": {},
     "execution_count": 15
    }
   ],
   "source": [
    "#dtypes attributes to display column along with their data type\n",
    "netflix.dtypes"
   ]
  },
  {
   "cell_type": "code",
   "execution_count": 16,
   "metadata": {},
   "outputs": [
    {
     "output_type": "execute_result",
     "data": {
      "text/plain": [
       "object            10\n",
       "datetime64[ns]     1\n",
       "dtype: int64"
      ]
     },
     "metadata": {},
     "execution_count": 16
    }
   ],
   "source": [
    "#value_counts retuns the counts of each data type\n",
    "netflix.dtypes.value_counts()"
   ]
  },
  {
   "source": [
    "## Selecting single column of data as a Series"
   ],
   "cell_type": "markdown",
   "metadata": {}
  },
  {
   "cell_type": "code",
   "execution_count": 17,
   "metadata": {},
   "outputs": [
    {
     "output_type": "execute_result",
     "data": {
      "text/plain": [
       "show_id\n",
       "s1                     NaN\n",
       "s2       Jorge Michel Grau\n",
       "s3            Gilbert Chan\n",
       "s4             Shane Acker\n",
       "s5          Robert Luketic\n",
       "               ...        \n",
       "s7783          Josef Fares\n",
       "s7784          Mozez Singh\n",
       "s7785                  NaN\n",
       "s7786                  NaN\n",
       "s7787             Sam Dunn\n",
       "Name: director, Length: 7787, dtype: object"
      ]
     },
     "metadata": {},
     "execution_count": 17
    }
   ],
   "source": [
    "netflix.director #Accessing the column using dot notation"
   ]
  },
  {
   "cell_type": "code",
   "execution_count": 18,
   "metadata": {},
   "outputs": [
    {
     "output_type": "stream",
     "name": "stdout",
     "text": [
      "<class 'pandas.core.frame.DataFrame'>\nIndex: 7787 entries, s1 to s7787\nData columns (total 11 columns):\n #   Column        Non-Null Count  Dtype         \n---  ------        --------------  -----         \n 0   type          7787 non-null   object        \n 1   title         7787 non-null   object        \n 2   director      5398 non-null   object        \n 3   cast          7069 non-null   object        \n 4   country       7280 non-null   object        \n 5   date_added    7777 non-null   object        \n 6   release_year  7787 non-null   datetime64[ns]\n 7   rating        7780 non-null   object        \n 8   duration      7787 non-null   object        \n 9   listed_in     7787 non-null   object        \n 10  description   7787 non-null   object        \ndtypes: datetime64[ns](1), object(10)\nmemory usage: 1.0+ MB\n"
     ]
    }
   ],
   "source": [
    "netflix.info()"
   ]
  },
  {
   "cell_type": "code",
   "execution_count": 19,
   "metadata": {},
   "outputs": [
    {
     "output_type": "execute_result",
     "data": {
      "text/plain": [
       "pandas.core.series.Series"
      ]
     },
     "metadata": {},
     "execution_count": 19
    }
   ],
   "source": [
    "#Passing a single string to the DataFrame indexing operator returns a Series\n",
    "type(netflix.director)"
   ]
  },
  {
   "cell_type": "code",
   "execution_count": 20,
   "metadata": {},
   "outputs": [
    {
     "output_type": "execute_result",
     "data": {
      "text/plain": [
       "'director'"
      ]
     },
     "metadata": {},
     "execution_count": 20
    }
   ],
   "source": [
    "#Notice the old column is the name of the series and has actually become an attribute\n",
    "director = netflix[\"director\"]\n",
    "director.name"
   ]
  },
  {
   "cell_type": "code",
   "execution_count": 21,
   "metadata": {},
   "outputs": [
    {
     "output_type": "execute_result",
     "data": {
      "text/plain": [
       "                  director\n",
       "show_id                   \n",
       "s1                     NaN\n",
       "s2       Jorge Michel Grau\n",
       "s3            Gilbert Chan\n",
       "s4             Shane Acker\n",
       "s5          Robert Luketic"
      ],
      "text/html": "<div>\n<style scoped>\n    .dataframe tbody tr th:only-of-type {\n        vertical-align: middle;\n    }\n\n    .dataframe tbody tr th {\n        vertical-align: top;\n    }\n\n    .dataframe thead th {\n        text-align: right;\n    }\n</style>\n<table border=\"1\" class=\"dataframe\">\n  <thead>\n    <tr style=\"text-align: right;\">\n      <th></th>\n      <th>director</th>\n    </tr>\n    <tr>\n      <th>show_id</th>\n      <th></th>\n    </tr>\n  </thead>\n  <tbody>\n    <tr>\n      <th>s1</th>\n      <td>NaN</td>\n    </tr>\n    <tr>\n      <th>s2</th>\n      <td>Jorge Michel Grau</td>\n    </tr>\n    <tr>\n      <th>s3</th>\n      <td>Gilbert Chan</td>\n    </tr>\n    <tr>\n      <th>s4</th>\n      <td>Shane Acker</td>\n    </tr>\n    <tr>\n      <th>s5</th>\n      <td>Robert Luketic</td>\n    </tr>\n  </tbody>\n</table>\n</div>"
     },
     "metadata": {},
     "execution_count": 21
    }
   ],
   "source": [
    "#It is possible to convert series into single coulmn dataframe using to_frame method\n",
    "director = director.to_frame()\n",
    "director.head()"
   ]
  },
  {
   "cell_type": "code",
   "execution_count": 22,
   "metadata": {},
   "outputs": [
    {
     "output_type": "execute_result",
     "data": {
      "text/plain": [
       "pandas.core.frame.DataFrame"
      ]
     },
     "metadata": {},
     "execution_count": 22
    }
   ],
   "source": [
    "type(director)"
   ]
  },
  {
   "cell_type": "code",
   "execution_count": 23,
   "metadata": {},
   "outputs": [
    {
     "output_type": "execute_result",
     "data": {
      "text/plain": [
       "director                           \n",
       "Raúl Campos, Jan Suter                 18\n",
       "Marcus Raboy                           16\n",
       "Jay Karas                              14\n",
       "Cathy Garcia-Molina                    13\n",
       "Martin Scorsese                        12\n",
       "                                       ..\n",
       "Surya S.J., Sunil Kumar Agrawal         1\n",
       "Lynn Novick                             1\n",
       "Lygia Barbosa da Silva, Eliane Brum     1\n",
       "Lydia Tenaglia                          1\n",
       "Kevin Reynolds                          1\n",
       "Length: 4049, dtype: int64"
      ]
     },
     "metadata": {},
     "execution_count": 23
    }
   ],
   "source": [
    "#Director count is more useful for series with object data types\n",
    "director.value_counts()"
   ]
  },
  {
   "cell_type": "code",
   "execution_count": 24,
   "metadata": {},
   "outputs": [
    {
     "output_type": "execute_result",
     "data": {
      "text/plain": [
       "TV-MA       2863\n",
       "TV-14       1931\n",
       "TV-PG        806\n",
       "R            665\n",
       "PG-13        386\n",
       "TV-Y         280\n",
       "TV-Y7        271\n",
       "PG           247\n",
       "TV-G         194\n",
       "NR            84\n",
       "G             39\n",
       "TV-Y7-FV       6\n",
       "UR             5\n",
       "NC-17          3\n",
       "Name: rating, dtype: int64"
      ]
     },
     "metadata": {},
     "execution_count": 24
    }
   ],
   "source": [
    "netflix.rating.value_counts() #Here we get the counts of movies as per rating."
   ]
  },
  {
   "cell_type": "code",
   "execution_count": 25,
   "metadata": {},
   "outputs": [
    {
     "output_type": "execute_result",
     "data": {
      "text/plain": [
       "(7787, 1)"
      ]
     },
     "metadata": {},
     "execution_count": 25
    }
   ],
   "source": [
    "#Sape, size attributes and len() function can retunr the counting of the elements\n",
    "director.shape"
   ]
  },
  {
   "cell_type": "code",
   "execution_count": 26,
   "metadata": {},
   "outputs": [
    {
     "output_type": "execute_result",
     "data": {
      "text/plain": [
       "7787"
      ]
     },
     "metadata": {},
     "execution_count": 26
    }
   ],
   "source": [
    "director.size"
   ]
  },
  {
   "cell_type": "code",
   "execution_count": 27,
   "metadata": {},
   "outputs": [
    {
     "output_type": "execute_result",
     "data": {
      "text/plain": [
       "7787"
      ]
     },
     "metadata": {},
     "execution_count": 27
    }
   ],
   "source": [
    "len(director)"
   ]
  },
  {
   "cell_type": "code",
   "execution_count": 28,
   "metadata": {},
   "outputs": [
    {
     "output_type": "execute_result",
     "data": {
      "text/plain": [
       "director    5398\n",
       "dtype: int64"
      ]
     },
     "metadata": {},
     "execution_count": 28
    }
   ],
   "source": [
    "director.count() #Here the count() function only retunrs the count of non-nan values"
   ]
  },
  {
   "source": [
    "## Basic Stats using Pandas"
   ],
   "cell_type": "markdown",
   "metadata": {}
  },
  {
   "cell_type": "code",
   "execution_count": 29,
   "metadata": {},
   "outputs": [
    {
     "output_type": "execute_result",
     "data": {
      "text/plain": [
       "   acousticness  danceability  duration_ms  energy  instrumentalness  key  \\\n",
       "0        0.0102         0.833       204600   0.434          0.021900    2   \n",
       "1        0.1990         0.743       326933   0.359          0.006110    1   \n",
       "2        0.0344         0.838       185707   0.412          0.000234    2   \n",
       "3        0.6040         0.494       199413   0.338          0.510000    5   \n",
       "4        0.1800         0.678       392893   0.561          0.512000    5   \n",
       "\n",
       "   liveness  loudness  mode  speechiness    tempo  time_signature  valence  \\\n",
       "0    0.1650    -8.795     1       0.4310  150.062             4.0    0.286   \n",
       "1    0.1370   -10.401     1       0.0794  160.083             4.0    0.588   \n",
       "2    0.1590    -7.148     1       0.2890   75.044             4.0    0.173   \n",
       "3    0.0922   -15.236     1       0.0261   86.468             4.0    0.230   \n",
       "4    0.4390   -11.648     0       0.0694  174.004             4.0    0.904   \n",
       "\n",
       "   target      song_title            artist  \n",
       "0       1        Mask Off            Future  \n",
       "1       1         Redbone  Childish Gambino  \n",
       "2       1    Xanny Family            Future  \n",
       "3       1  Master Of None       Beach House  \n",
       "4       1  Parallel Lines       Junior Boys  "
      ],
      "text/html": "<div>\n<style scoped>\n    .dataframe tbody tr th:only-of-type {\n        vertical-align: middle;\n    }\n\n    .dataframe tbody tr th {\n        vertical-align: top;\n    }\n\n    .dataframe thead th {\n        text-align: right;\n    }\n</style>\n<table border=\"1\" class=\"dataframe\">\n  <thead>\n    <tr style=\"text-align: right;\">\n      <th></th>\n      <th>acousticness</th>\n      <th>danceability</th>\n      <th>duration_ms</th>\n      <th>energy</th>\n      <th>instrumentalness</th>\n      <th>key</th>\n      <th>liveness</th>\n      <th>loudness</th>\n      <th>mode</th>\n      <th>speechiness</th>\n      <th>tempo</th>\n      <th>time_signature</th>\n      <th>valence</th>\n      <th>target</th>\n      <th>song_title</th>\n      <th>artist</th>\n    </tr>\n  </thead>\n  <tbody>\n    <tr>\n      <th>0</th>\n      <td>0.0102</td>\n      <td>0.833</td>\n      <td>204600</td>\n      <td>0.434</td>\n      <td>0.021900</td>\n      <td>2</td>\n      <td>0.1650</td>\n      <td>-8.795</td>\n      <td>1</td>\n      <td>0.4310</td>\n      <td>150.062</td>\n      <td>4.0</td>\n      <td>0.286</td>\n      <td>1</td>\n      <td>Mask Off</td>\n      <td>Future</td>\n    </tr>\n    <tr>\n      <th>1</th>\n      <td>0.1990</td>\n      <td>0.743</td>\n      <td>326933</td>\n      <td>0.359</td>\n      <td>0.006110</td>\n      <td>1</td>\n      <td>0.1370</td>\n      <td>-10.401</td>\n      <td>1</td>\n      <td>0.0794</td>\n      <td>160.083</td>\n      <td>4.0</td>\n      <td>0.588</td>\n      <td>1</td>\n      <td>Redbone</td>\n      <td>Childish Gambino</td>\n    </tr>\n    <tr>\n      <th>2</th>\n      <td>0.0344</td>\n      <td>0.838</td>\n      <td>185707</td>\n      <td>0.412</td>\n      <td>0.000234</td>\n      <td>2</td>\n      <td>0.1590</td>\n      <td>-7.148</td>\n      <td>1</td>\n      <td>0.2890</td>\n      <td>75.044</td>\n      <td>4.0</td>\n      <td>0.173</td>\n      <td>1</td>\n      <td>Xanny Family</td>\n      <td>Future</td>\n    </tr>\n    <tr>\n      <th>3</th>\n      <td>0.6040</td>\n      <td>0.494</td>\n      <td>199413</td>\n      <td>0.338</td>\n      <td>0.510000</td>\n      <td>5</td>\n      <td>0.0922</td>\n      <td>-15.236</td>\n      <td>1</td>\n      <td>0.0261</td>\n      <td>86.468</td>\n      <td>4.0</td>\n      <td>0.230</td>\n      <td>1</td>\n      <td>Master Of None</td>\n      <td>Beach House</td>\n    </tr>\n    <tr>\n      <th>4</th>\n      <td>0.1800</td>\n      <td>0.678</td>\n      <td>392893</td>\n      <td>0.561</td>\n      <td>0.512000</td>\n      <td>5</td>\n      <td>0.4390</td>\n      <td>-11.648</td>\n      <td>0</td>\n      <td>0.0694</td>\n      <td>174.004</td>\n      <td>4.0</td>\n      <td>0.904</td>\n      <td>1</td>\n      <td>Parallel Lines</td>\n      <td>Junior Boys</td>\n    </tr>\n  </tbody>\n</table>\n</div>"
     },
     "metadata": {},
     "execution_count": 29
    }
   ],
   "source": [
    "spotify.head()"
   ]
  },
  {
   "cell_type": "code",
   "execution_count": 30,
   "metadata": {},
   "outputs": [
    {
     "output_type": "execute_result",
     "data": {
      "text/plain": [
       "pandas.core.frame.DataFrame"
      ]
     },
     "metadata": {},
     "execution_count": 30
    }
   ],
   "source": [
    "duration = spotify.duration_ms\n",
    "duration = duration.to_frame()\n",
    "type(duration)"
   ]
  },
  {
   "cell_type": "code",
   "execution_count": 31,
   "metadata": {},
   "outputs": [
    {
     "output_type": "execute_result",
     "data": {
      "text/plain": [
       "(duration_ms    496799600\n",
       " dtype: int64,\n",
       " duration_ms    16042\n",
       " dtype: int64,\n",
       " duration_ms    1004627\n",
       " dtype: int64,\n",
       " duration_ms    246306.197323\n",
       " dtype: float64,\n",
       " duration_ms    229261.0\n",
       " dtype: float64)"
      ]
     },
     "metadata": {},
     "execution_count": 31
    }
   ],
   "source": [
    "#Using min(),max(),sum(),median() and mean() methods to yeild basic stats result\n",
    "duration.sum(),duration.min(),duration.max(), duration.mean(), duration.median()"
   ]
  },
  {
   "cell_type": "code",
   "execution_count": 32,
   "metadata": {},
   "outputs": [
    {
     "output_type": "execute_result",
     "data": {
      "text/plain": [
       "        duration_ms\n",
       "count  2.017000e+03\n",
       "mean   2.463062e+05\n",
       "std    8.198181e+04\n",
       "min    1.604200e+04\n",
       "25%    2.000150e+05\n",
       "50%    2.292610e+05\n",
       "75%    2.703330e+05\n",
       "max    1.004627e+06"
      ],
      "text/html": "<div>\n<style scoped>\n    .dataframe tbody tr th:only-of-type {\n        vertical-align: middle;\n    }\n\n    .dataframe tbody tr th {\n        vertical-align: top;\n    }\n\n    .dataframe thead th {\n        text-align: right;\n    }\n</style>\n<table border=\"1\" class=\"dataframe\">\n  <thead>\n    <tr style=\"text-align: right;\">\n      <th></th>\n      <th>duration_ms</th>\n    </tr>\n  </thead>\n  <tbody>\n    <tr>\n      <th>count</th>\n      <td>2.017000e+03</td>\n    </tr>\n    <tr>\n      <th>mean</th>\n      <td>2.463062e+05</td>\n    </tr>\n    <tr>\n      <th>std</th>\n      <td>8.198181e+04</td>\n    </tr>\n    <tr>\n      <th>min</th>\n      <td>1.604200e+04</td>\n    </tr>\n    <tr>\n      <th>25%</th>\n      <td>2.000150e+05</td>\n    </tr>\n    <tr>\n      <th>50%</th>\n      <td>2.292610e+05</td>\n    </tr>\n    <tr>\n      <th>75%</th>\n      <td>2.703330e+05</td>\n    </tr>\n    <tr>\n      <th>max</th>\n      <td>1.004627e+06</td>\n    </tr>\n  </tbody>\n</table>\n</div>"
     },
     "metadata": {},
     "execution_count": 32
    }
   ],
   "source": [
    "#Pandas has a dedicated menthod to calculate the above same.\n",
    "duration.describe()"
   ]
  },
  {
   "cell_type": "code",
   "execution_count": 33,
   "metadata": {},
   "outputs": [
    {
     "output_type": "execute_result",
     "data": {
      "text/plain": [
       "duration_ms    194135.8\n",
       "Name: 0.2, dtype: float64"
      ]
     },
     "metadata": {},
     "execution_count": 33
    }
   ],
   "source": [
    "#Quantile method to calculate an exact numeric data\n",
    "duration.quantile(0.2)"
   ]
  },
  {
   "cell_type": "code",
   "execution_count": 34,
   "metadata": {},
   "outputs": [
    {
     "output_type": "execute_result",
     "data": {
      "text/plain": [
       "     duration_ms\n",
       "0.1     176650.2\n",
       "0.2     194135.8\n",
       "0.3     205724.6\n",
       "0.4     217427.4\n",
       "0.5     229261.0\n",
       "0.6     242701.0\n",
       "0.7     258418.4\n",
       "0.8     285192.8\n",
       "0.9     332968.0"
      ],
      "text/html": "<div>\n<style scoped>\n    .dataframe tbody tr th:only-of-type {\n        vertical-align: middle;\n    }\n\n    .dataframe tbody tr th {\n        vertical-align: top;\n    }\n\n    .dataframe thead th {\n        text-align: right;\n    }\n</style>\n<table border=\"1\" class=\"dataframe\">\n  <thead>\n    <tr style=\"text-align: right;\">\n      <th></th>\n      <th>duration_ms</th>\n    </tr>\n  </thead>\n  <tbody>\n    <tr>\n      <th>0.1</th>\n      <td>176650.2</td>\n    </tr>\n    <tr>\n      <th>0.2</th>\n      <td>194135.8</td>\n    </tr>\n    <tr>\n      <th>0.3</th>\n      <td>205724.6</td>\n    </tr>\n    <tr>\n      <th>0.4</th>\n      <td>217427.4</td>\n    </tr>\n    <tr>\n      <th>0.5</th>\n      <td>229261.0</td>\n    </tr>\n    <tr>\n      <th>0.6</th>\n      <td>242701.0</td>\n    </tr>\n    <tr>\n      <th>0.7</th>\n      <td>258418.4</td>\n    </tr>\n    <tr>\n      <th>0.8</th>\n      <td>285192.8</td>\n    </tr>\n    <tr>\n      <th>0.9</th>\n      <td>332968.0</td>\n    </tr>\n  </tbody>\n</table>\n</div>"
     },
     "metadata": {},
     "execution_count": 34
    }
   ],
   "source": [
    "#You can pass list to values to yeild the below numeric data\n",
    "duration.quantile([0.1,0.2,0.3,0.4,0.5,0.6,0.7,0.8,0.9])"
   ]
  },
  {
   "source": [
    "## Filling Missing Values"
   ],
   "cell_type": "markdown",
   "metadata": {}
  },
  {
   "cell_type": "code",
   "execution_count": 35,
   "metadata": {},
   "outputs": [
    {
     "output_type": "execute_result",
     "data": {
      "text/plain": [
       "director\n",
       "False       5398\n",
       "True        2389\n",
       "dtype: int64"
      ]
     },
     "metadata": {},
     "execution_count": 35
    }
   ],
   "source": [
    "#with isnull() method we can check if a dataframe has nan/null values or not.\n",
    "director.isnull().value_counts()"
   ]
  },
  {
   "cell_type": "code",
   "execution_count": 36,
   "metadata": {},
   "outputs": [
    {
     "output_type": "execute_result",
     "data": {
      "text/plain": [
       "director    7787\n",
       "dtype: int64"
      ]
     },
     "metadata": {},
     "execution_count": 36
    }
   ],
   "source": [
    "#filling nan values with 0 or with mean/median it depends on the data\n",
    "director_filled = director.fillna(0)\n",
    "director_filled.count()"
   ]
  },
  {
   "cell_type": "code",
   "execution_count": 37,
   "metadata": {},
   "outputs": [
    {
     "output_type": "execute_result",
     "data": {
      "text/plain": [
       "director    5398\n",
       "dtype: int64"
      ]
     },
     "metadata": {},
     "execution_count": 37
    }
   ],
   "source": [
    "director_dropped = director.dropna()\n",
    "director_dropped.count()"
   ]
  },
  {
   "cell_type": "code",
   "execution_count": 38,
   "metadata": {},
   "outputs": [
    {
     "output_type": "execute_result",
     "data": {
      "text/plain": [
       "director                           \n",
       "Raúl Campos, Jan Suter                 0.003335\n",
       "Marcus Raboy                           0.002964\n",
       "Jay Karas                              0.002594\n",
       "Cathy Garcia-Molina                    0.002408\n",
       "Martin Scorsese                        0.002223\n",
       "                                         ...   \n",
       "Surya S.J., Sunil Kumar Agrawal        0.000185\n",
       "Lynn Novick                            0.000185\n",
       "Lygia Barbosa da Silva, Eliane Brum    0.000185\n",
       "Lydia Tenaglia                         0.000185\n",
       "Kevin Reynolds                         0.000185\n",
       "Length: 4049, dtype: float64"
      ]
     },
     "metadata": {},
     "execution_count": 38
    }
   ],
   "source": [
    "director.value_counts(normalize=True)"
   ]
  },
  {
   "cell_type": "code",
   "execution_count": 39,
   "metadata": {},
   "outputs": [
    {
     "output_type": "execute_result",
     "data": {
      "text/plain": [
       "director\n",
       "True        5398\n",
       "False       2389\n",
       "dtype: int64"
      ]
     },
     "metadata": {},
     "execution_count": 39
    }
   ],
   "source": [
    "director.notnull().value_counts() #it is complement function for isnull"
   ]
  },
  {
   "source": [
    "## Methods Chaining"
   ],
   "cell_type": "markdown",
   "metadata": {}
  },
  {
   "cell_type": "code",
   "execution_count": 40,
   "metadata": {},
   "outputs": [
    {
     "output_type": "execute_result",
     "data": {
      "text/plain": [
       "director              \n",
       "Raúl Campos, Jan Suter    18\n",
       "Marcus Raboy              16\n",
       "Jay Karas                 14\n",
       "dtype: int64"
      ]
     },
     "metadata": {},
     "execution_count": 40
    }
   ],
   "source": [
    "director.value_counts().head(3)"
   ]
  },
  {
   "cell_type": "code",
   "execution_count": 41,
   "metadata": {},
   "outputs": [
    {
     "output_type": "execute_result",
     "data": {
      "text/plain": [
       "director    5398\n",
       "dtype: int64"
      ]
     },
     "metadata": {},
     "execution_count": 41
    }
   ],
   "source": [
    "director.notnull().sum()"
   ]
  },
  {
   "cell_type": "code",
   "execution_count": 42,
   "metadata": {},
   "outputs": [
    {
     "output_type": "execute_result",
     "data": {
      "text/plain": [
       "director    2389\n",
       "dtype: int64"
      ]
     },
     "metadata": {},
     "execution_count": 42
    }
   ],
   "source": [
    "director.isnull().sum()"
   ]
  },
  {
   "cell_type": "code",
   "execution_count": 43,
   "metadata": {},
   "outputs": [
    {
     "output_type": "execute_result",
     "data": {
      "text/plain": [
       "director    0.306793\n",
       "dtype: float64"
      ]
     },
     "metadata": {},
     "execution_count": 43
    }
   ],
   "source": [
    "director.isnull().mean()"
   ]
  },
  {
   "cell_type": "code",
   "execution_count": 44,
   "metadata": {},
   "outputs": [
    {
     "output_type": "execute_result",
     "data": {
      "text/plain": [
       "director    0.693207\n",
       "dtype: float64"
      ]
     },
     "metadata": {},
     "execution_count": 44
    }
   ],
   "source": [
    "director.notnull().mean()"
   ]
  },
  {
   "source": [
    "## Renaming row and column names"
   ],
   "cell_type": "markdown",
   "metadata": {}
  },
  {
   "cell_type": "code",
   "execution_count": 45,
   "metadata": {},
   "outputs": [
    {
     "output_type": "execute_result",
     "data": {
      "text/plain": [
       "            type  title           director  \\\n",
       "show_id                                      \n",
       "s1       TV Show     3%                NaN   \n",
       "s2         Movie   7:19  Jorge Michel Grau   \n",
       "s3         Movie  23:59       Gilbert Chan   \n",
       "\n",
       "                                                      cast    country  \\\n",
       "show_id                                                                 \n",
       "s1       João Miguel, Bianca Comparato, Michel Gomes, R...     Brazil   \n",
       "s2       Demián Bichir, Héctor Bonilla, Oscar Serrano, ...     Mexico   \n",
       "s3       Tedd Chan, Stella Chung, Henley Hii, Lawrence ...  Singapore   \n",
       "\n",
       "                date_added release_year rating   duration  \\\n",
       "show_id                                                     \n",
       "s1         August 14, 2020   2020-01-01  TV-MA  4 Seasons   \n",
       "s2       December 23, 2016   2016-01-01  TV-MA     93 min   \n",
       "s3       December 20, 2018   2011-01-01      R     78 min   \n",
       "\n",
       "                                                 listed_in  \\\n",
       "show_id                                                      \n",
       "s1       International TV Shows, TV Dramas, TV Sci-Fi &...   \n",
       "s2                            Dramas, International Movies   \n",
       "s3                     Horror Movies, International Movies   \n",
       "\n",
       "                                               description  \n",
       "show_id                                                     \n",
       "s1       In a future where the elite inhabit an island ...  \n",
       "s2       After a devastating earthquake hits Mexico Cit...  \n",
       "s3       When an army recruit is found dead, his fellow...  "
      ],
      "text/html": "<div>\n<style scoped>\n    .dataframe tbody tr th:only-of-type {\n        vertical-align: middle;\n    }\n\n    .dataframe tbody tr th {\n        vertical-align: top;\n    }\n\n    .dataframe thead th {\n        text-align: right;\n    }\n</style>\n<table border=\"1\" class=\"dataframe\">\n  <thead>\n    <tr style=\"text-align: right;\">\n      <th></th>\n      <th>type</th>\n      <th>title</th>\n      <th>director</th>\n      <th>cast</th>\n      <th>country</th>\n      <th>date_added</th>\n      <th>release_year</th>\n      <th>rating</th>\n      <th>duration</th>\n      <th>listed_in</th>\n      <th>description</th>\n    </tr>\n    <tr>\n      <th>show_id</th>\n      <th></th>\n      <th></th>\n      <th></th>\n      <th></th>\n      <th></th>\n      <th></th>\n      <th></th>\n      <th></th>\n      <th></th>\n      <th></th>\n      <th></th>\n    </tr>\n  </thead>\n  <tbody>\n    <tr>\n      <th>s1</th>\n      <td>TV Show</td>\n      <td>3%</td>\n      <td>NaN</td>\n      <td>João Miguel, Bianca Comparato, Michel Gomes, R...</td>\n      <td>Brazil</td>\n      <td>August 14, 2020</td>\n      <td>2020-01-01</td>\n      <td>TV-MA</td>\n      <td>4 Seasons</td>\n      <td>International TV Shows, TV Dramas, TV Sci-Fi &amp;...</td>\n      <td>In a future where the elite inhabit an island ...</td>\n    </tr>\n    <tr>\n      <th>s2</th>\n      <td>Movie</td>\n      <td>7:19</td>\n      <td>Jorge Michel Grau</td>\n      <td>Demián Bichir, Héctor Bonilla, Oscar Serrano, ...</td>\n      <td>Mexico</td>\n      <td>December 23, 2016</td>\n      <td>2016-01-01</td>\n      <td>TV-MA</td>\n      <td>93 min</td>\n      <td>Dramas, International Movies</td>\n      <td>After a devastating earthquake hits Mexico Cit...</td>\n    </tr>\n    <tr>\n      <th>s3</th>\n      <td>Movie</td>\n      <td>23:59</td>\n      <td>Gilbert Chan</td>\n      <td>Tedd Chan, Stella Chung, Henley Hii, Lawrence ...</td>\n      <td>Singapore</td>\n      <td>December 20, 2018</td>\n      <td>2011-01-01</td>\n      <td>R</td>\n      <td>78 min</td>\n      <td>Horror Movies, International Movies</td>\n      <td>When an army recruit is found dead, his fellow...</td>\n    </tr>\n  </tbody>\n</table>\n</div>"
     },
     "metadata": {},
     "execution_count": 45
    }
   ],
   "source": [
    "netflix.head(3)"
   ]
  },
  {
   "cell_type": "code",
   "execution_count": 46,
   "metadata": {},
   "outputs": [],
   "source": [
    "#making dictinary and then replacing the dictionary with original one\n",
    "idx_rename = {\"s1\": \"S1\",\\\n",
    "               \"s2\" : \"S2\" }\n",
    "col_rename = {  \"show_id\" : \"SHOW_ID\",\\\n",
    "                'type' : \"TYPE\",\\\n",
    "                'title' : \"TITLE\",\\\n",
    "                'director': \"DIRECTOR\",\\\n",
    "                'cast': \"CAST\",\\\n",
    "                'country' : \"COUNTRY\",\\\n",
    "                'date_added' : \"DATE_ADDED\",\\\n",
    "                'release_year': \"RELEASE_YEAR\",\\\n",
    "                'rating' : \"RATING\",\\\n",
    "                'duration': \"DURATION\",\\\n",
    "                'listed_in' : \"LISTED_IN\",\\\n",
    "                'description' : \"DESCRIPTION\"}"
   ]
  },
  {
   "cell_type": "code",
   "execution_count": 47,
   "metadata": {},
   "outputs": [],
   "source": [
    "netflix_renamed = netflix.rename(index = idx_rename,\\\n",
    "    columns = col_rename)"
   ]
  },
  {
   "cell_type": "code",
   "execution_count": 48,
   "metadata": {},
   "outputs": [
    {
     "output_type": "execute_result",
     "data": {
      "text/plain": [
       "            TYPE  TITLE           DIRECTOR  \\\n",
       "show_id                                      \n",
       "S1       TV Show     3%                NaN   \n",
       "S2         Movie   7:19  Jorge Michel Grau   \n",
       "s3         Movie  23:59       Gilbert Chan   \n",
       "\n",
       "                                                      CAST    COUNTRY  \\\n",
       "show_id                                                                 \n",
       "S1       João Miguel, Bianca Comparato, Michel Gomes, R...     Brazil   \n",
       "S2       Demián Bichir, Héctor Bonilla, Oscar Serrano, ...     Mexico   \n",
       "s3       Tedd Chan, Stella Chung, Henley Hii, Lawrence ...  Singapore   \n",
       "\n",
       "                DATE_ADDED RELEASE_YEAR RATING   DURATION  \\\n",
       "show_id                                                     \n",
       "S1         August 14, 2020   2020-01-01  TV-MA  4 Seasons   \n",
       "S2       December 23, 2016   2016-01-01  TV-MA     93 min   \n",
       "s3       December 20, 2018   2011-01-01      R     78 min   \n",
       "\n",
       "                                                 LISTED_IN  \\\n",
       "show_id                                                      \n",
       "S1       International TV Shows, TV Dramas, TV Sci-Fi &...   \n",
       "S2                            Dramas, International Movies   \n",
       "s3                     Horror Movies, International Movies   \n",
       "\n",
       "                                               DESCRIPTION  \n",
       "show_id                                                     \n",
       "S1       In a future where the elite inhabit an island ...  \n",
       "S2       After a devastating earthquake hits Mexico Cit...  \n",
       "s3       When an army recruit is found dead, his fellow...  "
      ],
      "text/html": "<div>\n<style scoped>\n    .dataframe tbody tr th:only-of-type {\n        vertical-align: middle;\n    }\n\n    .dataframe tbody tr th {\n        vertical-align: top;\n    }\n\n    .dataframe thead th {\n        text-align: right;\n    }\n</style>\n<table border=\"1\" class=\"dataframe\">\n  <thead>\n    <tr style=\"text-align: right;\">\n      <th></th>\n      <th>TYPE</th>\n      <th>TITLE</th>\n      <th>DIRECTOR</th>\n      <th>CAST</th>\n      <th>COUNTRY</th>\n      <th>DATE_ADDED</th>\n      <th>RELEASE_YEAR</th>\n      <th>RATING</th>\n      <th>DURATION</th>\n      <th>LISTED_IN</th>\n      <th>DESCRIPTION</th>\n    </tr>\n    <tr>\n      <th>show_id</th>\n      <th></th>\n      <th></th>\n      <th></th>\n      <th></th>\n      <th></th>\n      <th></th>\n      <th></th>\n      <th></th>\n      <th></th>\n      <th></th>\n      <th></th>\n    </tr>\n  </thead>\n  <tbody>\n    <tr>\n      <th>S1</th>\n      <td>TV Show</td>\n      <td>3%</td>\n      <td>NaN</td>\n      <td>João Miguel, Bianca Comparato, Michel Gomes, R...</td>\n      <td>Brazil</td>\n      <td>August 14, 2020</td>\n      <td>2020-01-01</td>\n      <td>TV-MA</td>\n      <td>4 Seasons</td>\n      <td>International TV Shows, TV Dramas, TV Sci-Fi &amp;...</td>\n      <td>In a future where the elite inhabit an island ...</td>\n    </tr>\n    <tr>\n      <th>S2</th>\n      <td>Movie</td>\n      <td>7:19</td>\n      <td>Jorge Michel Grau</td>\n      <td>Demián Bichir, Héctor Bonilla, Oscar Serrano, ...</td>\n      <td>Mexico</td>\n      <td>December 23, 2016</td>\n      <td>2016-01-01</td>\n      <td>TV-MA</td>\n      <td>93 min</td>\n      <td>Dramas, International Movies</td>\n      <td>After a devastating earthquake hits Mexico Cit...</td>\n    </tr>\n    <tr>\n      <th>s3</th>\n      <td>Movie</td>\n      <td>23:59</td>\n      <td>Gilbert Chan</td>\n      <td>Tedd Chan, Stella Chung, Henley Hii, Lawrence ...</td>\n      <td>Singapore</td>\n      <td>December 20, 2018</td>\n      <td>2011-01-01</td>\n      <td>R</td>\n      <td>78 min</td>\n      <td>Horror Movies, International Movies</td>\n      <td>When an army recruit is found dead, his fellow...</td>\n    </tr>\n  </tbody>\n</table>\n</div>"
     },
     "metadata": {},
     "execution_count": 48
    }
   ],
   "source": [
    "netflix_renamed.head(3) #Here we can notice the index column is not renamed, because pandas is not treating it like a column."
   ]
  },
  {
   "cell_type": "code",
   "execution_count": 49,
   "metadata": {},
   "outputs": [],
   "source": [
    "index = netflix_renamed.index\n",
    "columns = netflix_renamed.columns\n",
    "\n",
    "index_list = index.tolist()\n",
    "column_list = columns.tolist()"
   ]
  },
  {
   "cell_type": "code",
   "execution_count": 50,
   "metadata": {},
   "outputs": [],
   "source": [
    "index_list[0] = \"s1_test\"\n",
    "index_list[1] = \"s2_test\"\n",
    "column_list[0] = \"Type_test\"\n",
    "column_list[1] = \"Title_test\""
   ]
  },
  {
   "cell_type": "code",
   "execution_count": 51,
   "metadata": {},
   "outputs": [
    {
     "output_type": "execute_result",
     "data": {
      "text/plain": [
       "        Type_test Title_test           DIRECTOR  \\\n",
       "s1_test   TV Show         3%                NaN   \n",
       "s2_test     Movie       7:19  Jorge Michel Grau   \n",
       "s3          Movie      23:59       Gilbert Chan   \n",
       "\n",
       "                                                      CAST    COUNTRY  \\\n",
       "s1_test  João Miguel, Bianca Comparato, Michel Gomes, R...     Brazil   \n",
       "s2_test  Demián Bichir, Héctor Bonilla, Oscar Serrano, ...     Mexico   \n",
       "s3       Tedd Chan, Stella Chung, Henley Hii, Lawrence ...  Singapore   \n",
       "\n",
       "                DATE_ADDED RELEASE_YEAR RATING   DURATION  \\\n",
       "s1_test    August 14, 2020   2020-01-01  TV-MA  4 Seasons   \n",
       "s2_test  December 23, 2016   2016-01-01  TV-MA     93 min   \n",
       "s3       December 20, 2018   2011-01-01      R     78 min   \n",
       "\n",
       "                                                 LISTED_IN  \\\n",
       "s1_test  International TV Shows, TV Dramas, TV Sci-Fi &...   \n",
       "s2_test                       Dramas, International Movies   \n",
       "s3                     Horror Movies, International Movies   \n",
       "\n",
       "                                               DESCRIPTION  \n",
       "s1_test  In a future where the elite inhabit an island ...  \n",
       "s2_test  After a devastating earthquake hits Mexico Cit...  \n",
       "s3       When an army recruit is found dead, his fellow...  "
      ],
      "text/html": "<div>\n<style scoped>\n    .dataframe tbody tr th:only-of-type {\n        vertical-align: middle;\n    }\n\n    .dataframe tbody tr th {\n        vertical-align: top;\n    }\n\n    .dataframe thead th {\n        text-align: right;\n    }\n</style>\n<table border=\"1\" class=\"dataframe\">\n  <thead>\n    <tr style=\"text-align: right;\">\n      <th></th>\n      <th>Type_test</th>\n      <th>Title_test</th>\n      <th>DIRECTOR</th>\n      <th>CAST</th>\n      <th>COUNTRY</th>\n      <th>DATE_ADDED</th>\n      <th>RELEASE_YEAR</th>\n      <th>RATING</th>\n      <th>DURATION</th>\n      <th>LISTED_IN</th>\n      <th>DESCRIPTION</th>\n    </tr>\n  </thead>\n  <tbody>\n    <tr>\n      <th>s1_test</th>\n      <td>TV Show</td>\n      <td>3%</td>\n      <td>NaN</td>\n      <td>João Miguel, Bianca Comparato, Michel Gomes, R...</td>\n      <td>Brazil</td>\n      <td>August 14, 2020</td>\n      <td>2020-01-01</td>\n      <td>TV-MA</td>\n      <td>4 Seasons</td>\n      <td>International TV Shows, TV Dramas, TV Sci-Fi &amp;...</td>\n      <td>In a future where the elite inhabit an island ...</td>\n    </tr>\n    <tr>\n      <th>s2_test</th>\n      <td>Movie</td>\n      <td>7:19</td>\n      <td>Jorge Michel Grau</td>\n      <td>Demián Bichir, Héctor Bonilla, Oscar Serrano, ...</td>\n      <td>Mexico</td>\n      <td>December 23, 2016</td>\n      <td>2016-01-01</td>\n      <td>TV-MA</td>\n      <td>93 min</td>\n      <td>Dramas, International Movies</td>\n      <td>After a devastating earthquake hits Mexico Cit...</td>\n    </tr>\n    <tr>\n      <th>s3</th>\n      <td>Movie</td>\n      <td>23:59</td>\n      <td>Gilbert Chan</td>\n      <td>Tedd Chan, Stella Chung, Henley Hii, Lawrence ...</td>\n      <td>Singapore</td>\n      <td>December 20, 2018</td>\n      <td>2011-01-01</td>\n      <td>R</td>\n      <td>78 min</td>\n      <td>Horror Movies, International Movies</td>\n      <td>When an army recruit is found dead, his fellow...</td>\n    </tr>\n  </tbody>\n</table>\n</div>"
     },
     "metadata": {},
     "execution_count": 51
    }
   ],
   "source": [
    "netflix_renamed.index = index_list\n",
    "netflix_renamed.columns = column_list\n",
    "netflix_renamed.head(3)"
   ]
  },
  {
   "source": [
    "## Creating and deleting columns"
   ],
   "cell_type": "markdown",
   "metadata": {}
  },
  {
   "cell_type": "code",
   "execution_count": 52,
   "metadata": {},
   "outputs": [
    {
     "output_type": "execute_result",
     "data": {
      "text/plain": [
       "   acousticness  danceability  duration_ms  energy  instrumentalness  key  \\\n",
       "0        0.0102         0.833       204600   0.434          0.021900    2   \n",
       "1        0.1990         0.743       326933   0.359          0.006110    1   \n",
       "2        0.0344         0.838       185707   0.412          0.000234    2   \n",
       "\n",
       "   liveness  loudness  mode  speechiness    tempo  time_signature  valence  \\\n",
       "0     0.165    -8.795     1       0.4310  150.062             4.0    0.286   \n",
       "1     0.137   -10.401     1       0.0794  160.083             4.0    0.588   \n",
       "2     0.159    -7.148     1       0.2890   75.044             4.0    0.173   \n",
       "\n",
       "   target    song_title            artist  special_metric  \n",
       "0       1      Mask Off            Future               0  \n",
       "1       1       Redbone  Childish Gambino               0  \n",
       "2       1  Xanny Family            Future               0  "
      ],
      "text/html": "<div>\n<style scoped>\n    .dataframe tbody tr th:only-of-type {\n        vertical-align: middle;\n    }\n\n    .dataframe tbody tr th {\n        vertical-align: top;\n    }\n\n    .dataframe thead th {\n        text-align: right;\n    }\n</style>\n<table border=\"1\" class=\"dataframe\">\n  <thead>\n    <tr style=\"text-align: right;\">\n      <th></th>\n      <th>acousticness</th>\n      <th>danceability</th>\n      <th>duration_ms</th>\n      <th>energy</th>\n      <th>instrumentalness</th>\n      <th>key</th>\n      <th>liveness</th>\n      <th>loudness</th>\n      <th>mode</th>\n      <th>speechiness</th>\n      <th>tempo</th>\n      <th>time_signature</th>\n      <th>valence</th>\n      <th>target</th>\n      <th>song_title</th>\n      <th>artist</th>\n      <th>special_metric</th>\n    </tr>\n  </thead>\n  <tbody>\n    <tr>\n      <th>0</th>\n      <td>0.0102</td>\n      <td>0.833</td>\n      <td>204600</td>\n      <td>0.434</td>\n      <td>0.021900</td>\n      <td>2</td>\n      <td>0.165</td>\n      <td>-8.795</td>\n      <td>1</td>\n      <td>0.4310</td>\n      <td>150.062</td>\n      <td>4.0</td>\n      <td>0.286</td>\n      <td>1</td>\n      <td>Mask Off</td>\n      <td>Future</td>\n      <td>0</td>\n    </tr>\n    <tr>\n      <th>1</th>\n      <td>0.1990</td>\n      <td>0.743</td>\n      <td>326933</td>\n      <td>0.359</td>\n      <td>0.006110</td>\n      <td>1</td>\n      <td>0.137</td>\n      <td>-10.401</td>\n      <td>1</td>\n      <td>0.0794</td>\n      <td>160.083</td>\n      <td>4.0</td>\n      <td>0.588</td>\n      <td>1</td>\n      <td>Redbone</td>\n      <td>Childish Gambino</td>\n      <td>0</td>\n    </tr>\n    <tr>\n      <th>2</th>\n      <td>0.0344</td>\n      <td>0.838</td>\n      <td>185707</td>\n      <td>0.412</td>\n      <td>0.000234</td>\n      <td>2</td>\n      <td>0.159</td>\n      <td>-7.148</td>\n      <td>1</td>\n      <td>0.2890</td>\n      <td>75.044</td>\n      <td>4.0</td>\n      <td>0.173</td>\n      <td>1</td>\n      <td>Xanny Family</td>\n      <td>Future</td>\n      <td>0</td>\n    </tr>\n  </tbody>\n</table>\n</div>"
     },
     "metadata": {},
     "execution_count": 52
    }
   ],
   "source": [
    "spotify[\"special_metric\"] = 0\n",
    "spotify.head(3)"
   ]
  },
  {
   "cell_type": "code",
   "execution_count": 53,
   "metadata": {},
   "outputs": [],
   "source": [
    "# we can also create new columnns out of old one\n",
    "spotify[\"special_metric\"] = spotify.instrumentalness/(spotify.danceability + spotify.liveness)"
   ]
  },
  {
   "cell_type": "code",
   "execution_count": 54,
   "metadata": {},
   "outputs": [
    {
     "output_type": "execute_result",
     "data": {
      "text/plain": [
       "   acousticness  danceability  duration_ms  energy  instrumentalness  key  \\\n",
       "0        0.0102         0.833       204600   0.434          0.021900    2   \n",
       "1        0.1990         0.743       326933   0.359          0.006110    1   \n",
       "2        0.0344         0.838       185707   0.412          0.000234    2   \n",
       "3        0.6040         0.494       199413   0.338          0.510000    5   \n",
       "4        0.1800         0.678       392893   0.561          0.512000    5   \n",
       "\n",
       "   liveness  loudness  mode  speechiness    tempo  time_signature  valence  \\\n",
       "0    0.1650    -8.795     1       0.4310  150.062             4.0    0.286   \n",
       "1    0.1370   -10.401     1       0.0794  160.083             4.0    0.588   \n",
       "2    0.1590    -7.148     1       0.2890   75.044             4.0    0.173   \n",
       "3    0.0922   -15.236     1       0.0261   86.468             4.0    0.230   \n",
       "4    0.4390   -11.648     0       0.0694  174.004             4.0    0.904   \n",
       "\n",
       "   target      song_title            artist  special_metric  \n",
       "0       1        Mask Off            Future        0.021944  \n",
       "1       1         Redbone  Childish Gambino        0.006943  \n",
       "2       1    Xanny Family            Future        0.000235  \n",
       "3       1  Master Of None       Beach House        0.870010  \n",
       "4       1  Parallel Lines       Junior Boys        0.458371  "
      ],
      "text/html": "<div>\n<style scoped>\n    .dataframe tbody tr th:only-of-type {\n        vertical-align: middle;\n    }\n\n    .dataframe tbody tr th {\n        vertical-align: top;\n    }\n\n    .dataframe thead th {\n        text-align: right;\n    }\n</style>\n<table border=\"1\" class=\"dataframe\">\n  <thead>\n    <tr style=\"text-align: right;\">\n      <th></th>\n      <th>acousticness</th>\n      <th>danceability</th>\n      <th>duration_ms</th>\n      <th>energy</th>\n      <th>instrumentalness</th>\n      <th>key</th>\n      <th>liveness</th>\n      <th>loudness</th>\n      <th>mode</th>\n      <th>speechiness</th>\n      <th>tempo</th>\n      <th>time_signature</th>\n      <th>valence</th>\n      <th>target</th>\n      <th>song_title</th>\n      <th>artist</th>\n      <th>special_metric</th>\n    </tr>\n  </thead>\n  <tbody>\n    <tr>\n      <th>0</th>\n      <td>0.0102</td>\n      <td>0.833</td>\n      <td>204600</td>\n      <td>0.434</td>\n      <td>0.021900</td>\n      <td>2</td>\n      <td>0.1650</td>\n      <td>-8.795</td>\n      <td>1</td>\n      <td>0.4310</td>\n      <td>150.062</td>\n      <td>4.0</td>\n      <td>0.286</td>\n      <td>1</td>\n      <td>Mask Off</td>\n      <td>Future</td>\n      <td>0.021944</td>\n    </tr>\n    <tr>\n      <th>1</th>\n      <td>0.1990</td>\n      <td>0.743</td>\n      <td>326933</td>\n      <td>0.359</td>\n      <td>0.006110</td>\n      <td>1</td>\n      <td>0.1370</td>\n      <td>-10.401</td>\n      <td>1</td>\n      <td>0.0794</td>\n      <td>160.083</td>\n      <td>4.0</td>\n      <td>0.588</td>\n      <td>1</td>\n      <td>Redbone</td>\n      <td>Childish Gambino</td>\n      <td>0.006943</td>\n    </tr>\n    <tr>\n      <th>2</th>\n      <td>0.0344</td>\n      <td>0.838</td>\n      <td>185707</td>\n      <td>0.412</td>\n      <td>0.000234</td>\n      <td>2</td>\n      <td>0.1590</td>\n      <td>-7.148</td>\n      <td>1</td>\n      <td>0.2890</td>\n      <td>75.044</td>\n      <td>4.0</td>\n      <td>0.173</td>\n      <td>1</td>\n      <td>Xanny Family</td>\n      <td>Future</td>\n      <td>0.000235</td>\n    </tr>\n    <tr>\n      <th>3</th>\n      <td>0.6040</td>\n      <td>0.494</td>\n      <td>199413</td>\n      <td>0.338</td>\n      <td>0.510000</td>\n      <td>5</td>\n      <td>0.0922</td>\n      <td>-15.236</td>\n      <td>1</td>\n      <td>0.0261</td>\n      <td>86.468</td>\n      <td>4.0</td>\n      <td>0.230</td>\n      <td>1</td>\n      <td>Master Of None</td>\n      <td>Beach House</td>\n      <td>0.870010</td>\n    </tr>\n    <tr>\n      <th>4</th>\n      <td>0.1800</td>\n      <td>0.678</td>\n      <td>392893</td>\n      <td>0.561</td>\n      <td>0.512000</td>\n      <td>5</td>\n      <td>0.4390</td>\n      <td>-11.648</td>\n      <td>0</td>\n      <td>0.0694</td>\n      <td>174.004</td>\n      <td>4.0</td>\n      <td>0.904</td>\n      <td>1</td>\n      <td>Parallel Lines</td>\n      <td>Junior Boys</td>\n      <td>0.458371</td>\n    </tr>\n  </tbody>\n</table>\n</div>"
     },
     "metadata": {},
     "execution_count": 54
    }
   ],
   "source": [
    "spotify.head()"
   ]
  },
  {
   "cell_type": "code",
   "execution_count": 55,
   "metadata": {},
   "outputs": [],
   "source": [
    "del spotify[\"special_metric\"]"
   ]
  },
  {
   "cell_type": "code",
   "execution_count": 56,
   "metadata": {},
   "outputs": [
    {
     "output_type": "execute_result",
     "data": {
      "text/plain": [
       "4"
      ]
     },
     "metadata": {},
     "execution_count": 56
    }
   ],
   "source": [
    "song_metric = spotify.columns.get_loc(\"energy\")+1\n",
    "song_metric"
   ]
  },
  {
   "cell_type": "code",
   "execution_count": 57,
   "metadata": {},
   "outputs": [],
   "source": [
    "spotify.insert(loc = song_metric, column = \"song_metric\", value = spotify.instrumentalness/(spotify.danceability + spotify.liveness))"
   ]
  },
  {
   "cell_type": "code",
   "execution_count": 58,
   "metadata": {},
   "outputs": [
    {
     "output_type": "execute_result",
     "data": {
      "text/plain": [
       "   acousticness  danceability  duration_ms  energy  song_metric  \\\n",
       "0        0.0102         0.833       204600   0.434     0.021944   \n",
       "1        0.1990         0.743       326933   0.359     0.006943   \n",
       "2        0.0344         0.838       185707   0.412     0.000235   \n",
       "3        0.6040         0.494       199413   0.338     0.870010   \n",
       "4        0.1800         0.678       392893   0.561     0.458371   \n",
       "\n",
       "   instrumentalness  key  liveness  loudness  mode  speechiness    tempo  \\\n",
       "0          0.021900    2    0.1650    -8.795     1       0.4310  150.062   \n",
       "1          0.006110    1    0.1370   -10.401     1       0.0794  160.083   \n",
       "2          0.000234    2    0.1590    -7.148     1       0.2890   75.044   \n",
       "3          0.510000    5    0.0922   -15.236     1       0.0261   86.468   \n",
       "4          0.512000    5    0.4390   -11.648     0       0.0694  174.004   \n",
       "\n",
       "   time_signature  valence  target      song_title            artist  \n",
       "0             4.0    0.286       1        Mask Off            Future  \n",
       "1             4.0    0.588       1         Redbone  Childish Gambino  \n",
       "2             4.0    0.173       1    Xanny Family            Future  \n",
       "3             4.0    0.230       1  Master Of None       Beach House  \n",
       "4             4.0    0.904       1  Parallel Lines       Junior Boys  "
      ],
      "text/html": "<div>\n<style scoped>\n    .dataframe tbody tr th:only-of-type {\n        vertical-align: middle;\n    }\n\n    .dataframe tbody tr th {\n        vertical-align: top;\n    }\n\n    .dataframe thead th {\n        text-align: right;\n    }\n</style>\n<table border=\"1\" class=\"dataframe\">\n  <thead>\n    <tr style=\"text-align: right;\">\n      <th></th>\n      <th>acousticness</th>\n      <th>danceability</th>\n      <th>duration_ms</th>\n      <th>energy</th>\n      <th>song_metric</th>\n      <th>instrumentalness</th>\n      <th>key</th>\n      <th>liveness</th>\n      <th>loudness</th>\n      <th>mode</th>\n      <th>speechiness</th>\n      <th>tempo</th>\n      <th>time_signature</th>\n      <th>valence</th>\n      <th>target</th>\n      <th>song_title</th>\n      <th>artist</th>\n    </tr>\n  </thead>\n  <tbody>\n    <tr>\n      <th>0</th>\n      <td>0.0102</td>\n      <td>0.833</td>\n      <td>204600</td>\n      <td>0.434</td>\n      <td>0.021944</td>\n      <td>0.021900</td>\n      <td>2</td>\n      <td>0.1650</td>\n      <td>-8.795</td>\n      <td>1</td>\n      <td>0.4310</td>\n      <td>150.062</td>\n      <td>4.0</td>\n      <td>0.286</td>\n      <td>1</td>\n      <td>Mask Off</td>\n      <td>Future</td>\n    </tr>\n    <tr>\n      <th>1</th>\n      <td>0.1990</td>\n      <td>0.743</td>\n      <td>326933</td>\n      <td>0.359</td>\n      <td>0.006943</td>\n      <td>0.006110</td>\n      <td>1</td>\n      <td>0.1370</td>\n      <td>-10.401</td>\n      <td>1</td>\n      <td>0.0794</td>\n      <td>160.083</td>\n      <td>4.0</td>\n      <td>0.588</td>\n      <td>1</td>\n      <td>Redbone</td>\n      <td>Childish Gambino</td>\n    </tr>\n    <tr>\n      <th>2</th>\n      <td>0.0344</td>\n      <td>0.838</td>\n      <td>185707</td>\n      <td>0.412</td>\n      <td>0.000235</td>\n      <td>0.000234</td>\n      <td>2</td>\n      <td>0.1590</td>\n      <td>-7.148</td>\n      <td>1</td>\n      <td>0.2890</td>\n      <td>75.044</td>\n      <td>4.0</td>\n      <td>0.173</td>\n      <td>1</td>\n      <td>Xanny Family</td>\n      <td>Future</td>\n    </tr>\n    <tr>\n      <th>3</th>\n      <td>0.6040</td>\n      <td>0.494</td>\n      <td>199413</td>\n      <td>0.338</td>\n      <td>0.870010</td>\n      <td>0.510000</td>\n      <td>5</td>\n      <td>0.0922</td>\n      <td>-15.236</td>\n      <td>1</td>\n      <td>0.0261</td>\n      <td>86.468</td>\n      <td>4.0</td>\n      <td>0.230</td>\n      <td>1</td>\n      <td>Master Of None</td>\n      <td>Beach House</td>\n    </tr>\n    <tr>\n      <th>4</th>\n      <td>0.1800</td>\n      <td>0.678</td>\n      <td>392893</td>\n      <td>0.561</td>\n      <td>0.458371</td>\n      <td>0.512000</td>\n      <td>5</td>\n      <td>0.4390</td>\n      <td>-11.648</td>\n      <td>0</td>\n      <td>0.0694</td>\n      <td>174.004</td>\n      <td>4.0</td>\n      <td>0.904</td>\n      <td>1</td>\n      <td>Parallel Lines</td>\n      <td>Junior Boys</td>\n    </tr>\n  </tbody>\n</table>\n</div>"
     },
     "metadata": {},
     "execution_count": 58
    }
   ],
   "source": [
    "spotify.head()"
   ]
  },
  {
   "source": [
    "## Selecting multiple DataFrame Columns"
   ],
   "cell_type": "markdown",
   "metadata": {}
  },
  {
   "cell_type": "code",
   "execution_count": 59,
   "metadata": {},
   "outputs": [
    {
     "output_type": "execute_result",
     "data": {
      "text/plain": [
       "   acousticness  danceability  duration_ms  energy  song_metric  \\\n",
       "0        0.0102         0.833       204600   0.434     0.021944   \n",
       "1        0.1990         0.743       326933   0.359     0.006943   \n",
       "2        0.0344         0.838       185707   0.412     0.000235   \n",
       "\n",
       "   instrumentalness  key  liveness  loudness  mode  speechiness    tempo  \\\n",
       "0          0.021900    2     0.165    -8.795     1       0.4310  150.062   \n",
       "1          0.006110    1     0.137   -10.401     1       0.0794  160.083   \n",
       "2          0.000234    2     0.159    -7.148     1       0.2890   75.044   \n",
       "\n",
       "   time_signature  valence  target    song_title            artist  \n",
       "0             4.0    0.286       1      Mask Off            Future  \n",
       "1             4.0    0.588       1       Redbone  Childish Gambino  \n",
       "2             4.0    0.173       1  Xanny Family            Future  "
      ],
      "text/html": "<div>\n<style scoped>\n    .dataframe tbody tr th:only-of-type {\n        vertical-align: middle;\n    }\n\n    .dataframe tbody tr th {\n        vertical-align: top;\n    }\n\n    .dataframe thead th {\n        text-align: right;\n    }\n</style>\n<table border=\"1\" class=\"dataframe\">\n  <thead>\n    <tr style=\"text-align: right;\">\n      <th></th>\n      <th>acousticness</th>\n      <th>danceability</th>\n      <th>duration_ms</th>\n      <th>energy</th>\n      <th>song_metric</th>\n      <th>instrumentalness</th>\n      <th>key</th>\n      <th>liveness</th>\n      <th>loudness</th>\n      <th>mode</th>\n      <th>speechiness</th>\n      <th>tempo</th>\n      <th>time_signature</th>\n      <th>valence</th>\n      <th>target</th>\n      <th>song_title</th>\n      <th>artist</th>\n    </tr>\n  </thead>\n  <tbody>\n    <tr>\n      <th>0</th>\n      <td>0.0102</td>\n      <td>0.833</td>\n      <td>204600</td>\n      <td>0.434</td>\n      <td>0.021944</td>\n      <td>0.021900</td>\n      <td>2</td>\n      <td>0.165</td>\n      <td>-8.795</td>\n      <td>1</td>\n      <td>0.4310</td>\n      <td>150.062</td>\n      <td>4.0</td>\n      <td>0.286</td>\n      <td>1</td>\n      <td>Mask Off</td>\n      <td>Future</td>\n    </tr>\n    <tr>\n      <th>1</th>\n      <td>0.1990</td>\n      <td>0.743</td>\n      <td>326933</td>\n      <td>0.359</td>\n      <td>0.006943</td>\n      <td>0.006110</td>\n      <td>1</td>\n      <td>0.137</td>\n      <td>-10.401</td>\n      <td>1</td>\n      <td>0.0794</td>\n      <td>160.083</td>\n      <td>4.0</td>\n      <td>0.588</td>\n      <td>1</td>\n      <td>Redbone</td>\n      <td>Childish Gambino</td>\n    </tr>\n    <tr>\n      <th>2</th>\n      <td>0.0344</td>\n      <td>0.838</td>\n      <td>185707</td>\n      <td>0.412</td>\n      <td>0.000235</td>\n      <td>0.000234</td>\n      <td>2</td>\n      <td>0.159</td>\n      <td>-7.148</td>\n      <td>1</td>\n      <td>0.2890</td>\n      <td>75.044</td>\n      <td>4.0</td>\n      <td>0.173</td>\n      <td>1</td>\n      <td>Xanny Family</td>\n      <td>Future</td>\n    </tr>\n  </tbody>\n</table>\n</div>"
     },
     "metadata": {},
     "execution_count": 59
    }
   ],
   "source": [
    "spotify.head(3)"
   ]
  },
  {
   "cell_type": "code",
   "execution_count": 60,
   "metadata": {},
   "outputs": [],
   "source": [
    "song_spec = spotify[[\"acousticness\", \"danceability\",\"energy\",\"liveness\"]]"
   ]
  },
  {
   "cell_type": "code",
   "execution_count": 61,
   "metadata": {},
   "outputs": [
    {
     "output_type": "execute_result",
     "data": {
      "text/plain": [
       "   acousticness  danceability  energy  liveness\n",
       "0        0.0102         0.833   0.434     0.165\n",
       "1        0.1990         0.743   0.359     0.137\n",
       "2        0.0344         0.838   0.412     0.159"
      ],
      "text/html": "<div>\n<style scoped>\n    .dataframe tbody tr th:only-of-type {\n        vertical-align: middle;\n    }\n\n    .dataframe tbody tr th {\n        vertical-align: top;\n    }\n\n    .dataframe thead th {\n        text-align: right;\n    }\n</style>\n<table border=\"1\" class=\"dataframe\">\n  <thead>\n    <tr style=\"text-align: right;\">\n      <th></th>\n      <th>acousticness</th>\n      <th>danceability</th>\n      <th>energy</th>\n      <th>liveness</th>\n    </tr>\n  </thead>\n  <tbody>\n    <tr>\n      <th>0</th>\n      <td>0.0102</td>\n      <td>0.833</td>\n      <td>0.434</td>\n      <td>0.165</td>\n    </tr>\n    <tr>\n      <th>1</th>\n      <td>0.1990</td>\n      <td>0.743</td>\n      <td>0.359</td>\n      <td>0.137</td>\n    </tr>\n    <tr>\n      <th>2</th>\n      <td>0.0344</td>\n      <td>0.838</td>\n      <td>0.412</td>\n      <td>0.159</td>\n    </tr>\n  </tbody>\n</table>\n</div>"
     },
     "metadata": {},
     "execution_count": 61
    }
   ],
   "source": [
    "song_spec.head(3)"
   ]
  },
  {
   "cell_type": "code",
   "execution_count": 62,
   "metadata": {},
   "outputs": [
    {
     "output_type": "execute_result",
     "data": {
      "text/plain": [
       "pandas.core.frame.DataFrame"
      ]
     },
     "metadata": {},
     "execution_count": 62
    }
   ],
   "source": [
    "type(song_spec)"
   ]
  },
  {
   "cell_type": "code",
   "execution_count": 63,
   "metadata": {},
   "outputs": [
    {
     "output_type": "execute_result",
     "data": {
      "text/plain": [
       "   acousticness  danceability  energy  liveness\n",
       "0        0.0102         0.833   0.434     0.165\n",
       "1        0.1990         0.743   0.359     0.137\n",
       "2        0.0344         0.838   0.412     0.159"
      ],
      "text/html": "<div>\n<style scoped>\n    .dataframe tbody tr th:only-of-type {\n        vertical-align: middle;\n    }\n\n    .dataframe tbody tr th {\n        vertical-align: top;\n    }\n\n    .dataframe thead th {\n        text-align: right;\n    }\n</style>\n<table border=\"1\" class=\"dataframe\">\n  <thead>\n    <tr style=\"text-align: right;\">\n      <th></th>\n      <th>acousticness</th>\n      <th>danceability</th>\n      <th>energy</th>\n      <th>liveness</th>\n    </tr>\n  </thead>\n  <tbody>\n    <tr>\n      <th>0</th>\n      <td>0.0102</td>\n      <td>0.833</td>\n      <td>0.434</td>\n      <td>0.165</td>\n    </tr>\n    <tr>\n      <th>1</th>\n      <td>0.1990</td>\n      <td>0.743</td>\n      <td>0.359</td>\n      <td>0.137</td>\n    </tr>\n    <tr>\n      <th>2</th>\n      <td>0.0344</td>\n      <td>0.838</td>\n      <td>0.412</td>\n      <td>0.159</td>\n    </tr>\n  </tbody>\n</table>\n</div>"
     },
     "metadata": {},
     "execution_count": 63
    }
   ],
   "source": [
    "#The upper method may cause readability\n",
    "cols = [\"acousticness\", \"danceability\",\"energy\",\"liveness\"]\n",
    "song_spec_2 = spotify[cols]\n",
    "song_spec_2.head(3)"
   ]
  },
  {
   "source": [
    "#### comman mistake passing only the column names without using the list"
   ],
   "cell_type": "markdown",
   "metadata": {}
  },
  {
   "cell_type": "code",
   "execution_count": 64,
   "metadata": {},
   "outputs": [
    {
     "output_type": "execute_result",
     "data": {
      "text/plain": [
       "float64    11\n",
       "int64       4\n",
       "object      2\n",
       "dtype: int64"
      ]
     },
     "metadata": {},
     "execution_count": 64
    }
   ],
   "source": [
    "#using methods to select columns\n",
    "spotify.dtypes.value_counts()"
   ]
  },
  {
   "cell_type": "code",
   "execution_count": 65,
   "metadata": {},
   "outputs": [
    {
     "output_type": "execute_result",
     "data": {
      "text/plain": [
       "   duration_ms  key  mode  target\n",
       "0       204600    2     1       1\n",
       "1       326933    1     1       1\n",
       "2       185707    2     1       1"
      ],
      "text/html": "<div>\n<style scoped>\n    .dataframe tbody tr th:only-of-type {\n        vertical-align: middle;\n    }\n\n    .dataframe tbody tr th {\n        vertical-align: top;\n    }\n\n    .dataframe thead th {\n        text-align: right;\n    }\n</style>\n<table border=\"1\" class=\"dataframe\">\n  <thead>\n    <tr style=\"text-align: right;\">\n      <th></th>\n      <th>duration_ms</th>\n      <th>key</th>\n      <th>mode</th>\n      <th>target</th>\n    </tr>\n  </thead>\n  <tbody>\n    <tr>\n      <th>0</th>\n      <td>204600</td>\n      <td>2</td>\n      <td>1</td>\n      <td>1</td>\n    </tr>\n    <tr>\n      <th>1</th>\n      <td>326933</td>\n      <td>1</td>\n      <td>1</td>\n      <td>1</td>\n    </tr>\n    <tr>\n      <th>2</th>\n      <td>185707</td>\n      <td>2</td>\n      <td>1</td>\n      <td>1</td>\n    </tr>\n  </tbody>\n</table>\n</div>"
     },
     "metadata": {},
     "execution_count": 65
    }
   ],
   "source": [
    "spotify.select_dtypes(include=[\"int64\"]).head(3)"
   ]
  },
  {
   "cell_type": "code",
   "execution_count": 66,
   "metadata": {},
   "outputs": [
    {
     "output_type": "execute_result",
     "data": {
      "text/plain": [
       "   acousticness  danceability  duration_ms  energy  song_metric  \\\n",
       "0        0.0102         0.833       204600   0.434     0.021944   \n",
       "1        0.1990         0.743       326933   0.359     0.006943   \n",
       "2        0.0344         0.838       185707   0.412     0.000235   \n",
       "\n",
       "   instrumentalness  key  liveness  loudness  mode  speechiness    tempo  \\\n",
       "0          0.021900    2     0.165    -8.795     1       0.4310  150.062   \n",
       "1          0.006110    1     0.137   -10.401     1       0.0794  160.083   \n",
       "2          0.000234    2     0.159    -7.148     1       0.2890   75.044   \n",
       "\n",
       "   time_signature  valence  target  \n",
       "0             4.0    0.286       1  \n",
       "1             4.0    0.588       1  \n",
       "2             4.0    0.173       1  "
      ],
      "text/html": "<div>\n<style scoped>\n    .dataframe tbody tr th:only-of-type {\n        vertical-align: middle;\n    }\n\n    .dataframe tbody tr th {\n        vertical-align: top;\n    }\n\n    .dataframe thead th {\n        text-align: right;\n    }\n</style>\n<table border=\"1\" class=\"dataframe\">\n  <thead>\n    <tr style=\"text-align: right;\">\n      <th></th>\n      <th>acousticness</th>\n      <th>danceability</th>\n      <th>duration_ms</th>\n      <th>energy</th>\n      <th>song_metric</th>\n      <th>instrumentalness</th>\n      <th>key</th>\n      <th>liveness</th>\n      <th>loudness</th>\n      <th>mode</th>\n      <th>speechiness</th>\n      <th>tempo</th>\n      <th>time_signature</th>\n      <th>valence</th>\n      <th>target</th>\n    </tr>\n  </thead>\n  <tbody>\n    <tr>\n      <th>0</th>\n      <td>0.0102</td>\n      <td>0.833</td>\n      <td>204600</td>\n      <td>0.434</td>\n      <td>0.021944</td>\n      <td>0.021900</td>\n      <td>2</td>\n      <td>0.165</td>\n      <td>-8.795</td>\n      <td>1</td>\n      <td>0.4310</td>\n      <td>150.062</td>\n      <td>4.0</td>\n      <td>0.286</td>\n      <td>1</td>\n    </tr>\n    <tr>\n      <th>1</th>\n      <td>0.1990</td>\n      <td>0.743</td>\n      <td>326933</td>\n      <td>0.359</td>\n      <td>0.006943</td>\n      <td>0.006110</td>\n      <td>1</td>\n      <td>0.137</td>\n      <td>-10.401</td>\n      <td>1</td>\n      <td>0.0794</td>\n      <td>160.083</td>\n      <td>4.0</td>\n      <td>0.588</td>\n      <td>1</td>\n    </tr>\n    <tr>\n      <th>2</th>\n      <td>0.0344</td>\n      <td>0.838</td>\n      <td>185707</td>\n      <td>0.412</td>\n      <td>0.000235</td>\n      <td>0.000234</td>\n      <td>2</td>\n      <td>0.159</td>\n      <td>-7.148</td>\n      <td>1</td>\n      <td>0.2890</td>\n      <td>75.044</td>\n      <td>4.0</td>\n      <td>0.173</td>\n      <td>1</td>\n    </tr>\n  </tbody>\n</table>\n</div>"
     },
     "metadata": {},
     "execution_count": 66
    }
   ],
   "source": [
    "spotify.select_dtypes(include=[\"number\"]).head(3) #float64+int64"
   ]
  },
  {
   "cell_type": "code",
   "execution_count": 67,
   "metadata": {},
   "outputs": [
    {
     "output_type": "execute_result",
     "data": {
      "text/plain": [
       "   song_metric      song_title\n",
       "0     0.021944        Mask Off\n",
       "1     0.006943         Redbone\n",
       "2     0.000235    Xanny Family\n",
       "3     0.870010  Master Of None\n",
       "4     0.458371  Parallel Lines"
      ],
      "text/html": "<div>\n<style scoped>\n    .dataframe tbody tr th:only-of-type {\n        vertical-align: middle;\n    }\n\n    .dataframe tbody tr th {\n        vertical-align: top;\n    }\n\n    .dataframe thead th {\n        text-align: right;\n    }\n</style>\n<table border=\"1\" class=\"dataframe\">\n  <thead>\n    <tr style=\"text-align: right;\">\n      <th></th>\n      <th>song_metric</th>\n      <th>song_title</th>\n    </tr>\n  </thead>\n  <tbody>\n    <tr>\n      <th>0</th>\n      <td>0.021944</td>\n      <td>Mask Off</td>\n    </tr>\n    <tr>\n      <th>1</th>\n      <td>0.006943</td>\n      <td>Redbone</td>\n    </tr>\n    <tr>\n      <th>2</th>\n      <td>0.000235</td>\n      <td>Xanny Family</td>\n    </tr>\n    <tr>\n      <th>3</th>\n      <td>0.870010</td>\n      <td>Master Of None</td>\n    </tr>\n    <tr>\n      <th>4</th>\n      <td>0.458371</td>\n      <td>Parallel Lines</td>\n    </tr>\n  </tbody>\n</table>\n</div>"
     },
     "metadata": {},
     "execution_count": 67
    }
   ],
   "source": [
    "spotify.filter(like=\"song\").head()"
   ]
  },
  {
   "cell_type": "code",
   "execution_count": 68,
   "metadata": {},
   "outputs": [
    {
     "output_type": "execute_result",
     "data": {
      "text/plain": [
       "   duration_ms  song_metric  time_signature song_title\n",
       "0       204600     0.021944             4.0   Mask Off\n",
       "1       326933     0.006943             4.0    Redbone"
      ],
      "text/html": "<div>\n<style scoped>\n    .dataframe tbody tr th:only-of-type {\n        vertical-align: middle;\n    }\n\n    .dataframe tbody tr th {\n        vertical-align: top;\n    }\n\n    .dataframe thead th {\n        text-align: right;\n    }\n</style>\n<table border=\"1\" class=\"dataframe\">\n  <thead>\n    <tr style=\"text-align: right;\">\n      <th></th>\n      <th>duration_ms</th>\n      <th>song_metric</th>\n      <th>time_signature</th>\n      <th>song_title</th>\n    </tr>\n  </thead>\n  <tbody>\n    <tr>\n      <th>0</th>\n      <td>204600</td>\n      <td>0.021944</td>\n      <td>4.0</td>\n      <td>Mask Off</td>\n    </tr>\n    <tr>\n      <th>1</th>\n      <td>326933</td>\n      <td>0.006943</td>\n      <td>4.0</td>\n      <td>Redbone</td>\n    </tr>\n  </tbody>\n</table>\n</div>"
     },
     "metadata": {},
     "execution_count": 68
    }
   ],
   "source": [
    "spotify.filter(regex=\"_\").head(2)"
   ]
  },
  {
   "source": [
    "## Ordering Columns for better use"
   ],
   "cell_type": "markdown",
   "metadata": {}
  },
  {
   "cell_type": "code",
   "execution_count": 69,
   "metadata": {},
   "outputs": [
    {
     "output_type": "execute_result",
     "data": {
      "text/plain": [
       "            type  title           director  \\\n",
       "show_id                                      \n",
       "s1       TV Show     3%                NaN   \n",
       "s2         Movie   7:19  Jorge Michel Grau   \n",
       "s3         Movie  23:59       Gilbert Chan   \n",
       "s4         Movie      9        Shane Acker   \n",
       "s5         Movie     21     Robert Luketic   \n",
       "\n",
       "                                                      cast        country  \\\n",
       "show_id                                                                     \n",
       "s1       João Miguel, Bianca Comparato, Michel Gomes, R...         Brazil   \n",
       "s2       Demián Bichir, Héctor Bonilla, Oscar Serrano, ...         Mexico   \n",
       "s3       Tedd Chan, Stella Chung, Henley Hii, Lawrence ...      Singapore   \n",
       "s4       Elijah Wood, John C. Reilly, Jennifer Connelly...  United States   \n",
       "s5       Jim Sturgess, Kevin Spacey, Kate Bosworth, Aar...  United States   \n",
       "\n",
       "                date_added release_year rating   duration  \\\n",
       "show_id                                                     \n",
       "s1         August 14, 2020   2020-01-01  TV-MA  4 Seasons   \n",
       "s2       December 23, 2016   2016-01-01  TV-MA     93 min   \n",
       "s3       December 20, 2018   2011-01-01      R     78 min   \n",
       "s4       November 16, 2017   2009-01-01  PG-13     80 min   \n",
       "s5         January 1, 2020   2008-01-01  PG-13    123 min   \n",
       "\n",
       "                                                 listed_in  \\\n",
       "show_id                                                      \n",
       "s1       International TV Shows, TV Dramas, TV Sci-Fi &...   \n",
       "s2                            Dramas, International Movies   \n",
       "s3                     Horror Movies, International Movies   \n",
       "s4       Action & Adventure, Independent Movies, Sci-Fi...   \n",
       "s5                                                  Dramas   \n",
       "\n",
       "                                               description  \n",
       "show_id                                                     \n",
       "s1       In a future where the elite inhabit an island ...  \n",
       "s2       After a devastating earthquake hits Mexico Cit...  \n",
       "s3       When an army recruit is found dead, his fellow...  \n",
       "s4       In a postapocalyptic world, rag-doll robots hi...  \n",
       "s5       A brilliant group of students become card-coun...  "
      ],
      "text/html": "<div>\n<style scoped>\n    .dataframe tbody tr th:only-of-type {\n        vertical-align: middle;\n    }\n\n    .dataframe tbody tr th {\n        vertical-align: top;\n    }\n\n    .dataframe thead th {\n        text-align: right;\n    }\n</style>\n<table border=\"1\" class=\"dataframe\">\n  <thead>\n    <tr style=\"text-align: right;\">\n      <th></th>\n      <th>type</th>\n      <th>title</th>\n      <th>director</th>\n      <th>cast</th>\n      <th>country</th>\n      <th>date_added</th>\n      <th>release_year</th>\n      <th>rating</th>\n      <th>duration</th>\n      <th>listed_in</th>\n      <th>description</th>\n    </tr>\n    <tr>\n      <th>show_id</th>\n      <th></th>\n      <th></th>\n      <th></th>\n      <th></th>\n      <th></th>\n      <th></th>\n      <th></th>\n      <th></th>\n      <th></th>\n      <th></th>\n      <th></th>\n    </tr>\n  </thead>\n  <tbody>\n    <tr>\n      <th>s1</th>\n      <td>TV Show</td>\n      <td>3%</td>\n      <td>NaN</td>\n      <td>João Miguel, Bianca Comparato, Michel Gomes, R...</td>\n      <td>Brazil</td>\n      <td>August 14, 2020</td>\n      <td>2020-01-01</td>\n      <td>TV-MA</td>\n      <td>4 Seasons</td>\n      <td>International TV Shows, TV Dramas, TV Sci-Fi &amp;...</td>\n      <td>In a future where the elite inhabit an island ...</td>\n    </tr>\n    <tr>\n      <th>s2</th>\n      <td>Movie</td>\n      <td>7:19</td>\n      <td>Jorge Michel Grau</td>\n      <td>Demián Bichir, Héctor Bonilla, Oscar Serrano, ...</td>\n      <td>Mexico</td>\n      <td>December 23, 2016</td>\n      <td>2016-01-01</td>\n      <td>TV-MA</td>\n      <td>93 min</td>\n      <td>Dramas, International Movies</td>\n      <td>After a devastating earthquake hits Mexico Cit...</td>\n    </tr>\n    <tr>\n      <th>s3</th>\n      <td>Movie</td>\n      <td>23:59</td>\n      <td>Gilbert Chan</td>\n      <td>Tedd Chan, Stella Chung, Henley Hii, Lawrence ...</td>\n      <td>Singapore</td>\n      <td>December 20, 2018</td>\n      <td>2011-01-01</td>\n      <td>R</td>\n      <td>78 min</td>\n      <td>Horror Movies, International Movies</td>\n      <td>When an army recruit is found dead, his fellow...</td>\n    </tr>\n    <tr>\n      <th>s4</th>\n      <td>Movie</td>\n      <td>9</td>\n      <td>Shane Acker</td>\n      <td>Elijah Wood, John C. Reilly, Jennifer Connelly...</td>\n      <td>United States</td>\n      <td>November 16, 2017</td>\n      <td>2009-01-01</td>\n      <td>PG-13</td>\n      <td>80 min</td>\n      <td>Action &amp; Adventure, Independent Movies, Sci-Fi...</td>\n      <td>In a postapocalyptic world, rag-doll robots hi...</td>\n    </tr>\n    <tr>\n      <th>s5</th>\n      <td>Movie</td>\n      <td>21</td>\n      <td>Robert Luketic</td>\n      <td>Jim Sturgess, Kevin Spacey, Kate Bosworth, Aar...</td>\n      <td>United States</td>\n      <td>January 1, 2020</td>\n      <td>2008-01-01</td>\n      <td>PG-13</td>\n      <td>123 min</td>\n      <td>Dramas</td>\n      <td>A brilliant group of students become card-coun...</td>\n    </tr>\n  </tbody>\n</table>\n</div>"
     },
     "metadata": {},
     "execution_count": 69
    }
   ],
   "source": [
    "netflix.head()"
   ]
  },
  {
   "cell_type": "code",
   "execution_count": 70,
   "metadata": {},
   "outputs": [
    {
     "output_type": "execute_result",
     "data": {
      "text/plain": [
       "array(['type', 'title', 'director', 'cast', 'country', 'date_added',\n",
       "       'release_year', 'rating', 'duration', 'listed_in', 'description'],\n",
       "      dtype=object)"
      ]
     },
     "metadata": {},
     "execution_count": 70
    }
   ],
   "source": [
    "netflix.columns.values"
   ]
  },
  {
   "cell_type": "code",
   "execution_count": 71,
   "metadata": {},
   "outputs": [],
   "source": [
    "core_col = [\"type\",\"title\",\"rating\"]\n",
    "date_col = [\"date_added\",\"release_year\"]\n",
    "people_col=[\"director\",\"cast\"]\n",
    "other_col = [\"country\",\"duration\",\"listed_in\",\"description\"]"
   ]
  },
  {
   "cell_type": "code",
   "execution_count": 72,
   "metadata": {},
   "outputs": [],
   "source": [
    "new_col_order = core_col + people_col + date_col + other_col"
   ]
  },
  {
   "cell_type": "code",
   "execution_count": 73,
   "metadata": {},
   "outputs": [
    {
     "output_type": "execute_result",
     "data": {
      "text/plain": [
       "True"
      ]
     },
     "metadata": {},
     "execution_count": 73
    }
   ],
   "source": [
    "set(netflix.columns) == set(new_col_order) #check if we have left anything "
   ]
  },
  {
   "cell_type": "code",
   "execution_count": 74,
   "metadata": {},
   "outputs": [
    {
     "output_type": "execute_result",
     "data": {
      "text/plain": [
       "            type title rating           director  \\\n",
       "show_id                                            \n",
       "s1       TV Show    3%  TV-MA                NaN   \n",
       "s2         Movie  7:19  TV-MA  Jorge Michel Grau   \n",
       "\n",
       "                                                      cast         date_added  \\\n",
       "show_id                                                                         \n",
       "s1       João Miguel, Bianca Comparato, Michel Gomes, R...    August 14, 2020   \n",
       "s2       Demián Bichir, Héctor Bonilla, Oscar Serrano, ...  December 23, 2016   \n",
       "\n",
       "        release_year country   duration  \\\n",
       "show_id                                   \n",
       "s1        2020-01-01  Brazil  4 Seasons   \n",
       "s2        2016-01-01  Mexico     93 min   \n",
       "\n",
       "                                                 listed_in  \\\n",
       "show_id                                                      \n",
       "s1       International TV Shows, TV Dramas, TV Sci-Fi &...   \n",
       "s2                            Dramas, International Movies   \n",
       "\n",
       "                                               description  \n",
       "show_id                                                     \n",
       "s1       In a future where the elite inhabit an island ...  \n",
       "s2       After a devastating earthquake hits Mexico Cit...  "
      ],
      "text/html": "<div>\n<style scoped>\n    .dataframe tbody tr th:only-of-type {\n        vertical-align: middle;\n    }\n\n    .dataframe tbody tr th {\n        vertical-align: top;\n    }\n\n    .dataframe thead th {\n        text-align: right;\n    }\n</style>\n<table border=\"1\" class=\"dataframe\">\n  <thead>\n    <tr style=\"text-align: right;\">\n      <th></th>\n      <th>type</th>\n      <th>title</th>\n      <th>rating</th>\n      <th>director</th>\n      <th>cast</th>\n      <th>date_added</th>\n      <th>release_year</th>\n      <th>country</th>\n      <th>duration</th>\n      <th>listed_in</th>\n      <th>description</th>\n    </tr>\n    <tr>\n      <th>show_id</th>\n      <th></th>\n      <th></th>\n      <th></th>\n      <th></th>\n      <th></th>\n      <th></th>\n      <th></th>\n      <th></th>\n      <th></th>\n      <th></th>\n      <th></th>\n    </tr>\n  </thead>\n  <tbody>\n    <tr>\n      <th>s1</th>\n      <td>TV Show</td>\n      <td>3%</td>\n      <td>TV-MA</td>\n      <td>NaN</td>\n      <td>João Miguel, Bianca Comparato, Michel Gomes, R...</td>\n      <td>August 14, 2020</td>\n      <td>2020-01-01</td>\n      <td>Brazil</td>\n      <td>4 Seasons</td>\n      <td>International TV Shows, TV Dramas, TV Sci-Fi &amp;...</td>\n      <td>In a future where the elite inhabit an island ...</td>\n    </tr>\n    <tr>\n      <th>s2</th>\n      <td>Movie</td>\n      <td>7:19</td>\n      <td>TV-MA</td>\n      <td>Jorge Michel Grau</td>\n      <td>Demián Bichir, Héctor Bonilla, Oscar Serrano, ...</td>\n      <td>December 23, 2016</td>\n      <td>2016-01-01</td>\n      <td>Mexico</td>\n      <td>93 min</td>\n      <td>Dramas, International Movies</td>\n      <td>After a devastating earthquake hits Mexico Cit...</td>\n    </tr>\n  </tbody>\n</table>\n</div>"
     },
     "metadata": {},
     "execution_count": 74
    }
   ],
   "source": [
    "netflix_modified= netflix[new_col_order]\n",
    "netflix_modified.head(2)"
   ]
  },
  {
   "cell_type": "code",
   "execution_count": 75,
   "metadata": {},
   "outputs": [
    {
     "output_type": "execute_result",
     "data": {
      "text/plain": [
       "            type title           director  \\\n",
       "show_id                                     \n",
       "s1       TV Show    3%                NaN   \n",
       "s2         Movie  7:19  Jorge Michel Grau   \n",
       "\n",
       "                                                      cast country  \\\n",
       "show_id                                                              \n",
       "s1       João Miguel, Bianca Comparato, Michel Gomes, R...  Brazil   \n",
       "s2       Demián Bichir, Héctor Bonilla, Oscar Serrano, ...  Mexico   \n",
       "\n",
       "                date_added release_year rating   duration  \\\n",
       "show_id                                                     \n",
       "s1         August 14, 2020   2020-01-01  TV-MA  4 Seasons   \n",
       "s2       December 23, 2016   2016-01-01  TV-MA     93 min   \n",
       "\n",
       "                                                 listed_in  \\\n",
       "show_id                                                      \n",
       "s1       International TV Shows, TV Dramas, TV Sci-Fi &...   \n",
       "s2                            Dramas, International Movies   \n",
       "\n",
       "                                               description  \n",
       "show_id                                                     \n",
       "s1       In a future where the elite inhabit an island ...  \n",
       "s2       After a devastating earthquake hits Mexico Cit...  "
      ],
      "text/html": "<div>\n<style scoped>\n    .dataframe tbody tr th:only-of-type {\n        vertical-align: middle;\n    }\n\n    .dataframe tbody tr th {\n        vertical-align: top;\n    }\n\n    .dataframe thead th {\n        text-align: right;\n    }\n</style>\n<table border=\"1\" class=\"dataframe\">\n  <thead>\n    <tr style=\"text-align: right;\">\n      <th></th>\n      <th>type</th>\n      <th>title</th>\n      <th>director</th>\n      <th>cast</th>\n      <th>country</th>\n      <th>date_added</th>\n      <th>release_year</th>\n      <th>rating</th>\n      <th>duration</th>\n      <th>listed_in</th>\n      <th>description</th>\n    </tr>\n    <tr>\n      <th>show_id</th>\n      <th></th>\n      <th></th>\n      <th></th>\n      <th></th>\n      <th></th>\n      <th></th>\n      <th></th>\n      <th></th>\n      <th></th>\n      <th></th>\n      <th></th>\n    </tr>\n  </thead>\n  <tbody>\n    <tr>\n      <th>s1</th>\n      <td>TV Show</td>\n      <td>3%</td>\n      <td>NaN</td>\n      <td>João Miguel, Bianca Comparato, Michel Gomes, R...</td>\n      <td>Brazil</td>\n      <td>August 14, 2020</td>\n      <td>2020-01-01</td>\n      <td>TV-MA</td>\n      <td>4 Seasons</td>\n      <td>International TV Shows, TV Dramas, TV Sci-Fi &amp;...</td>\n      <td>In a future where the elite inhabit an island ...</td>\n    </tr>\n    <tr>\n      <th>s2</th>\n      <td>Movie</td>\n      <td>7:19</td>\n      <td>Jorge Michel Grau</td>\n      <td>Demián Bichir, Héctor Bonilla, Oscar Serrano, ...</td>\n      <td>Mexico</td>\n      <td>December 23, 2016</td>\n      <td>2016-01-01</td>\n      <td>TV-MA</td>\n      <td>93 min</td>\n      <td>Dramas, International Movies</td>\n      <td>After a devastating earthquake hits Mexico Cit...</td>\n    </tr>\n  </tbody>\n</table>\n</div>"
     },
     "metadata": {},
     "execution_count": 75
    }
   ],
   "source": [
    "netflix.head(2)"
   ]
  },
  {
   "cell_type": "code",
   "execution_count": 76,
   "metadata": {},
   "outputs": [
    {
     "output_type": "execute_result",
     "data": {
      "text/plain": [
       "   acousticness  danceability  duration_ms  energy  song_metric  \\\n",
       "0        0.0102         0.833       204600   0.434     0.021944   \n",
       "1        0.1990         0.743       326933   0.359     0.006943   \n",
       "2        0.0344         0.838       185707   0.412     0.000235   \n",
       "3        0.6040         0.494       199413   0.338     0.870010   \n",
       "4        0.1800         0.678       392893   0.561     0.458371   \n",
       "\n",
       "   instrumentalness  key  liveness  loudness  mode  speechiness    tempo  \\\n",
       "0          0.021900    2    0.1650    -8.795     1       0.4310  150.062   \n",
       "1          0.006110    1    0.1370   -10.401     1       0.0794  160.083   \n",
       "2          0.000234    2    0.1590    -7.148     1       0.2890   75.044   \n",
       "3          0.510000    5    0.0922   -15.236     1       0.0261   86.468   \n",
       "4          0.512000    5    0.4390   -11.648     0       0.0694  174.004   \n",
       "\n",
       "   time_signature  valence  target      song_title            artist  \n",
       "0             4.0    0.286       1        Mask Off            Future  \n",
       "1             4.0    0.588       1         Redbone  Childish Gambino  \n",
       "2             4.0    0.173       1    Xanny Family            Future  \n",
       "3             4.0    0.230       1  Master Of None       Beach House  \n",
       "4             4.0    0.904       1  Parallel Lines       Junior Boys  "
      ],
      "text/html": "<div>\n<style scoped>\n    .dataframe tbody tr th:only-of-type {\n        vertical-align: middle;\n    }\n\n    .dataframe tbody tr th {\n        vertical-align: top;\n    }\n\n    .dataframe thead th {\n        text-align: right;\n    }\n</style>\n<table border=\"1\" class=\"dataframe\">\n  <thead>\n    <tr style=\"text-align: right;\">\n      <th></th>\n      <th>acousticness</th>\n      <th>danceability</th>\n      <th>duration_ms</th>\n      <th>energy</th>\n      <th>song_metric</th>\n      <th>instrumentalness</th>\n      <th>key</th>\n      <th>liveness</th>\n      <th>loudness</th>\n      <th>mode</th>\n      <th>speechiness</th>\n      <th>tempo</th>\n      <th>time_signature</th>\n      <th>valence</th>\n      <th>target</th>\n      <th>song_title</th>\n      <th>artist</th>\n    </tr>\n  </thead>\n  <tbody>\n    <tr>\n      <th>0</th>\n      <td>0.0102</td>\n      <td>0.833</td>\n      <td>204600</td>\n      <td>0.434</td>\n      <td>0.021944</td>\n      <td>0.021900</td>\n      <td>2</td>\n      <td>0.1650</td>\n      <td>-8.795</td>\n      <td>1</td>\n      <td>0.4310</td>\n      <td>150.062</td>\n      <td>4.0</td>\n      <td>0.286</td>\n      <td>1</td>\n      <td>Mask Off</td>\n      <td>Future</td>\n    </tr>\n    <tr>\n      <th>1</th>\n      <td>0.1990</td>\n      <td>0.743</td>\n      <td>326933</td>\n      <td>0.359</td>\n      <td>0.006943</td>\n      <td>0.006110</td>\n      <td>1</td>\n      <td>0.1370</td>\n      <td>-10.401</td>\n      <td>1</td>\n      <td>0.0794</td>\n      <td>160.083</td>\n      <td>4.0</td>\n      <td>0.588</td>\n      <td>1</td>\n      <td>Redbone</td>\n      <td>Childish Gambino</td>\n    </tr>\n    <tr>\n      <th>2</th>\n      <td>0.0344</td>\n      <td>0.838</td>\n      <td>185707</td>\n      <td>0.412</td>\n      <td>0.000235</td>\n      <td>0.000234</td>\n      <td>2</td>\n      <td>0.1590</td>\n      <td>-7.148</td>\n      <td>1</td>\n      <td>0.2890</td>\n      <td>75.044</td>\n      <td>4.0</td>\n      <td>0.173</td>\n      <td>1</td>\n      <td>Xanny Family</td>\n      <td>Future</td>\n    </tr>\n    <tr>\n      <th>3</th>\n      <td>0.6040</td>\n      <td>0.494</td>\n      <td>199413</td>\n      <td>0.338</td>\n      <td>0.870010</td>\n      <td>0.510000</td>\n      <td>5</td>\n      <td>0.0922</td>\n      <td>-15.236</td>\n      <td>1</td>\n      <td>0.0261</td>\n      <td>86.468</td>\n      <td>4.0</td>\n      <td>0.230</td>\n      <td>1</td>\n      <td>Master Of None</td>\n      <td>Beach House</td>\n    </tr>\n    <tr>\n      <th>4</th>\n      <td>0.1800</td>\n      <td>0.678</td>\n      <td>392893</td>\n      <td>0.561</td>\n      <td>0.458371</td>\n      <td>0.512000</td>\n      <td>5</td>\n      <td>0.4390</td>\n      <td>-11.648</td>\n      <td>0</td>\n      <td>0.0694</td>\n      <td>174.004</td>\n      <td>4.0</td>\n      <td>0.904</td>\n      <td>1</td>\n      <td>Parallel Lines</td>\n      <td>Junior Boys</td>\n    </tr>\n  </tbody>\n</table>\n</div>"
     },
     "metadata": {},
     "execution_count": 76
    }
   ],
   "source": [
    "#DATAFRAME Operations\n",
    "spotify.head()"
   ]
  },
  {
   "cell_type": "code",
   "execution_count": 77,
   "metadata": {},
   "outputs": [
    {
     "output_type": "execute_result",
     "data": {
      "text/plain": [
       "(2017, 17)"
      ]
     },
     "metadata": {},
     "execution_count": 77
    }
   ],
   "source": [
    "spotify.shape"
   ]
  },
  {
   "cell_type": "code",
   "execution_count": 78,
   "metadata": {},
   "outputs": [
    {
     "output_type": "execute_result",
     "data": {
      "text/plain": [
       "34289"
      ]
     },
     "metadata": {},
     "execution_count": 78
    }
   ],
   "source": [
    "spotify.size"
   ]
  },
  {
   "cell_type": "code",
   "execution_count": 79,
   "metadata": {},
   "outputs": [
    {
     "output_type": "execute_result",
     "data": {
      "text/plain": [
       "2"
      ]
     },
     "metadata": {},
     "execution_count": 79
    }
   ],
   "source": [
    "spotify.ndim"
   ]
  },
  {
   "cell_type": "code",
   "execution_count": 80,
   "metadata": {},
   "outputs": [
    {
     "output_type": "execute_result",
     "data": {
      "text/plain": [
       "2017"
      ]
     },
     "metadata": {},
     "execution_count": 80
    }
   ],
   "source": [
    "len(spotify)"
   ]
  },
  {
   "cell_type": "code",
   "execution_count": 81,
   "metadata": {},
   "outputs": [
    {
     "output_type": "execute_result",
     "data": {
      "text/plain": [
       "acousticness        2017\n",
       "danceability        2017\n",
       "duration_ms         2017\n",
       "energy              2017\n",
       "song_metric         2017\n",
       "instrumentalness    2017\n",
       "key                 2017\n",
       "liveness            2017\n",
       "loudness            2017\n",
       "mode                2017\n",
       "speechiness         2017\n",
       "tempo               2017\n",
       "time_signature      2017\n",
       "valence             2017\n",
       "target              2017\n",
       "song_title          2017\n",
       "artist              2017\n",
       "dtype: int64"
      ]
     },
     "metadata": {},
     "execution_count": 81
    }
   ],
   "source": [
    "spotify.count()"
   ]
  },
  {
   "cell_type": "code",
   "execution_count": 82,
   "metadata": {},
   "outputs": [
    {
     "output_type": "execute_result",
     "data": {
      "text/plain": [
       "acousticness                                                 2.84e-06\n",
       "danceability                                                    0.122\n",
       "duration_ms                                                     16042\n",
       "energy                                                         0.0148\n",
       "song_metric                                                         0\n",
       "instrumentalness                                                    0\n",
       "key                                                                 0\n",
       "liveness                                                       0.0188\n",
       "loudness                                                      -33.097\n",
       "mode                                                                0\n",
       "speechiness                                                    0.0231\n",
       "tempo                                                          47.859\n",
       "time_signature                                                      1\n",
       "valence                                                        0.0348\n",
       "target                                                              0\n",
       "song_title          $ave Dat Money (feat. Fetty Wap & Rich Homie Q...\n",
       "artist                                                            !!!\n",
       "dtype: object"
      ]
     },
     "metadata": {},
     "execution_count": 82
    }
   ],
   "source": [
    "spotify.min()"
   ]
  },
  {
   "cell_type": "code",
   "execution_count": 83,
   "metadata": {},
   "outputs": [
    {
     "output_type": "execute_result",
     "data": {
      "text/plain": [
       "acousticness                                                 2.84e-06\n",
       "danceability                                                    0.122\n",
       "duration_ms                                                     16042\n",
       "energy                                                         0.0148\n",
       "song_metric                                                         0\n",
       "instrumentalness                                                    0\n",
       "key                                                                 0\n",
       "liveness                                                       0.0188\n",
       "loudness                                                      -33.097\n",
       "mode                                                                0\n",
       "speechiness                                                    0.0231\n",
       "tempo                                                          47.859\n",
       "time_signature                                                      1\n",
       "valence                                                        0.0348\n",
       "target                                                              0\n",
       "song_title          $ave Dat Money (feat. Fetty Wap & Rich Homie Q...\n",
       "artist                                                            !!!\n",
       "dtype: object"
      ]
     },
     "metadata": {},
     "execution_count": 83
    }
   ],
   "source": [
    "spotify.min()"
   ]
  },
  {
   "cell_type": "code",
   "execution_count": 84,
   "metadata": {},
   "outputs": [],
   "source": [
    "#if there is nan values in the data\n",
    "# spotify.min(skipna=False)"
   ]
  },
  {
   "cell_type": "code",
   "execution_count": 85,
   "metadata": {},
   "outputs": [
    {
     "output_type": "execute_result",
     "data": {
      "text/plain": [
       "                   count           mean           std           min  \\\n",
       "acousticness      2017.0       0.187590      0.259989      0.000003   \n",
       "danceability      2017.0       0.618422      0.161029      0.122000   \n",
       "duration_ms       2017.0  246306.197323  81981.814219  16042.000000   \n",
       "energy            2017.0       0.681577      0.210273      0.014800   \n",
       "song_metric       2017.0       0.190770      0.420677      0.000000   \n",
       "instrumentalness  2017.0       0.133286      0.273162      0.000000   \n",
       "key               2017.0       5.342588      3.648240      0.000000   \n",
       "liveness          2017.0       0.190844      0.155453      0.018800   \n",
       "loudness          2017.0      -7.085624      3.761684    -33.097000   \n",
       "mode              2017.0       0.612295      0.487347      0.000000   \n",
       "speechiness       2017.0       0.092664      0.089931      0.023100   \n",
       "tempo             2017.0     121.603272     26.685604     47.859000   \n",
       "time_signature    2017.0       3.968270      0.255853      1.000000   \n",
       "valence           2017.0       0.496815      0.247195      0.034800   \n",
       "target            2017.0       0.505702      0.500091      0.000000   \n",
       "\n",
       "                           25%            50%            75%           max  \n",
       "acousticness           0.00963       0.063300       0.265000  9.950000e-01  \n",
       "danceability           0.51400       0.631000       0.738000  9.840000e-01  \n",
       "duration_ms       200015.00000  229261.000000  270333.000000  1.004627e+06  \n",
       "energy                 0.56300       0.715000       0.846000  9.980000e-01  \n",
       "song_metric            0.00000       0.000097       0.068882  2.524218e+00  \n",
       "instrumentalness       0.00000       0.000076       0.054000  9.760000e-01  \n",
       "key                    2.00000       6.000000       9.000000  1.100000e+01  \n",
       "liveness               0.09230       0.127000       0.247000  9.690000e-01  \n",
       "loudness              -8.39400      -6.248000      -4.746000 -3.070000e-01  \n",
       "mode                   0.00000       1.000000       1.000000  1.000000e+00  \n",
       "speechiness            0.03750       0.054900       0.108000  8.160000e-01  \n",
       "tempo                100.18900     121.427000     137.849000  2.193310e+02  \n",
       "time_signature         4.00000       4.000000       4.000000  5.000000e+00  \n",
       "valence                0.29500       0.492000       0.691000  9.920000e-01  \n",
       "target                 0.00000       1.000000       1.000000  1.000000e+00  "
      ],
      "text/html": "<div>\n<style scoped>\n    .dataframe tbody tr th:only-of-type {\n        vertical-align: middle;\n    }\n\n    .dataframe tbody tr th {\n        vertical-align: top;\n    }\n\n    .dataframe thead th {\n        text-align: right;\n    }\n</style>\n<table border=\"1\" class=\"dataframe\">\n  <thead>\n    <tr style=\"text-align: right;\">\n      <th></th>\n      <th>count</th>\n      <th>mean</th>\n      <th>std</th>\n      <th>min</th>\n      <th>25%</th>\n      <th>50%</th>\n      <th>75%</th>\n      <th>max</th>\n    </tr>\n  </thead>\n  <tbody>\n    <tr>\n      <th>acousticness</th>\n      <td>2017.0</td>\n      <td>0.187590</td>\n      <td>0.259989</td>\n      <td>0.000003</td>\n      <td>0.00963</td>\n      <td>0.063300</td>\n      <td>0.265000</td>\n      <td>9.950000e-01</td>\n    </tr>\n    <tr>\n      <th>danceability</th>\n      <td>2017.0</td>\n      <td>0.618422</td>\n      <td>0.161029</td>\n      <td>0.122000</td>\n      <td>0.51400</td>\n      <td>0.631000</td>\n      <td>0.738000</td>\n      <td>9.840000e-01</td>\n    </tr>\n    <tr>\n      <th>duration_ms</th>\n      <td>2017.0</td>\n      <td>246306.197323</td>\n      <td>81981.814219</td>\n      <td>16042.000000</td>\n      <td>200015.00000</td>\n      <td>229261.000000</td>\n      <td>270333.000000</td>\n      <td>1.004627e+06</td>\n    </tr>\n    <tr>\n      <th>energy</th>\n      <td>2017.0</td>\n      <td>0.681577</td>\n      <td>0.210273</td>\n      <td>0.014800</td>\n      <td>0.56300</td>\n      <td>0.715000</td>\n      <td>0.846000</td>\n      <td>9.980000e-01</td>\n    </tr>\n    <tr>\n      <th>song_metric</th>\n      <td>2017.0</td>\n      <td>0.190770</td>\n      <td>0.420677</td>\n      <td>0.000000</td>\n      <td>0.00000</td>\n      <td>0.000097</td>\n      <td>0.068882</td>\n      <td>2.524218e+00</td>\n    </tr>\n    <tr>\n      <th>instrumentalness</th>\n      <td>2017.0</td>\n      <td>0.133286</td>\n      <td>0.273162</td>\n      <td>0.000000</td>\n      <td>0.00000</td>\n      <td>0.000076</td>\n      <td>0.054000</td>\n      <td>9.760000e-01</td>\n    </tr>\n    <tr>\n      <th>key</th>\n      <td>2017.0</td>\n      <td>5.342588</td>\n      <td>3.648240</td>\n      <td>0.000000</td>\n      <td>2.00000</td>\n      <td>6.000000</td>\n      <td>9.000000</td>\n      <td>1.100000e+01</td>\n    </tr>\n    <tr>\n      <th>liveness</th>\n      <td>2017.0</td>\n      <td>0.190844</td>\n      <td>0.155453</td>\n      <td>0.018800</td>\n      <td>0.09230</td>\n      <td>0.127000</td>\n      <td>0.247000</td>\n      <td>9.690000e-01</td>\n    </tr>\n    <tr>\n      <th>loudness</th>\n      <td>2017.0</td>\n      <td>-7.085624</td>\n      <td>3.761684</td>\n      <td>-33.097000</td>\n      <td>-8.39400</td>\n      <td>-6.248000</td>\n      <td>-4.746000</td>\n      <td>-3.070000e-01</td>\n    </tr>\n    <tr>\n      <th>mode</th>\n      <td>2017.0</td>\n      <td>0.612295</td>\n      <td>0.487347</td>\n      <td>0.000000</td>\n      <td>0.00000</td>\n      <td>1.000000</td>\n      <td>1.000000</td>\n      <td>1.000000e+00</td>\n    </tr>\n    <tr>\n      <th>speechiness</th>\n      <td>2017.0</td>\n      <td>0.092664</td>\n      <td>0.089931</td>\n      <td>0.023100</td>\n      <td>0.03750</td>\n      <td>0.054900</td>\n      <td>0.108000</td>\n      <td>8.160000e-01</td>\n    </tr>\n    <tr>\n      <th>tempo</th>\n      <td>2017.0</td>\n      <td>121.603272</td>\n      <td>26.685604</td>\n      <td>47.859000</td>\n      <td>100.18900</td>\n      <td>121.427000</td>\n      <td>137.849000</td>\n      <td>2.193310e+02</td>\n    </tr>\n    <tr>\n      <th>time_signature</th>\n      <td>2017.0</td>\n      <td>3.968270</td>\n      <td>0.255853</td>\n      <td>1.000000</td>\n      <td>4.00000</td>\n      <td>4.000000</td>\n      <td>4.000000</td>\n      <td>5.000000e+00</td>\n    </tr>\n    <tr>\n      <th>valence</th>\n      <td>2017.0</td>\n      <td>0.496815</td>\n      <td>0.247195</td>\n      <td>0.034800</td>\n      <td>0.29500</td>\n      <td>0.492000</td>\n      <td>0.691000</td>\n      <td>9.920000e-01</td>\n    </tr>\n    <tr>\n      <th>target</th>\n      <td>2017.0</td>\n      <td>0.505702</td>\n      <td>0.500091</td>\n      <td>0.000000</td>\n      <td>0.00000</td>\n      <td>1.000000</td>\n      <td>1.000000</td>\n      <td>1.000000e+00</td>\n    </tr>\n  </tbody>\n</table>\n</div>"
     },
     "metadata": {},
     "execution_count": 85
    }
   ],
   "source": [
    "spotify.describe().T"
   ]
  },
  {
   "cell_type": "code",
   "execution_count": 86,
   "metadata": {},
   "outputs": [
    {
     "output_type": "execute_result",
     "data": {
      "text/plain": [
       "                   count           mean           std           min  \\\n",
       "acousticness      2017.0       0.187590      0.259989      0.000003   \n",
       "danceability      2017.0       0.618422      0.161029      0.122000   \n",
       "duration_ms       2017.0  246306.197323  81981.814219  16042.000000   \n",
       "energy            2017.0       0.681577      0.210273      0.014800   \n",
       "song_metric       2017.0       0.190770      0.420677      0.000000   \n",
       "instrumentalness  2017.0       0.133286      0.273162      0.000000   \n",
       "key               2017.0       5.342588      3.648240      0.000000   \n",
       "liveness          2017.0       0.190844      0.155453      0.018800   \n",
       "loudness          2017.0      -7.085624      3.761684    -33.097000   \n",
       "mode              2017.0       0.612295      0.487347      0.000000   \n",
       "speechiness       2017.0       0.092664      0.089931      0.023100   \n",
       "tempo             2017.0     121.603272     26.685604     47.859000   \n",
       "time_signature    2017.0       3.968270      0.255853      1.000000   \n",
       "valence           2017.0       0.496815      0.247195      0.034800   \n",
       "target            2017.0       0.505702      0.500091      0.000000   \n",
       "\n",
       "                             1%             3%             9%            50%  \\\n",
       "acousticness           0.000021       0.000086       0.000944       0.063300   \n",
       "danceability           0.211000       0.283480       0.388440       0.631000   \n",
       "duration_ms       114169.800000  145738.680000  175497.600000  229261.000000   \n",
       "energy                 0.057708       0.148960       0.393440       0.715000   \n",
       "song_metric            0.000000       0.000000       0.000000       0.000097   \n",
       "instrumentalness       0.000000       0.000000       0.000000       0.000076   \n",
       "key                    0.000000       0.000000       0.000000       6.000000   \n",
       "liveness               0.037864       0.050196       0.067000       0.127000   \n",
       "loudness             -21.852120     -16.717520     -11.470960      -6.248000   \n",
       "mode                   0.000000       0.000000       0.000000       1.000000   \n",
       "speechiness            0.026400       0.027800       0.030700       0.054900   \n",
       "tempo                 72.527840      77.955280      87.726040     121.427000   \n",
       "time_signature         3.000000       3.000000       4.000000       4.000000   \n",
       "valence                0.055060       0.085596       0.157880       0.492000   \n",
       "target                 0.000000       0.000000       0.000000       1.000000   \n",
       "\n",
       "                           max  \n",
       "acousticness      9.950000e-01  \n",
       "danceability      9.840000e-01  \n",
       "duration_ms       1.004627e+06  \n",
       "energy            9.980000e-01  \n",
       "song_metric       2.524218e+00  \n",
       "instrumentalness  9.760000e-01  \n",
       "key               1.100000e+01  \n",
       "liveness          9.690000e-01  \n",
       "loudness         -3.070000e-01  \n",
       "mode              1.000000e+00  \n",
       "speechiness       8.160000e-01  \n",
       "tempo             2.193310e+02  \n",
       "time_signature    5.000000e+00  \n",
       "valence           9.920000e-01  \n",
       "target            1.000000e+00  "
      ],
      "text/html": "<div>\n<style scoped>\n    .dataframe tbody tr th:only-of-type {\n        vertical-align: middle;\n    }\n\n    .dataframe tbody tr th {\n        vertical-align: top;\n    }\n\n    .dataframe thead th {\n        text-align: right;\n    }\n</style>\n<table border=\"1\" class=\"dataframe\">\n  <thead>\n    <tr style=\"text-align: right;\">\n      <th></th>\n      <th>count</th>\n      <th>mean</th>\n      <th>std</th>\n      <th>min</th>\n      <th>1%</th>\n      <th>3%</th>\n      <th>9%</th>\n      <th>50%</th>\n      <th>max</th>\n    </tr>\n  </thead>\n  <tbody>\n    <tr>\n      <th>acousticness</th>\n      <td>2017.0</td>\n      <td>0.187590</td>\n      <td>0.259989</td>\n      <td>0.000003</td>\n      <td>0.000021</td>\n      <td>0.000086</td>\n      <td>0.000944</td>\n      <td>0.063300</td>\n      <td>9.950000e-01</td>\n    </tr>\n    <tr>\n      <th>danceability</th>\n      <td>2017.0</td>\n      <td>0.618422</td>\n      <td>0.161029</td>\n      <td>0.122000</td>\n      <td>0.211000</td>\n      <td>0.283480</td>\n      <td>0.388440</td>\n      <td>0.631000</td>\n      <td>9.840000e-01</td>\n    </tr>\n    <tr>\n      <th>duration_ms</th>\n      <td>2017.0</td>\n      <td>246306.197323</td>\n      <td>81981.814219</td>\n      <td>16042.000000</td>\n      <td>114169.800000</td>\n      <td>145738.680000</td>\n      <td>175497.600000</td>\n      <td>229261.000000</td>\n      <td>1.004627e+06</td>\n    </tr>\n    <tr>\n      <th>energy</th>\n      <td>2017.0</td>\n      <td>0.681577</td>\n      <td>0.210273</td>\n      <td>0.014800</td>\n      <td>0.057708</td>\n      <td>0.148960</td>\n      <td>0.393440</td>\n      <td>0.715000</td>\n      <td>9.980000e-01</td>\n    </tr>\n    <tr>\n      <th>song_metric</th>\n      <td>2017.0</td>\n      <td>0.190770</td>\n      <td>0.420677</td>\n      <td>0.000000</td>\n      <td>0.000000</td>\n      <td>0.000000</td>\n      <td>0.000000</td>\n      <td>0.000097</td>\n      <td>2.524218e+00</td>\n    </tr>\n    <tr>\n      <th>instrumentalness</th>\n      <td>2017.0</td>\n      <td>0.133286</td>\n      <td>0.273162</td>\n      <td>0.000000</td>\n      <td>0.000000</td>\n      <td>0.000000</td>\n      <td>0.000000</td>\n      <td>0.000076</td>\n      <td>9.760000e-01</td>\n    </tr>\n    <tr>\n      <th>key</th>\n      <td>2017.0</td>\n      <td>5.342588</td>\n      <td>3.648240</td>\n      <td>0.000000</td>\n      <td>0.000000</td>\n      <td>0.000000</td>\n      <td>0.000000</td>\n      <td>6.000000</td>\n      <td>1.100000e+01</td>\n    </tr>\n    <tr>\n      <th>liveness</th>\n      <td>2017.0</td>\n      <td>0.190844</td>\n      <td>0.155453</td>\n      <td>0.018800</td>\n      <td>0.037864</td>\n      <td>0.050196</td>\n      <td>0.067000</td>\n      <td>0.127000</td>\n      <td>9.690000e-01</td>\n    </tr>\n    <tr>\n      <th>loudness</th>\n      <td>2017.0</td>\n      <td>-7.085624</td>\n      <td>3.761684</td>\n      <td>-33.097000</td>\n      <td>-21.852120</td>\n      <td>-16.717520</td>\n      <td>-11.470960</td>\n      <td>-6.248000</td>\n      <td>-3.070000e-01</td>\n    </tr>\n    <tr>\n      <th>mode</th>\n      <td>2017.0</td>\n      <td>0.612295</td>\n      <td>0.487347</td>\n      <td>0.000000</td>\n      <td>0.000000</td>\n      <td>0.000000</td>\n      <td>0.000000</td>\n      <td>1.000000</td>\n      <td>1.000000e+00</td>\n    </tr>\n    <tr>\n      <th>speechiness</th>\n      <td>2017.0</td>\n      <td>0.092664</td>\n      <td>0.089931</td>\n      <td>0.023100</td>\n      <td>0.026400</td>\n      <td>0.027800</td>\n      <td>0.030700</td>\n      <td>0.054900</td>\n      <td>8.160000e-01</td>\n    </tr>\n    <tr>\n      <th>tempo</th>\n      <td>2017.0</td>\n      <td>121.603272</td>\n      <td>26.685604</td>\n      <td>47.859000</td>\n      <td>72.527840</td>\n      <td>77.955280</td>\n      <td>87.726040</td>\n      <td>121.427000</td>\n      <td>2.193310e+02</td>\n    </tr>\n    <tr>\n      <th>time_signature</th>\n      <td>2017.0</td>\n      <td>3.968270</td>\n      <td>0.255853</td>\n      <td>1.000000</td>\n      <td>3.000000</td>\n      <td>3.000000</td>\n      <td>4.000000</td>\n      <td>4.000000</td>\n      <td>5.000000e+00</td>\n    </tr>\n    <tr>\n      <th>valence</th>\n      <td>2017.0</td>\n      <td>0.496815</td>\n      <td>0.247195</td>\n      <td>0.034800</td>\n      <td>0.055060</td>\n      <td>0.085596</td>\n      <td>0.157880</td>\n      <td>0.492000</td>\n      <td>9.920000e-01</td>\n    </tr>\n    <tr>\n      <th>target</th>\n      <td>2017.0</td>\n      <td>0.505702</td>\n      <td>0.500091</td>\n      <td>0.000000</td>\n      <td>0.000000</td>\n      <td>0.000000</td>\n      <td>0.000000</td>\n      <td>1.000000</td>\n      <td>1.000000e+00</td>\n    </tr>\n  </tbody>\n</table>\n</div>"
     },
     "metadata": {},
     "execution_count": 86
    }
   ],
   "source": [
    "spotify.describe(percentiles=[.01,.03,.09]).T"
   ]
  },
  {
   "source": [
    "## DataFrame Chaninig Methods"
   ],
   "cell_type": "markdown",
   "metadata": {}
  },
  {
   "cell_type": "code",
   "execution_count": 87,
   "metadata": {},
   "outputs": [
    {
     "output_type": "execute_result",
     "data": {
      "text/plain": [
       "type           0\n",
       "title          0\n",
       "director    2389\n",
       "cast         718\n",
       "country      507\n",
       "dtype: int64"
      ]
     },
     "metadata": {},
     "execution_count": 87
    }
   ],
   "source": [
    "netflix.isnull().sum().head(5)"
   ]
  },
  {
   "cell_type": "code",
   "execution_count": 88,
   "metadata": {},
   "outputs": [
    {
     "output_type": "execute_result",
     "data": {
      "text/plain": [
       "3631"
      ]
     },
     "metadata": {},
     "execution_count": 88
    }
   ],
   "source": [
    "netflix.isnull().sum().sum()"
   ]
  },
  {
   "cell_type": "code",
   "execution_count": 89,
   "metadata": {},
   "outputs": [
    {
     "output_type": "execute_result",
     "data": {
      "text/plain": [
       "True"
      ]
     },
     "metadata": {},
     "execution_count": 89
    }
   ],
   "source": [
    "netflix.isnull().any().any() #Has null values"
   ]
  },
  {
   "cell_type": "code",
   "execution_count": 90,
   "metadata": {},
   "outputs": [
    {
     "output_type": "execute_result",
     "data": {
      "text/plain": [
       "False"
      ]
     },
     "metadata": {},
     "execution_count": 90
    }
   ],
   "source": [
    "spotify.isnull().any().any() #Don't have any null values"
   ]
  },
  {
   "cell_type": "code",
   "execution_count": 91,
   "metadata": {},
   "outputs": [
    {
     "output_type": "execute_result",
     "data": {
      "text/plain": [
       "bool    11\n",
       "dtype: int64"
      ]
     },
     "metadata": {},
     "execution_count": 91
    }
   ],
   "source": [
    "netflix.isnull().dtypes.value_counts()"
   ]
  },
  {
   "source": [
    "## Comparing missing values"
   ],
   "cell_type": "markdown",
   "metadata": {}
  },
  {
   "cell_type": "code",
   "execution_count": 92,
   "metadata": {},
   "outputs": [],
   "source": [
    "import numpy as np"
   ]
  },
  {
   "cell_type": "code",
   "execution_count": 93,
   "metadata": {},
   "outputs": [
    {
     "output_type": "execute_result",
     "data": {
      "text/plain": [
       "False"
      ]
     },
     "metadata": {},
     "execution_count": 93
    }
   ],
   "source": [
    "np.nan == np.nan"
   ]
  },
  {
   "cell_type": "code",
   "execution_count": 94,
   "metadata": {},
   "outputs": [
    {
     "output_type": "execute_result",
     "data": {
      "text/plain": [
       "True"
      ]
     },
     "metadata": {},
     "execution_count": 94
    }
   ],
   "source": [
    "None == None"
   ]
  },
  {
   "cell_type": "code",
   "execution_count": 95,
   "metadata": {},
   "outputs": [
    {
     "output_type": "execute_result",
     "data": {
      "text/plain": [
       "(False, False, True)"
      ]
     },
     "metadata": {},
     "execution_count": 95
    }
   ],
   "source": [
    "# Comparison against np.nan, also return False\n",
    "np.nan>5, np.nan<5, np.nan!=5"
   ]
  },
  {
   "cell_type": "code",
   "execution_count": 96,
   "metadata": {},
   "outputs": [],
   "source": [
    "netflix2 = netflix.copy()"
   ]
  },
  {
   "cell_type": "code",
   "execution_count": 97,
   "metadata": {},
   "outputs": [],
   "source": [
    "netflix_compare = netflix == netflix2"
   ]
  },
  {
   "cell_type": "code",
   "execution_count": 98,
   "metadata": {},
   "outputs": [
    {
     "output_type": "execute_result",
     "data": {
      "text/plain": [
       "         type  title  director  cast  country  date_added  release_year  \\\n",
       "show_id                                                                   \n",
       "s1       True   True     False  True     True        True          True   \n",
       "s2       True   True      True  True     True        True          True   \n",
       "s3       True   True      True  True     True        True          True   \n",
       "s4       True   True      True  True     True        True          True   \n",
       "s5       True   True      True  True     True        True          True   \n",
       "\n",
       "         rating  duration  listed_in  description  \n",
       "show_id                                            \n",
       "s1         True      True       True         True  \n",
       "s2         True      True       True         True  \n",
       "s3         True      True       True         True  \n",
       "s4         True      True       True         True  \n",
       "s5         True      True       True         True  "
      ],
      "text/html": "<div>\n<style scoped>\n    .dataframe tbody tr th:only-of-type {\n        vertical-align: middle;\n    }\n\n    .dataframe tbody tr th {\n        vertical-align: top;\n    }\n\n    .dataframe thead th {\n        text-align: right;\n    }\n</style>\n<table border=\"1\" class=\"dataframe\">\n  <thead>\n    <tr style=\"text-align: right;\">\n      <th></th>\n      <th>type</th>\n      <th>title</th>\n      <th>director</th>\n      <th>cast</th>\n      <th>country</th>\n      <th>date_added</th>\n      <th>release_year</th>\n      <th>rating</th>\n      <th>duration</th>\n      <th>listed_in</th>\n      <th>description</th>\n    </tr>\n    <tr>\n      <th>show_id</th>\n      <th></th>\n      <th></th>\n      <th></th>\n      <th></th>\n      <th></th>\n      <th></th>\n      <th></th>\n      <th></th>\n      <th></th>\n      <th></th>\n      <th></th>\n    </tr>\n  </thead>\n  <tbody>\n    <tr>\n      <th>s1</th>\n      <td>True</td>\n      <td>True</td>\n      <td>False</td>\n      <td>True</td>\n      <td>True</td>\n      <td>True</td>\n      <td>True</td>\n      <td>True</td>\n      <td>True</td>\n      <td>True</td>\n      <td>True</td>\n    </tr>\n    <tr>\n      <th>s2</th>\n      <td>True</td>\n      <td>True</td>\n      <td>True</td>\n      <td>True</td>\n      <td>True</td>\n      <td>True</td>\n      <td>True</td>\n      <td>True</td>\n      <td>True</td>\n      <td>True</td>\n      <td>True</td>\n    </tr>\n    <tr>\n      <th>s3</th>\n      <td>True</td>\n      <td>True</td>\n      <td>True</td>\n      <td>True</td>\n      <td>True</td>\n      <td>True</td>\n      <td>True</td>\n      <td>True</td>\n      <td>True</td>\n      <td>True</td>\n      <td>True</td>\n    </tr>\n    <tr>\n      <th>s4</th>\n      <td>True</td>\n      <td>True</td>\n      <td>True</td>\n      <td>True</td>\n      <td>True</td>\n      <td>True</td>\n      <td>True</td>\n      <td>True</td>\n      <td>True</td>\n      <td>True</td>\n      <td>True</td>\n    </tr>\n    <tr>\n      <th>s5</th>\n      <td>True</td>\n      <td>True</td>\n      <td>True</td>\n      <td>True</td>\n      <td>True</td>\n      <td>True</td>\n      <td>True</td>\n      <td>True</td>\n      <td>True</td>\n      <td>True</td>\n      <td>True</td>\n    </tr>\n  </tbody>\n</table>\n</div>"
     },
     "metadata": {},
     "execution_count": 98
    }
   ],
   "source": [
    "netflix_compare.head()"
   ]
  },
  {
   "cell_type": "code",
   "execution_count": 99,
   "metadata": {},
   "outputs": [
    {
     "output_type": "execute_result",
     "data": {
      "text/plain": [
       "type             True\n",
       "title            True\n",
       "director        False\n",
       "cast            False\n",
       "country         False\n",
       "date_added      False\n",
       "release_year     True\n",
       "rating          False\n",
       "duration         True\n",
       "listed_in        True\n",
       "description      True\n",
       "dtype: bool"
      ]
     },
     "metadata": {},
     "execution_count": 99
    }
   ],
   "source": [
    "netflix_compare.all() #However using the all method to determine if each column conatins only True values yields an unexpected result"
   ]
  },
  {
   "cell_type": "code",
   "execution_count": 100,
   "metadata": {},
   "outputs": [
    {
     "output_type": "execute_result",
     "data": {
      "text/plain": [
       "True"
      ]
     },
     "metadata": {},
     "execution_count": 100
    }
   ],
   "source": [
    "#Correct way to compare the dataframes\n",
    "netflix2.equals(netflix)"
   ]
  },
  {
   "source": [
    "## Transpoing the direction of a DataFrame operation"
   ],
   "cell_type": "markdown",
   "metadata": {}
  },
  {
   "cell_type": "code",
   "execution_count": 101,
   "metadata": {},
   "outputs": [
    {
     "output_type": "execute_result",
     "data": {
      "text/plain": [
       "            type title           director  \\\n",
       "show_id                                     \n",
       "s1       TV Show    3%                NaN   \n",
       "s2         Movie  7:19  Jorge Michel Grau   \n",
       "\n",
       "                                                      cast country  \\\n",
       "show_id                                                              \n",
       "s1       João Miguel, Bianca Comparato, Michel Gomes, R...  Brazil   \n",
       "s2       Demián Bichir, Héctor Bonilla, Oscar Serrano, ...  Mexico   \n",
       "\n",
       "                date_added release_year rating   duration  \\\n",
       "show_id                                                     \n",
       "s1         August 14, 2020   2020-01-01  TV-MA  4 Seasons   \n",
       "s2       December 23, 2016   2016-01-01  TV-MA     93 min   \n",
       "\n",
       "                                                 listed_in  \\\n",
       "show_id                                                      \n",
       "s1       International TV Shows, TV Dramas, TV Sci-Fi &...   \n",
       "s2                            Dramas, International Movies   \n",
       "\n",
       "                                               description  \n",
       "show_id                                                     \n",
       "s1       In a future where the elite inhabit an island ...  \n",
       "s2       After a devastating earthquake hits Mexico Cit...  "
      ],
      "text/html": "<div>\n<style scoped>\n    .dataframe tbody tr th:only-of-type {\n        vertical-align: middle;\n    }\n\n    .dataframe tbody tr th {\n        vertical-align: top;\n    }\n\n    .dataframe thead th {\n        text-align: right;\n    }\n</style>\n<table border=\"1\" class=\"dataframe\">\n  <thead>\n    <tr style=\"text-align: right;\">\n      <th></th>\n      <th>type</th>\n      <th>title</th>\n      <th>director</th>\n      <th>cast</th>\n      <th>country</th>\n      <th>date_added</th>\n      <th>release_year</th>\n      <th>rating</th>\n      <th>duration</th>\n      <th>listed_in</th>\n      <th>description</th>\n    </tr>\n    <tr>\n      <th>show_id</th>\n      <th></th>\n      <th></th>\n      <th></th>\n      <th></th>\n      <th></th>\n      <th></th>\n      <th></th>\n      <th></th>\n      <th></th>\n      <th></th>\n      <th></th>\n    </tr>\n  </thead>\n  <tbody>\n    <tr>\n      <th>s1</th>\n      <td>TV Show</td>\n      <td>3%</td>\n      <td>NaN</td>\n      <td>João Miguel, Bianca Comparato, Michel Gomes, R...</td>\n      <td>Brazil</td>\n      <td>August 14, 2020</td>\n      <td>2020-01-01</td>\n      <td>TV-MA</td>\n      <td>4 Seasons</td>\n      <td>International TV Shows, TV Dramas, TV Sci-Fi &amp;...</td>\n      <td>In a future where the elite inhabit an island ...</td>\n    </tr>\n    <tr>\n      <th>s2</th>\n      <td>Movie</td>\n      <td>7:19</td>\n      <td>Jorge Michel Grau</td>\n      <td>Demián Bichir, Héctor Bonilla, Oscar Serrano, ...</td>\n      <td>Mexico</td>\n      <td>December 23, 2016</td>\n      <td>2016-01-01</td>\n      <td>TV-MA</td>\n      <td>93 min</td>\n      <td>Dramas, International Movies</td>\n      <td>After a devastating earthquake hits Mexico Cit...</td>\n    </tr>\n  </tbody>\n</table>\n</div>"
     },
     "metadata": {},
     "execution_count": 101
    }
   ],
   "source": [
    "netflix.head(2)"
   ]
  },
  {
   "cell_type": "code",
   "execution_count": 102,
   "metadata": {},
   "outputs": [],
   "source": [
    "netflix.set_index('title',inplace=True)"
   ]
  },
  {
   "cell_type": "code",
   "execution_count": 103,
   "metadata": {},
   "outputs": [
    {
     "output_type": "execute_result",
     "data": {
      "text/plain": [
       "          type           director  \\\n",
       "title                               \n",
       "3%     TV Show                NaN   \n",
       "7:19     Movie  Jorge Michel Grau   \n",
       "23:59    Movie       Gilbert Chan   \n",
       "9        Movie        Shane Acker   \n",
       "21       Movie     Robert Luketic   \n",
       "\n",
       "                                                    cast        country  \\\n",
       "title                                                                     \n",
       "3%     João Miguel, Bianca Comparato, Michel Gomes, R...         Brazil   \n",
       "7:19   Demián Bichir, Héctor Bonilla, Oscar Serrano, ...         Mexico   \n",
       "23:59  Tedd Chan, Stella Chung, Henley Hii, Lawrence ...      Singapore   \n",
       "9      Elijah Wood, John C. Reilly, Jennifer Connelly...  United States   \n",
       "21     Jim Sturgess, Kevin Spacey, Kate Bosworth, Aar...  United States   \n",
       "\n",
       "              date_added release_year rating   duration  \\\n",
       "title                                                     \n",
       "3%       August 14, 2020   2020-01-01  TV-MA  4 Seasons   \n",
       "7:19   December 23, 2016   2016-01-01  TV-MA     93 min   \n",
       "23:59  December 20, 2018   2011-01-01      R     78 min   \n",
       "9      November 16, 2017   2009-01-01  PG-13     80 min   \n",
       "21       January 1, 2020   2008-01-01  PG-13    123 min   \n",
       "\n",
       "                                               listed_in  \\\n",
       "title                                                      \n",
       "3%     International TV Shows, TV Dramas, TV Sci-Fi &...   \n",
       "7:19                        Dramas, International Movies   \n",
       "23:59                Horror Movies, International Movies   \n",
       "9      Action & Adventure, Independent Movies, Sci-Fi...   \n",
       "21                                                Dramas   \n",
       "\n",
       "                                             description  \n",
       "title                                                     \n",
       "3%     In a future where the elite inhabit an island ...  \n",
       "7:19   After a devastating earthquake hits Mexico Cit...  \n",
       "23:59  When an army recruit is found dead, his fellow...  \n",
       "9      In a postapocalyptic world, rag-doll robots hi...  \n",
       "21     A brilliant group of students become card-coun...  "
      ],
      "text/html": "<div>\n<style scoped>\n    .dataframe tbody tr th:only-of-type {\n        vertical-align: middle;\n    }\n\n    .dataframe tbody tr th {\n        vertical-align: top;\n    }\n\n    .dataframe thead th {\n        text-align: right;\n    }\n</style>\n<table border=\"1\" class=\"dataframe\">\n  <thead>\n    <tr style=\"text-align: right;\">\n      <th></th>\n      <th>type</th>\n      <th>director</th>\n      <th>cast</th>\n      <th>country</th>\n      <th>date_added</th>\n      <th>release_year</th>\n      <th>rating</th>\n      <th>duration</th>\n      <th>listed_in</th>\n      <th>description</th>\n    </tr>\n    <tr>\n      <th>title</th>\n      <th></th>\n      <th></th>\n      <th></th>\n      <th></th>\n      <th></th>\n      <th></th>\n      <th></th>\n      <th></th>\n      <th></th>\n      <th></th>\n    </tr>\n  </thead>\n  <tbody>\n    <tr>\n      <th>3%</th>\n      <td>TV Show</td>\n      <td>NaN</td>\n      <td>João Miguel, Bianca Comparato, Michel Gomes, R...</td>\n      <td>Brazil</td>\n      <td>August 14, 2020</td>\n      <td>2020-01-01</td>\n      <td>TV-MA</td>\n      <td>4 Seasons</td>\n      <td>International TV Shows, TV Dramas, TV Sci-Fi &amp;...</td>\n      <td>In a future where the elite inhabit an island ...</td>\n    </tr>\n    <tr>\n      <th>7:19</th>\n      <td>Movie</td>\n      <td>Jorge Michel Grau</td>\n      <td>Demián Bichir, Héctor Bonilla, Oscar Serrano, ...</td>\n      <td>Mexico</td>\n      <td>December 23, 2016</td>\n      <td>2016-01-01</td>\n      <td>TV-MA</td>\n      <td>93 min</td>\n      <td>Dramas, International Movies</td>\n      <td>After a devastating earthquake hits Mexico Cit...</td>\n    </tr>\n    <tr>\n      <th>23:59</th>\n      <td>Movie</td>\n      <td>Gilbert Chan</td>\n      <td>Tedd Chan, Stella Chung, Henley Hii, Lawrence ...</td>\n      <td>Singapore</td>\n      <td>December 20, 2018</td>\n      <td>2011-01-01</td>\n      <td>R</td>\n      <td>78 min</td>\n      <td>Horror Movies, International Movies</td>\n      <td>When an army recruit is found dead, his fellow...</td>\n    </tr>\n    <tr>\n      <th>9</th>\n      <td>Movie</td>\n      <td>Shane Acker</td>\n      <td>Elijah Wood, John C. Reilly, Jennifer Connelly...</td>\n      <td>United States</td>\n      <td>November 16, 2017</td>\n      <td>2009-01-01</td>\n      <td>PG-13</td>\n      <td>80 min</td>\n      <td>Action &amp; Adventure, Independent Movies, Sci-Fi...</td>\n      <td>In a postapocalyptic world, rag-doll robots hi...</td>\n    </tr>\n    <tr>\n      <th>21</th>\n      <td>Movie</td>\n      <td>Robert Luketic</td>\n      <td>Jim Sturgess, Kevin Spacey, Kate Bosworth, Aar...</td>\n      <td>United States</td>\n      <td>January 1, 2020</td>\n      <td>2008-01-01</td>\n      <td>PG-13</td>\n      <td>123 min</td>\n      <td>Dramas</td>\n      <td>A brilliant group of students become card-coun...</td>\n    </tr>\n  </tbody>\n</table>\n</div>"
     },
     "metadata": {},
     "execution_count": 103
    }
   ],
   "source": [
    "netflix.head()"
   ]
  },
  {
   "cell_type": "code",
   "execution_count": 104,
   "metadata": {},
   "outputs": [
    {
     "output_type": "execute_result",
     "data": {
      "text/plain": [
       "title\n",
       "Zozo                                       10\n",
       "Zubaan                                     10\n",
       "Zulu Man in Japan                           8\n",
       "Zumbo's Just Desserts                       9\n",
       "ZZ TOP: THAT LITTLE OL' BAND FROM TEXAS     9\n",
       "dtype: int64"
      ]
     },
     "metadata": {},
     "execution_count": 104
    }
   ],
   "source": [
    "netflix.count(axis=1).tail(5) #Has a count of non-missing values (1=column, 0=index)"
   ]
  },
  {
   "source": [
    "## End of Code !"
   ],
   "cell_type": "markdown",
   "metadata": {}
  }
 ]
}