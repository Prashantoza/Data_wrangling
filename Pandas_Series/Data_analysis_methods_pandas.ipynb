{
 "metadata": {
  "language_info": {
   "codemirror_mode": {
    "name": "ipython",
    "version": 3
   },
   "file_extension": ".py",
   "mimetype": "text/x-python",
   "name": "python",
   "nbconvert_exporter": "python",
   "pygments_lexer": "ipython3",
   "version": "3.8.5"
  },
  "orig_nbformat": 2,
  "kernelspec": {
   "name": "python385jvsc74a57bd0b3ba2566441a7c06988d0923437866b63cedc61552a5af99d1f4fb67d367b25f",
   "display_name": "Python 3.8.5 64-bit ('base': conda)"
  },
  "metadata": {
   "interpreter": {
    "hash": "f23377a8b136574be0446ea178e62af42b81697c864020af43a785bbd1853bae"
   }
  }
 },
 "nbformat": 4,
 "nbformat_minor": 2,
 "cells": [
  {
   "source": [
    "# DATA ANALYSIS USING PANDAS"
   ],
   "cell_type": "markdown",
   "metadata": {}
  },
  {
   "cell_type": "code",
   "execution_count": 1,
   "metadata": {},
   "outputs": [],
   "source": [
    "#importing required libraries\n",
    "import pandas as pd \n",
    "import numpy as np"
   ]
  },
  {
   "cell_type": "code",
   "execution_count": 2,
   "metadata": {},
   "outputs": [],
   "source": [
    "#Loading the data using read function\n",
    "netflix = pd.read_csv(r\"C:\\Users\\Prashant\\Documents\\GitHub\\Data_wrangling\\Pandas_Series\\/netflix_titles.csv\", parse_dates=[\"release_year\"],index_col=\"show_id\")\n",
    "spotify = pd.read_csv(r\"C:\\Users\\Prashant\\Documents\\GitHub\\Data_wrangling\\Pandas_Series\\Spotify.csv\", index_col=\"Unnamed: 0\")"
   ]
  },
  {
   "cell_type": "code",
   "execution_count": 3,
   "metadata": {},
   "outputs": [
    {
     "output_type": "execute_result",
     "data": {
      "text/plain": [
       "            type  title           director  \\\n",
       "show_id                                      \n",
       "s1       TV Show     3%                NaN   \n",
       "s2         Movie   7:19  Jorge Michel Grau   \n",
       "s3         Movie  23:59       Gilbert Chan   \n",
       "s4         Movie      9        Shane Acker   \n",
       "s5         Movie     21     Robert Luketic   \n",
       "\n",
       "                                                      cast        country  \\\n",
       "show_id                                                                     \n",
       "s1       João Miguel, Bianca Comparato, Michel Gomes, R...         Brazil   \n",
       "s2       Demián Bichir, Héctor Bonilla, Oscar Serrano, ...         Mexico   \n",
       "s3       Tedd Chan, Stella Chung, Henley Hii, Lawrence ...      Singapore   \n",
       "s4       Elijah Wood, John C. Reilly, Jennifer Connelly...  United States   \n",
       "s5       Jim Sturgess, Kevin Spacey, Kate Bosworth, Aar...  United States   \n",
       "\n",
       "                date_added release_year rating   duration  \\\n",
       "show_id                                                     \n",
       "s1         August 14, 2020   2020-01-01  TV-MA  4 Seasons   \n",
       "s2       December 23, 2016   2016-01-01  TV-MA     93 min   \n",
       "s3       December 20, 2018   2011-01-01      R     78 min   \n",
       "s4       November 16, 2017   2009-01-01  PG-13     80 min   \n",
       "s5         January 1, 2020   2008-01-01  PG-13    123 min   \n",
       "\n",
       "                                                 listed_in  \\\n",
       "show_id                                                      \n",
       "s1       International TV Shows, TV Dramas, TV Sci-Fi &...   \n",
       "s2                            Dramas, International Movies   \n",
       "s3                     Horror Movies, International Movies   \n",
       "s4       Action & Adventure, Independent Movies, Sci-Fi...   \n",
       "s5                                                  Dramas   \n",
       "\n",
       "                                               description  \n",
       "show_id                                                     \n",
       "s1       In a future where the elite inhabit an island ...  \n",
       "s2       After a devastating earthquake hits Mexico Cit...  \n",
       "s3       When an army recruit is found dead, his fellow...  \n",
       "s4       In a postapocalyptic world, rag-doll robots hi...  \n",
       "s5       A brilliant group of students become card-coun...  "
      ],
      "text/html": "<div>\n<style scoped>\n    .dataframe tbody tr th:only-of-type {\n        vertical-align: middle;\n    }\n\n    .dataframe tbody tr th {\n        vertical-align: top;\n    }\n\n    .dataframe thead th {\n        text-align: right;\n    }\n</style>\n<table border=\"1\" class=\"dataframe\">\n  <thead>\n    <tr style=\"text-align: right;\">\n      <th></th>\n      <th>type</th>\n      <th>title</th>\n      <th>director</th>\n      <th>cast</th>\n      <th>country</th>\n      <th>date_added</th>\n      <th>release_year</th>\n      <th>rating</th>\n      <th>duration</th>\n      <th>listed_in</th>\n      <th>description</th>\n    </tr>\n    <tr>\n      <th>show_id</th>\n      <th></th>\n      <th></th>\n      <th></th>\n      <th></th>\n      <th></th>\n      <th></th>\n      <th></th>\n      <th></th>\n      <th></th>\n      <th></th>\n      <th></th>\n    </tr>\n  </thead>\n  <tbody>\n    <tr>\n      <th>s1</th>\n      <td>TV Show</td>\n      <td>3%</td>\n      <td>NaN</td>\n      <td>João Miguel, Bianca Comparato, Michel Gomes, R...</td>\n      <td>Brazil</td>\n      <td>August 14, 2020</td>\n      <td>2020-01-01</td>\n      <td>TV-MA</td>\n      <td>4 Seasons</td>\n      <td>International TV Shows, TV Dramas, TV Sci-Fi &amp;...</td>\n      <td>In a future where the elite inhabit an island ...</td>\n    </tr>\n    <tr>\n      <th>s2</th>\n      <td>Movie</td>\n      <td>7:19</td>\n      <td>Jorge Michel Grau</td>\n      <td>Demián Bichir, Héctor Bonilla, Oscar Serrano, ...</td>\n      <td>Mexico</td>\n      <td>December 23, 2016</td>\n      <td>2016-01-01</td>\n      <td>TV-MA</td>\n      <td>93 min</td>\n      <td>Dramas, International Movies</td>\n      <td>After a devastating earthquake hits Mexico Cit...</td>\n    </tr>\n    <tr>\n      <th>s3</th>\n      <td>Movie</td>\n      <td>23:59</td>\n      <td>Gilbert Chan</td>\n      <td>Tedd Chan, Stella Chung, Henley Hii, Lawrence ...</td>\n      <td>Singapore</td>\n      <td>December 20, 2018</td>\n      <td>2011-01-01</td>\n      <td>R</td>\n      <td>78 min</td>\n      <td>Horror Movies, International Movies</td>\n      <td>When an army recruit is found dead, his fellow...</td>\n    </tr>\n    <tr>\n      <th>s4</th>\n      <td>Movie</td>\n      <td>9</td>\n      <td>Shane Acker</td>\n      <td>Elijah Wood, John C. Reilly, Jennifer Connelly...</td>\n      <td>United States</td>\n      <td>November 16, 2017</td>\n      <td>2009-01-01</td>\n      <td>PG-13</td>\n      <td>80 min</td>\n      <td>Action &amp; Adventure, Independent Movies, Sci-Fi...</td>\n      <td>In a postapocalyptic world, rag-doll robots hi...</td>\n    </tr>\n    <tr>\n      <th>s5</th>\n      <td>Movie</td>\n      <td>21</td>\n      <td>Robert Luketic</td>\n      <td>Jim Sturgess, Kevin Spacey, Kate Bosworth, Aar...</td>\n      <td>United States</td>\n      <td>January 1, 2020</td>\n      <td>2008-01-01</td>\n      <td>PG-13</td>\n      <td>123 min</td>\n      <td>Dramas</td>\n      <td>A brilliant group of students become card-coun...</td>\n    </tr>\n  </tbody>\n</table>\n</div>"
     },
     "metadata": {},
     "execution_count": 3
    }
   ],
   "source": [
    "netflix.head()"
   ]
  },
  {
   "cell_type": "code",
   "execution_count": 4,
   "metadata": {},
   "outputs": [
    {
     "output_type": "execute_result",
     "data": {
      "text/plain": [
       "   acousticness  danceability  duration_ms  energy  instrumentalness  key  \\\n",
       "0        0.0102         0.833       204600   0.434          0.021900    2   \n",
       "1        0.1990         0.743       326933   0.359          0.006110    1   \n",
       "2        0.0344         0.838       185707   0.412          0.000234    2   \n",
       "3        0.6040         0.494       199413   0.338          0.510000    5   \n",
       "4        0.1800         0.678       392893   0.561          0.512000    5   \n",
       "\n",
       "   liveness  loudness  mode  speechiness    tempo  time_signature  valence  \\\n",
       "0    0.1650    -8.795     1       0.4310  150.062             4.0    0.286   \n",
       "1    0.1370   -10.401     1       0.0794  160.083             4.0    0.588   \n",
       "2    0.1590    -7.148     1       0.2890   75.044             4.0    0.173   \n",
       "3    0.0922   -15.236     1       0.0261   86.468             4.0    0.230   \n",
       "4    0.4390   -11.648     0       0.0694  174.004             4.0    0.904   \n",
       "\n",
       "   target      song_title            artist  \n",
       "0       1        Mask Off            Future  \n",
       "1       1         Redbone  Childish Gambino  \n",
       "2       1    Xanny Family            Future  \n",
       "3       1  Master Of None       Beach House  \n",
       "4       1  Parallel Lines       Junior Boys  "
      ],
      "text/html": "<div>\n<style scoped>\n    .dataframe tbody tr th:only-of-type {\n        vertical-align: middle;\n    }\n\n    .dataframe tbody tr th {\n        vertical-align: top;\n    }\n\n    .dataframe thead th {\n        text-align: right;\n    }\n</style>\n<table border=\"1\" class=\"dataframe\">\n  <thead>\n    <tr style=\"text-align: right;\">\n      <th></th>\n      <th>acousticness</th>\n      <th>danceability</th>\n      <th>duration_ms</th>\n      <th>energy</th>\n      <th>instrumentalness</th>\n      <th>key</th>\n      <th>liveness</th>\n      <th>loudness</th>\n      <th>mode</th>\n      <th>speechiness</th>\n      <th>tempo</th>\n      <th>time_signature</th>\n      <th>valence</th>\n      <th>target</th>\n      <th>song_title</th>\n      <th>artist</th>\n    </tr>\n  </thead>\n  <tbody>\n    <tr>\n      <th>0</th>\n      <td>0.0102</td>\n      <td>0.833</td>\n      <td>204600</td>\n      <td>0.434</td>\n      <td>0.021900</td>\n      <td>2</td>\n      <td>0.1650</td>\n      <td>-8.795</td>\n      <td>1</td>\n      <td>0.4310</td>\n      <td>150.062</td>\n      <td>4.0</td>\n      <td>0.286</td>\n      <td>1</td>\n      <td>Mask Off</td>\n      <td>Future</td>\n    </tr>\n    <tr>\n      <th>1</th>\n      <td>0.1990</td>\n      <td>0.743</td>\n      <td>326933</td>\n      <td>0.359</td>\n      <td>0.006110</td>\n      <td>1</td>\n      <td>0.1370</td>\n      <td>-10.401</td>\n      <td>1</td>\n      <td>0.0794</td>\n      <td>160.083</td>\n      <td>4.0</td>\n      <td>0.588</td>\n      <td>1</td>\n      <td>Redbone</td>\n      <td>Childish Gambino</td>\n    </tr>\n    <tr>\n      <th>2</th>\n      <td>0.0344</td>\n      <td>0.838</td>\n      <td>185707</td>\n      <td>0.412</td>\n      <td>0.000234</td>\n      <td>2</td>\n      <td>0.1590</td>\n      <td>-7.148</td>\n      <td>1</td>\n      <td>0.2890</td>\n      <td>75.044</td>\n      <td>4.0</td>\n      <td>0.173</td>\n      <td>1</td>\n      <td>Xanny Family</td>\n      <td>Future</td>\n    </tr>\n    <tr>\n      <th>3</th>\n      <td>0.6040</td>\n      <td>0.494</td>\n      <td>199413</td>\n      <td>0.338</td>\n      <td>0.510000</td>\n      <td>5</td>\n      <td>0.0922</td>\n      <td>-15.236</td>\n      <td>1</td>\n      <td>0.0261</td>\n      <td>86.468</td>\n      <td>4.0</td>\n      <td>0.230</td>\n      <td>1</td>\n      <td>Master Of None</td>\n      <td>Beach House</td>\n    </tr>\n    <tr>\n      <th>4</th>\n      <td>0.1800</td>\n      <td>0.678</td>\n      <td>392893</td>\n      <td>0.561</td>\n      <td>0.512000</td>\n      <td>5</td>\n      <td>0.4390</td>\n      <td>-11.648</td>\n      <td>0</td>\n      <td>0.0694</td>\n      <td>174.004</td>\n      <td>4.0</td>\n      <td>0.904</td>\n      <td>1</td>\n      <td>Parallel Lines</td>\n      <td>Junior Boys</td>\n    </tr>\n  </tbody>\n</table>\n</div>"
     },
     "metadata": {},
     "execution_count": 4
    }
   ],
   "source": [
    "spotify.head()"
   ]
  },
  {
   "cell_type": "code",
   "execution_count": 5,
   "metadata": {},
   "outputs": [
    {
     "output_type": "execute_result",
     "data": {
      "text/plain": [
       "(7787, 11)"
      ]
     },
     "metadata": {},
     "execution_count": 5
    }
   ],
   "source": [
    "netflix.shape"
   ]
  },
  {
   "cell_type": "code",
   "execution_count": 6,
   "metadata": {},
   "outputs": [
    {
     "output_type": "stream",
     "name": "stdout",
     "text": [
      "<class 'pandas.core.frame.DataFrame'>\nIndex: 7787 entries, s1 to s7787\nData columns (total 11 columns):\n #   Column        Non-Null Count  Dtype         \n---  ------        --------------  -----         \n 0   type          7787 non-null   object        \n 1   title         7787 non-null   object        \n 2   director      5398 non-null   object        \n 3   cast          7069 non-null   object        \n 4   country       7280 non-null   object        \n 5   date_added    7777 non-null   object        \n 6   release_year  7787 non-null   datetime64[ns]\n 7   rating        7780 non-null   object        \n 8   duration      7787 non-null   object        \n 9   listed_in     7787 non-null   object        \n 10  description   7787 non-null   object        \ndtypes: datetime64[ns](1), object(10)\nmemory usage: 730.0+ KB\n"
     ]
    }
   ],
   "source": [
    "netflix.info()"
   ]
  },
  {
   "cell_type": "code",
   "execution_count": 7,
   "metadata": {},
   "outputs": [],
   "source": [
    "#netflix.describe(include=[np.number]).T \n",
    "#this gives an eroor not object to concatenate"
   ]
  },
  {
   "cell_type": "code",
   "execution_count": 8,
   "metadata": {},
   "outputs": [
    {
     "output_type": "execute_result",
     "data": {
      "text/plain": [
       "                   count           mean           std           min  \\\n",
       "acousticness      2017.0       0.187590      0.259989      0.000003   \n",
       "danceability      2017.0       0.618422      0.161029      0.122000   \n",
       "duration_ms       2017.0  246306.197323  81981.814219  16042.000000   \n",
       "energy            2017.0       0.681577      0.210273      0.014800   \n",
       "instrumentalness  2017.0       0.133286      0.273162      0.000000   \n",
       "key               2017.0       5.342588      3.648240      0.000000   \n",
       "liveness          2017.0       0.190844      0.155453      0.018800   \n",
       "loudness          2017.0      -7.085624      3.761684    -33.097000   \n",
       "mode              2017.0       0.612295      0.487347      0.000000   \n",
       "speechiness       2017.0       0.092664      0.089931      0.023100   \n",
       "tempo             2017.0     121.603272     26.685604     47.859000   \n",
       "time_signature    2017.0       3.968270      0.255853      1.000000   \n",
       "valence           2017.0       0.496815      0.247195      0.034800   \n",
       "target            2017.0       0.505702      0.500091      0.000000   \n",
       "\n",
       "                           25%            50%         75%          max  \n",
       "acousticness           0.00963       0.063300       0.265        0.995  \n",
       "danceability           0.51400       0.631000       0.738        0.984  \n",
       "duration_ms       200015.00000  229261.000000  270333.000  1004627.000  \n",
       "energy                 0.56300       0.715000       0.846        0.998  \n",
       "instrumentalness       0.00000       0.000076       0.054        0.976  \n",
       "key                    2.00000       6.000000       9.000       11.000  \n",
       "liveness               0.09230       0.127000       0.247        0.969  \n",
       "loudness              -8.39400      -6.248000      -4.746       -0.307  \n",
       "mode                   0.00000       1.000000       1.000        1.000  \n",
       "speechiness            0.03750       0.054900       0.108        0.816  \n",
       "tempo                100.18900     121.427000     137.849      219.331  \n",
       "time_signature         4.00000       4.000000       4.000        5.000  \n",
       "valence                0.29500       0.492000       0.691        0.992  \n",
       "target                 0.00000       1.000000       1.000        1.000  "
      ],
      "text/html": "<div>\n<style scoped>\n    .dataframe tbody tr th:only-of-type {\n        vertical-align: middle;\n    }\n\n    .dataframe tbody tr th {\n        vertical-align: top;\n    }\n\n    .dataframe thead th {\n        text-align: right;\n    }\n</style>\n<table border=\"1\" class=\"dataframe\">\n  <thead>\n    <tr style=\"text-align: right;\">\n      <th></th>\n      <th>count</th>\n      <th>mean</th>\n      <th>std</th>\n      <th>min</th>\n      <th>25%</th>\n      <th>50%</th>\n      <th>75%</th>\n      <th>max</th>\n    </tr>\n  </thead>\n  <tbody>\n    <tr>\n      <th>acousticness</th>\n      <td>2017.0</td>\n      <td>0.187590</td>\n      <td>0.259989</td>\n      <td>0.000003</td>\n      <td>0.00963</td>\n      <td>0.063300</td>\n      <td>0.265</td>\n      <td>0.995</td>\n    </tr>\n    <tr>\n      <th>danceability</th>\n      <td>2017.0</td>\n      <td>0.618422</td>\n      <td>0.161029</td>\n      <td>0.122000</td>\n      <td>0.51400</td>\n      <td>0.631000</td>\n      <td>0.738</td>\n      <td>0.984</td>\n    </tr>\n    <tr>\n      <th>duration_ms</th>\n      <td>2017.0</td>\n      <td>246306.197323</td>\n      <td>81981.814219</td>\n      <td>16042.000000</td>\n      <td>200015.00000</td>\n      <td>229261.000000</td>\n      <td>270333.000</td>\n      <td>1004627.000</td>\n    </tr>\n    <tr>\n      <th>energy</th>\n      <td>2017.0</td>\n      <td>0.681577</td>\n      <td>0.210273</td>\n      <td>0.014800</td>\n      <td>0.56300</td>\n      <td>0.715000</td>\n      <td>0.846</td>\n      <td>0.998</td>\n    </tr>\n    <tr>\n      <th>instrumentalness</th>\n      <td>2017.0</td>\n      <td>0.133286</td>\n      <td>0.273162</td>\n      <td>0.000000</td>\n      <td>0.00000</td>\n      <td>0.000076</td>\n      <td>0.054</td>\n      <td>0.976</td>\n    </tr>\n    <tr>\n      <th>key</th>\n      <td>2017.0</td>\n      <td>5.342588</td>\n      <td>3.648240</td>\n      <td>0.000000</td>\n      <td>2.00000</td>\n      <td>6.000000</td>\n      <td>9.000</td>\n      <td>11.000</td>\n    </tr>\n    <tr>\n      <th>liveness</th>\n      <td>2017.0</td>\n      <td>0.190844</td>\n      <td>0.155453</td>\n      <td>0.018800</td>\n      <td>0.09230</td>\n      <td>0.127000</td>\n      <td>0.247</td>\n      <td>0.969</td>\n    </tr>\n    <tr>\n      <th>loudness</th>\n      <td>2017.0</td>\n      <td>-7.085624</td>\n      <td>3.761684</td>\n      <td>-33.097000</td>\n      <td>-8.39400</td>\n      <td>-6.248000</td>\n      <td>-4.746</td>\n      <td>-0.307</td>\n    </tr>\n    <tr>\n      <th>mode</th>\n      <td>2017.0</td>\n      <td>0.612295</td>\n      <td>0.487347</td>\n      <td>0.000000</td>\n      <td>0.00000</td>\n      <td>1.000000</td>\n      <td>1.000</td>\n      <td>1.000</td>\n    </tr>\n    <tr>\n      <th>speechiness</th>\n      <td>2017.0</td>\n      <td>0.092664</td>\n      <td>0.089931</td>\n      <td>0.023100</td>\n      <td>0.03750</td>\n      <td>0.054900</td>\n      <td>0.108</td>\n      <td>0.816</td>\n    </tr>\n    <tr>\n      <th>tempo</th>\n      <td>2017.0</td>\n      <td>121.603272</td>\n      <td>26.685604</td>\n      <td>47.859000</td>\n      <td>100.18900</td>\n      <td>121.427000</td>\n      <td>137.849</td>\n      <td>219.331</td>\n    </tr>\n    <tr>\n      <th>time_signature</th>\n      <td>2017.0</td>\n      <td>3.968270</td>\n      <td>0.255853</td>\n      <td>1.000000</td>\n      <td>4.00000</td>\n      <td>4.000000</td>\n      <td>4.000</td>\n      <td>5.000</td>\n    </tr>\n    <tr>\n      <th>valence</th>\n      <td>2017.0</td>\n      <td>0.496815</td>\n      <td>0.247195</td>\n      <td>0.034800</td>\n      <td>0.29500</td>\n      <td>0.492000</td>\n      <td>0.691</td>\n      <td>0.992</td>\n    </tr>\n    <tr>\n      <th>target</th>\n      <td>2017.0</td>\n      <td>0.505702</td>\n      <td>0.500091</td>\n      <td>0.000000</td>\n      <td>0.00000</td>\n      <td>1.000000</td>\n      <td>1.000</td>\n      <td>1.000</td>\n    </tr>\n  </tbody>\n</table>\n</div>"
     },
     "metadata": {},
     "execution_count": 8
    }
   ],
   "source": [
    "spotify.describe(include=[np.number]).T #Transpose the DataFrame to get the more readable output"
   ]
  },
  {
   "cell_type": "code",
   "execution_count": 9,
   "metadata": {},
   "outputs": [
    {
     "output_type": "execute_result",
     "data": {
      "text/plain": [
       "           count unique    top freq\n",
       "song_title  2017   1956  River    3\n",
       "artist      2017   1343  Drake   16"
      ],
      "text/html": "<div>\n<style scoped>\n    .dataframe tbody tr th:only-of-type {\n        vertical-align: middle;\n    }\n\n    .dataframe tbody tr th {\n        vertical-align: top;\n    }\n\n    .dataframe thead th {\n        text-align: right;\n    }\n</style>\n<table border=\"1\" class=\"dataframe\">\n  <thead>\n    <tr style=\"text-align: right;\">\n      <th></th>\n      <th>count</th>\n      <th>unique</th>\n      <th>top</th>\n      <th>freq</th>\n    </tr>\n  </thead>\n  <tbody>\n    <tr>\n      <th>song_title</th>\n      <td>2017</td>\n      <td>1956</td>\n      <td>River</td>\n      <td>3</td>\n    </tr>\n    <tr>\n      <th>artist</th>\n      <td>2017</td>\n      <td>1343</td>\n      <td>Drake</td>\n      <td>16</td>\n    </tr>\n  </tbody>\n</table>\n</div>"
     },
     "metadata": {},
     "execution_count": 9
    }
   ],
   "source": [
    "spotify.describe(include=object).T"
   ]
  },
  {
   "cell_type": "code",
   "execution_count": 10,
   "metadata": {},
   "outputs": [
    {
     "output_type": "execute_result",
     "data": {
      "text/plain": [
       "            count unique                                                top  \\\n",
       "type         7787      2                                              Movie   \n",
       "title        7787   7787                    Cinderella and the Four Knights   \n",
       "director     5398   4049                             Raúl Campos, Jan Suter   \n",
       "cast         7069   6831                                 David Attenborough   \n",
       "country      7280    681                                      United States   \n",
       "date_added   7777   1565                                    January 1, 2020   \n",
       "rating       7780     14                                              TV-MA   \n",
       "duration     7787    216                                           1 Season   \n",
       "listed_in    7787    492                                      Documentaries   \n",
       "description  7787   7769  A surly septuagenarian gets another chance at ...   \n",
       "\n",
       "             freq  \n",
       "type         5377  \n",
       "title           1  \n",
       "director       18  \n",
       "cast           18  \n",
       "country      2555  \n",
       "date_added    118  \n",
       "rating       2863  \n",
       "duration     1608  \n",
       "listed_in     334  \n",
       "description     3  "
      ],
      "text/html": "<div>\n<style scoped>\n    .dataframe tbody tr th:only-of-type {\n        vertical-align: middle;\n    }\n\n    .dataframe tbody tr th {\n        vertical-align: top;\n    }\n\n    .dataframe thead th {\n        text-align: right;\n    }\n</style>\n<table border=\"1\" class=\"dataframe\">\n  <thead>\n    <tr style=\"text-align: right;\">\n      <th></th>\n      <th>count</th>\n      <th>unique</th>\n      <th>top</th>\n      <th>freq</th>\n    </tr>\n  </thead>\n  <tbody>\n    <tr>\n      <th>type</th>\n      <td>7787</td>\n      <td>2</td>\n      <td>Movie</td>\n      <td>5377</td>\n    </tr>\n    <tr>\n      <th>title</th>\n      <td>7787</td>\n      <td>7787</td>\n      <td>Cinderella and the Four Knights</td>\n      <td>1</td>\n    </tr>\n    <tr>\n      <th>director</th>\n      <td>5398</td>\n      <td>4049</td>\n      <td>Raúl Campos, Jan Suter</td>\n      <td>18</td>\n    </tr>\n    <tr>\n      <th>cast</th>\n      <td>7069</td>\n      <td>6831</td>\n      <td>David Attenborough</td>\n      <td>18</td>\n    </tr>\n    <tr>\n      <th>country</th>\n      <td>7280</td>\n      <td>681</td>\n      <td>United States</td>\n      <td>2555</td>\n    </tr>\n    <tr>\n      <th>date_added</th>\n      <td>7777</td>\n      <td>1565</td>\n      <td>January 1, 2020</td>\n      <td>118</td>\n    </tr>\n    <tr>\n      <th>rating</th>\n      <td>7780</td>\n      <td>14</td>\n      <td>TV-MA</td>\n      <td>2863</td>\n    </tr>\n    <tr>\n      <th>duration</th>\n      <td>7787</td>\n      <td>216</td>\n      <td>1 Season</td>\n      <td>1608</td>\n    </tr>\n    <tr>\n      <th>listed_in</th>\n      <td>7787</td>\n      <td>492</td>\n      <td>Documentaries</td>\n      <td>334</td>\n    </tr>\n    <tr>\n      <th>description</th>\n      <td>7787</td>\n      <td>7769</td>\n      <td>A surly septuagenarian gets another chance at ...</td>\n      <td>3</td>\n    </tr>\n  </tbody>\n</table>\n</div>"
     },
     "metadata": {},
     "execution_count": 10
    }
   ],
   "source": [
    "netflix.describe(include=[object, pd.Categorical]).T"
   ]
  },
  {
   "cell_type": "code",
   "execution_count": 11,
   "metadata": {},
   "outputs": [
    {
     "output_type": "execute_result",
     "data": {
      "text/plain": [
       "                   count           mean           std           min  \\\n",
       "acousticness      2017.0       0.187590      0.259989      0.000003   \n",
       "danceability      2017.0       0.618422      0.161029      0.122000   \n",
       "duration_ms       2017.0  246306.197323  81981.814219  16042.000000   \n",
       "energy            2017.0       0.681577      0.210273      0.014800   \n",
       "instrumentalness  2017.0       0.133286      0.273162      0.000000   \n",
       "key               2017.0       5.342588      3.648240      0.000000   \n",
       "liveness          2017.0       0.190844      0.155453      0.018800   \n",
       "loudness          2017.0      -7.085624      3.761684    -33.097000   \n",
       "mode              2017.0       0.612295      0.487347      0.000000   \n",
       "speechiness       2017.0       0.092664      0.089931      0.023100   \n",
       "tempo             2017.0     121.603272     26.685604     47.859000   \n",
       "time_signature    2017.0       3.968270      0.255853      1.000000   \n",
       "valence           2017.0       0.496815      0.247195      0.034800   \n",
       "target            2017.0       0.505702      0.500091      0.000000   \n",
       "\n",
       "                             1%             5%            10%           25%  \\\n",
       "acousticness           0.000021       0.000298       0.001166       0.00963   \n",
       "danceability           0.211000       0.326800       0.401000       0.51400   \n",
       "duration_ms       114169.800000  156863.200000  176650.200000  200015.00000   \n",
       "energy                 0.057708       0.253800       0.409600       0.56300   \n",
       "instrumentalness       0.000000       0.000000       0.000000       0.00000   \n",
       "key                    0.000000       0.000000       0.000000       2.00000   \n",
       "liveness               0.037864       0.056740       0.069220       0.09230   \n",
       "loudness             -21.852120     -14.152600     -11.164800      -8.39400   \n",
       "mode                   0.000000       0.000000       0.000000       0.00000   \n",
       "speechiness            0.026400       0.028900       0.031200       0.03750   \n",
       "tempo                 72.527840      80.953400      89.184600     100.18900   \n",
       "time_signature         3.000000       4.000000       4.000000       4.00000   \n",
       "valence                0.055060       0.111000       0.166000       0.29500   \n",
       "target                 0.000000       0.000000       0.000000       0.00000   \n",
       "\n",
       "                            50%         75%          90%          95%  \\\n",
       "acousticness           0.063300       0.265       0.6278       0.8462   \n",
       "danceability           0.631000       0.738       0.8194       0.8580   \n",
       "duration_ms       229261.000000  270333.000  332968.0000  393475.0000   \n",
       "energy                 0.715000       0.846       0.9194       0.9520   \n",
       "instrumentalness       0.000076       0.054       0.6866       0.8522   \n",
       "key                    6.000000       9.000      10.0000      11.0000   \n",
       "liveness               0.127000       0.247       0.3820       0.5380   \n",
       "loudness              -6.248000      -4.746      -3.6586      -3.0672   \n",
       "mode                   1.000000       1.000       1.0000       1.0000   \n",
       "speechiness            0.054900       0.108       0.2174       0.3100   \n",
       "tempo                121.427000     137.849     159.1010     171.9306   \n",
       "time_signature         4.000000       4.000       4.0000       4.0000   \n",
       "valence                0.492000       0.691       0.8444       0.9092   \n",
       "target                 1.000000       1.000       1.0000       1.0000   \n",
       "\n",
       "                           99%          max  \n",
       "acousticness           0.97100        0.995  \n",
       "danceability           0.91200        0.984  \n",
       "duration_ms       574149.28000  1004627.000  \n",
       "energy                 0.98500        0.998  \n",
       "instrumentalness       0.93184        0.976  \n",
       "key                   11.00000       11.000  \n",
       "liveness               0.76756        0.969  \n",
       "loudness              -1.92304       -0.307  \n",
       "mode                   1.00000        1.000  \n",
       "speechiness            0.42084        0.816  \n",
       "tempo                189.98288      219.331  \n",
       "time_signature         5.00000        5.000  \n",
       "valence                0.96400        0.992  \n",
       "target                 1.00000        1.000  "
      ],
      "text/html": "<div>\n<style scoped>\n    .dataframe tbody tr th:only-of-type {\n        vertical-align: middle;\n    }\n\n    .dataframe tbody tr th {\n        vertical-align: top;\n    }\n\n    .dataframe thead th {\n        text-align: right;\n    }\n</style>\n<table border=\"1\" class=\"dataframe\">\n  <thead>\n    <tr style=\"text-align: right;\">\n      <th></th>\n      <th>count</th>\n      <th>mean</th>\n      <th>std</th>\n      <th>min</th>\n      <th>1%</th>\n      <th>5%</th>\n      <th>10%</th>\n      <th>25%</th>\n      <th>50%</th>\n      <th>75%</th>\n      <th>90%</th>\n      <th>95%</th>\n      <th>99%</th>\n      <th>max</th>\n    </tr>\n  </thead>\n  <tbody>\n    <tr>\n      <th>acousticness</th>\n      <td>2017.0</td>\n      <td>0.187590</td>\n      <td>0.259989</td>\n      <td>0.000003</td>\n      <td>0.000021</td>\n      <td>0.000298</td>\n      <td>0.001166</td>\n      <td>0.00963</td>\n      <td>0.063300</td>\n      <td>0.265</td>\n      <td>0.6278</td>\n      <td>0.8462</td>\n      <td>0.97100</td>\n      <td>0.995</td>\n    </tr>\n    <tr>\n      <th>danceability</th>\n      <td>2017.0</td>\n      <td>0.618422</td>\n      <td>0.161029</td>\n      <td>0.122000</td>\n      <td>0.211000</td>\n      <td>0.326800</td>\n      <td>0.401000</td>\n      <td>0.51400</td>\n      <td>0.631000</td>\n      <td>0.738</td>\n      <td>0.8194</td>\n      <td>0.8580</td>\n      <td>0.91200</td>\n      <td>0.984</td>\n    </tr>\n    <tr>\n      <th>duration_ms</th>\n      <td>2017.0</td>\n      <td>246306.197323</td>\n      <td>81981.814219</td>\n      <td>16042.000000</td>\n      <td>114169.800000</td>\n      <td>156863.200000</td>\n      <td>176650.200000</td>\n      <td>200015.00000</td>\n      <td>229261.000000</td>\n      <td>270333.000</td>\n      <td>332968.0000</td>\n      <td>393475.0000</td>\n      <td>574149.28000</td>\n      <td>1004627.000</td>\n    </tr>\n    <tr>\n      <th>energy</th>\n      <td>2017.0</td>\n      <td>0.681577</td>\n      <td>0.210273</td>\n      <td>0.014800</td>\n      <td>0.057708</td>\n      <td>0.253800</td>\n      <td>0.409600</td>\n      <td>0.56300</td>\n      <td>0.715000</td>\n      <td>0.846</td>\n      <td>0.9194</td>\n      <td>0.9520</td>\n      <td>0.98500</td>\n      <td>0.998</td>\n    </tr>\n    <tr>\n      <th>instrumentalness</th>\n      <td>2017.0</td>\n      <td>0.133286</td>\n      <td>0.273162</td>\n      <td>0.000000</td>\n      <td>0.000000</td>\n      <td>0.000000</td>\n      <td>0.000000</td>\n      <td>0.00000</td>\n      <td>0.000076</td>\n      <td>0.054</td>\n      <td>0.6866</td>\n      <td>0.8522</td>\n      <td>0.93184</td>\n      <td>0.976</td>\n    </tr>\n    <tr>\n      <th>key</th>\n      <td>2017.0</td>\n      <td>5.342588</td>\n      <td>3.648240</td>\n      <td>0.000000</td>\n      <td>0.000000</td>\n      <td>0.000000</td>\n      <td>0.000000</td>\n      <td>2.00000</td>\n      <td>6.000000</td>\n      <td>9.000</td>\n      <td>10.0000</td>\n      <td>11.0000</td>\n      <td>11.00000</td>\n      <td>11.000</td>\n    </tr>\n    <tr>\n      <th>liveness</th>\n      <td>2017.0</td>\n      <td>0.190844</td>\n      <td>0.155453</td>\n      <td>0.018800</td>\n      <td>0.037864</td>\n      <td>0.056740</td>\n      <td>0.069220</td>\n      <td>0.09230</td>\n      <td>0.127000</td>\n      <td>0.247</td>\n      <td>0.3820</td>\n      <td>0.5380</td>\n      <td>0.76756</td>\n      <td>0.969</td>\n    </tr>\n    <tr>\n      <th>loudness</th>\n      <td>2017.0</td>\n      <td>-7.085624</td>\n      <td>3.761684</td>\n      <td>-33.097000</td>\n      <td>-21.852120</td>\n      <td>-14.152600</td>\n      <td>-11.164800</td>\n      <td>-8.39400</td>\n      <td>-6.248000</td>\n      <td>-4.746</td>\n      <td>-3.6586</td>\n      <td>-3.0672</td>\n      <td>-1.92304</td>\n      <td>-0.307</td>\n    </tr>\n    <tr>\n      <th>mode</th>\n      <td>2017.0</td>\n      <td>0.612295</td>\n      <td>0.487347</td>\n      <td>0.000000</td>\n      <td>0.000000</td>\n      <td>0.000000</td>\n      <td>0.000000</td>\n      <td>0.00000</td>\n      <td>1.000000</td>\n      <td>1.000</td>\n      <td>1.0000</td>\n      <td>1.0000</td>\n      <td>1.00000</td>\n      <td>1.000</td>\n    </tr>\n    <tr>\n      <th>speechiness</th>\n      <td>2017.0</td>\n      <td>0.092664</td>\n      <td>0.089931</td>\n      <td>0.023100</td>\n      <td>0.026400</td>\n      <td>0.028900</td>\n      <td>0.031200</td>\n      <td>0.03750</td>\n      <td>0.054900</td>\n      <td>0.108</td>\n      <td>0.2174</td>\n      <td>0.3100</td>\n      <td>0.42084</td>\n      <td>0.816</td>\n    </tr>\n    <tr>\n      <th>tempo</th>\n      <td>2017.0</td>\n      <td>121.603272</td>\n      <td>26.685604</td>\n      <td>47.859000</td>\n      <td>72.527840</td>\n      <td>80.953400</td>\n      <td>89.184600</td>\n      <td>100.18900</td>\n      <td>121.427000</td>\n      <td>137.849</td>\n      <td>159.1010</td>\n      <td>171.9306</td>\n      <td>189.98288</td>\n      <td>219.331</td>\n    </tr>\n    <tr>\n      <th>time_signature</th>\n      <td>2017.0</td>\n      <td>3.968270</td>\n      <td>0.255853</td>\n      <td>1.000000</td>\n      <td>3.000000</td>\n      <td>4.000000</td>\n      <td>4.000000</td>\n      <td>4.00000</td>\n      <td>4.000000</td>\n      <td>4.000</td>\n      <td>4.0000</td>\n      <td>4.0000</td>\n      <td>5.00000</td>\n      <td>5.000</td>\n    </tr>\n    <tr>\n      <th>valence</th>\n      <td>2017.0</td>\n      <td>0.496815</td>\n      <td>0.247195</td>\n      <td>0.034800</td>\n      <td>0.055060</td>\n      <td>0.111000</td>\n      <td>0.166000</td>\n      <td>0.29500</td>\n      <td>0.492000</td>\n      <td>0.691</td>\n      <td>0.8444</td>\n      <td>0.9092</td>\n      <td>0.96400</td>\n      <td>0.992</td>\n    </tr>\n    <tr>\n      <th>target</th>\n      <td>2017.0</td>\n      <td>0.505702</td>\n      <td>0.500091</td>\n      <td>0.000000</td>\n      <td>0.000000</td>\n      <td>0.000000</td>\n      <td>0.000000</td>\n      <td>0.00000</td>\n      <td>1.000000</td>\n      <td>1.000</td>\n      <td>1.0000</td>\n      <td>1.0000</td>\n      <td>1.00000</td>\n      <td>1.000</td>\n    </tr>\n  </tbody>\n</table>\n</div>"
     },
     "metadata": {},
     "execution_count": 11
    }
   ],
   "source": [
    "spotify.describe(include=np.number,percentiles=[0.01,0.05,0.10,0.25,0.5,0.75,0.9,0.95,0.99]).T"
   ]
  },
  {
   "source": [
    "Description of any data is as usefull as the data itself, many times data anylst work on data which is not from their domain, in that case data description can help giving the information required. plus you can't always guess from the column name what data is all about.\n",
    "\n",
    ">It will often be the case that the dataset you are working with originated from a database\n",
    "whose administrators you will have to contact in order to get more information. Formal\n",
    "electronic databases generally have more formal representations of their data, called\n",
    "schemas. If possible, attempt to investigate your dataset with people who have expert\n",
    "knowledge on its design."
   ],
   "cell_type": "markdown",
   "metadata": {}
  },
  {
   "source": [
    "## Reducing  the memory by changing the data type"
   ],
   "cell_type": "markdown",
   "metadata": {}
  },
  {
   "cell_type": "code",
   "execution_count": 12,
   "metadata": {},
   "outputs": [
    {
     "output_type": "execute_result",
     "data": {
      "text/plain": [
       "   acousticness  danceability  duration_ms  energy  instrumentalness  key  \\\n",
       "0        0.0102         0.833       204600   0.434          0.021900    2   \n",
       "1        0.1990         0.743       326933   0.359          0.006110    1   \n",
       "2        0.0344         0.838       185707   0.412          0.000234    2   \n",
       "3        0.6040         0.494       199413   0.338          0.510000    5   \n",
       "4        0.1800         0.678       392893   0.561          0.512000    5   \n",
       "\n",
       "   liveness  loudness  mode  speechiness    tempo  time_signature  valence  \\\n",
       "0    0.1650    -8.795     1       0.4310  150.062             4.0    0.286   \n",
       "1    0.1370   -10.401     1       0.0794  160.083             4.0    0.588   \n",
       "2    0.1590    -7.148     1       0.2890   75.044             4.0    0.173   \n",
       "3    0.0922   -15.236     1       0.0261   86.468             4.0    0.230   \n",
       "4    0.4390   -11.648     0       0.0694  174.004             4.0    0.904   \n",
       "\n",
       "   target      song_title            artist  \n",
       "0       1        Mask Off            Future  \n",
       "1       1         Redbone  Childish Gambino  \n",
       "2       1    Xanny Family            Future  \n",
       "3       1  Master Of None       Beach House  \n",
       "4       1  Parallel Lines       Junior Boys  "
      ],
      "text/html": "<div>\n<style scoped>\n    .dataframe tbody tr th:only-of-type {\n        vertical-align: middle;\n    }\n\n    .dataframe tbody tr th {\n        vertical-align: top;\n    }\n\n    .dataframe thead th {\n        text-align: right;\n    }\n</style>\n<table border=\"1\" class=\"dataframe\">\n  <thead>\n    <tr style=\"text-align: right;\">\n      <th></th>\n      <th>acousticness</th>\n      <th>danceability</th>\n      <th>duration_ms</th>\n      <th>energy</th>\n      <th>instrumentalness</th>\n      <th>key</th>\n      <th>liveness</th>\n      <th>loudness</th>\n      <th>mode</th>\n      <th>speechiness</th>\n      <th>tempo</th>\n      <th>time_signature</th>\n      <th>valence</th>\n      <th>target</th>\n      <th>song_title</th>\n      <th>artist</th>\n    </tr>\n  </thead>\n  <tbody>\n    <tr>\n      <th>0</th>\n      <td>0.0102</td>\n      <td>0.833</td>\n      <td>204600</td>\n      <td>0.434</td>\n      <td>0.021900</td>\n      <td>2</td>\n      <td>0.1650</td>\n      <td>-8.795</td>\n      <td>1</td>\n      <td>0.4310</td>\n      <td>150.062</td>\n      <td>4.0</td>\n      <td>0.286</td>\n      <td>1</td>\n      <td>Mask Off</td>\n      <td>Future</td>\n    </tr>\n    <tr>\n      <th>1</th>\n      <td>0.1990</td>\n      <td>0.743</td>\n      <td>326933</td>\n      <td>0.359</td>\n      <td>0.006110</td>\n      <td>1</td>\n      <td>0.1370</td>\n      <td>-10.401</td>\n      <td>1</td>\n      <td>0.0794</td>\n      <td>160.083</td>\n      <td>4.0</td>\n      <td>0.588</td>\n      <td>1</td>\n      <td>Redbone</td>\n      <td>Childish Gambino</td>\n    </tr>\n    <tr>\n      <th>2</th>\n      <td>0.0344</td>\n      <td>0.838</td>\n      <td>185707</td>\n      <td>0.412</td>\n      <td>0.000234</td>\n      <td>2</td>\n      <td>0.1590</td>\n      <td>-7.148</td>\n      <td>1</td>\n      <td>0.2890</td>\n      <td>75.044</td>\n      <td>4.0</td>\n      <td>0.173</td>\n      <td>1</td>\n      <td>Xanny Family</td>\n      <td>Future</td>\n    </tr>\n    <tr>\n      <th>3</th>\n      <td>0.6040</td>\n      <td>0.494</td>\n      <td>199413</td>\n      <td>0.338</td>\n      <td>0.510000</td>\n      <td>5</td>\n      <td>0.0922</td>\n      <td>-15.236</td>\n      <td>1</td>\n      <td>0.0261</td>\n      <td>86.468</td>\n      <td>4.0</td>\n      <td>0.230</td>\n      <td>1</td>\n      <td>Master Of None</td>\n      <td>Beach House</td>\n    </tr>\n    <tr>\n      <th>4</th>\n      <td>0.1800</td>\n      <td>0.678</td>\n      <td>392893</td>\n      <td>0.561</td>\n      <td>0.512000</td>\n      <td>5</td>\n      <td>0.4390</td>\n      <td>-11.648</td>\n      <td>0</td>\n      <td>0.0694</td>\n      <td>174.004</td>\n      <td>4.0</td>\n      <td>0.904</td>\n      <td>1</td>\n      <td>Parallel Lines</td>\n      <td>Junior Boys</td>\n    </tr>\n  </tbody>\n</table>\n</div>"
     },
     "metadata": {},
     "execution_count": 12
    }
   ],
   "source": [
    "spotify.head()"
   ]
  },
  {
   "cell_type": "code",
   "execution_count": 13,
   "metadata": {},
   "outputs": [
    {
     "output_type": "execute_result",
     "data": {
      "text/plain": [
       "acousticness        float64\n",
       "danceability        float64\n",
       "duration_ms           int64\n",
       "energy              float64\n",
       "instrumentalness    float64\n",
       "key                   int64\n",
       "liveness            float64\n",
       "loudness            float64\n",
       "mode                  int64\n",
       "speechiness         float64\n",
       "tempo               float64\n",
       "time_signature      float64\n",
       "valence             float64\n",
       "target                int64\n",
       "song_title           object\n",
       "artist               object\n",
       "dtype: object"
      ]
     },
     "metadata": {},
     "execution_count": 13
    }
   ],
   "source": [
    "spotify.dtypes"
   ]
  },
  {
   "cell_type": "code",
   "execution_count": 14,
   "metadata": {},
   "outputs": [
    {
     "output_type": "execute_result",
     "data": {
      "text/plain": [
       "array(['acousticness', 'danceability', 'duration_ms', 'energy',\n",
       "       'instrumentalness', 'key', 'liveness', 'loudness', 'mode',\n",
       "       'speechiness', 'tempo', 'time_signature', 'valence', 'target',\n",
       "       'song_title', 'artist'], dtype=object)"
      ]
     },
     "metadata": {},
     "execution_count": 14
    }
   ],
   "source": [
    "spotify.columns.values"
   ]
  },
  {
   "cell_type": "code",
   "execution_count": 15,
   "metadata": {},
   "outputs": [],
   "source": [
    "different_cols = ['duration_ms','key','mode','time_signature','target',\n",
    "       'song_title', 'artist']\n",
    "spotify2 = spotify[different_cols]"
   ]
  },
  {
   "cell_type": "code",
   "execution_count": 16,
   "metadata": {},
   "outputs": [
    {
     "output_type": "execute_result",
     "data": {
      "text/plain": [
       "   duration_ms  key  mode  time_signature  target      song_title  \\\n",
       "0       204600    2     1             4.0       1        Mask Off   \n",
       "1       326933    1     1             4.0       1         Redbone   \n",
       "2       185707    2     1             4.0       1    Xanny Family   \n",
       "3       199413    5     1             4.0       1  Master Of None   \n",
       "4       392893    5     0             4.0       1  Parallel Lines   \n",
       "\n",
       "             artist  \n",
       "0            Future  \n",
       "1  Childish Gambino  \n",
       "2            Future  \n",
       "3       Beach House  \n",
       "4       Junior Boys  "
      ],
      "text/html": "<div>\n<style scoped>\n    .dataframe tbody tr th:only-of-type {\n        vertical-align: middle;\n    }\n\n    .dataframe tbody tr th {\n        vertical-align: top;\n    }\n\n    .dataframe thead th {\n        text-align: right;\n    }\n</style>\n<table border=\"1\" class=\"dataframe\">\n  <thead>\n    <tr style=\"text-align: right;\">\n      <th></th>\n      <th>duration_ms</th>\n      <th>key</th>\n      <th>mode</th>\n      <th>time_signature</th>\n      <th>target</th>\n      <th>song_title</th>\n      <th>artist</th>\n    </tr>\n  </thead>\n  <tbody>\n    <tr>\n      <th>0</th>\n      <td>204600</td>\n      <td>2</td>\n      <td>1</td>\n      <td>4.0</td>\n      <td>1</td>\n      <td>Mask Off</td>\n      <td>Future</td>\n    </tr>\n    <tr>\n      <th>1</th>\n      <td>326933</td>\n      <td>1</td>\n      <td>1</td>\n      <td>4.0</td>\n      <td>1</td>\n      <td>Redbone</td>\n      <td>Childish Gambino</td>\n    </tr>\n    <tr>\n      <th>2</th>\n      <td>185707</td>\n      <td>2</td>\n      <td>1</td>\n      <td>4.0</td>\n      <td>1</td>\n      <td>Xanny Family</td>\n      <td>Future</td>\n    </tr>\n    <tr>\n      <th>3</th>\n      <td>199413</td>\n      <td>5</td>\n      <td>1</td>\n      <td>4.0</td>\n      <td>1</td>\n      <td>Master Of None</td>\n      <td>Beach House</td>\n    </tr>\n    <tr>\n      <th>4</th>\n      <td>392893</td>\n      <td>5</td>\n      <td>0</td>\n      <td>4.0</td>\n      <td>1</td>\n      <td>Parallel Lines</td>\n      <td>Junior Boys</td>\n    </tr>\n  </tbody>\n</table>\n</div>"
     },
     "metadata": {},
     "execution_count": 16
    }
   ],
   "source": [
    "spotify2.head()"
   ]
  },
  {
   "cell_type": "code",
   "execution_count": 17,
   "metadata": {},
   "outputs": [
    {
     "output_type": "execute_result",
     "data": {
      "text/plain": [
       "duration_ms         int64\n",
       "key                 int64\n",
       "mode                int64\n",
       "time_signature    float64\n",
       "target              int64\n",
       "song_title         object\n",
       "artist             object\n",
       "dtype: object"
      ]
     },
     "metadata": {},
     "execution_count": 17
    }
   ],
   "source": [
    "spotify2.dtypes"
   ]
  },
  {
   "cell_type": "code",
   "execution_count": 18,
   "metadata": {},
   "outputs": [
    {
     "output_type": "execute_result",
     "data": {
      "text/plain": [
       "Index              16136\n",
       "duration_ms        16136\n",
       "key                16136\n",
       "mode               16136\n",
       "time_signature     16136\n",
       "target             16136\n",
       "song_title        150935\n",
       "artist            137849\n",
       "dtype: int64"
      ]
     },
     "metadata": {},
     "execution_count": 18
    }
   ],
   "source": [
    "original_mem = spotify2.memory_usage(deep=True)\n",
    "original_mem"
   ]
  },
  {
   "cell_type": "code",
   "execution_count": 19,
   "metadata": {},
   "outputs": [
    {
     "output_type": "execute_result",
     "data": {
      "text/plain": [
       "array([ 2,  1,  5,  8, 10, 11,  7,  0,  9,  6,  4,  3], dtype=int64)"
      ]
     },
     "metadata": {},
     "execution_count": 19
    }
   ],
   "source": [
    "spotify2.key.unique()"
   ]
  },
  {
   "cell_type": "code",
   "execution_count": 20,
   "metadata": {},
   "outputs": [
    {
     "output_type": "execute_result",
     "data": {
      "text/plain": [
       "array([1, 0], dtype=int64)"
      ]
     },
     "metadata": {},
     "execution_count": 20
    }
   ],
   "source": [
    "spotify2[\"mode\"].unique() #There is no need to use 64 bits for mode column as it contains, let's convert it into an 8-bit(1-byte) inter using astype"
   ]
  },
  {
   "cell_type": "code",
   "execution_count": 21,
   "metadata": {},
   "outputs": [
    {
     "output_type": "stream",
     "name": "stderr",
     "text": [
      "<ipython-input-21-162ee819af53>:1: SettingWithCopyWarning: \nA value is trying to be set on a copy of a slice from a DataFrame.\nTry using .loc[row_indexer,col_indexer] = value instead\n\nSee the caveats in the documentation: https://pandas.pydata.org/pandas-docs/stable/user_guide/indexing.html#returning-a-view-versus-a-copy\n  spotify2[\"mode\"] = spotify2[\"mode\"].astype(np.int8)\n<ipython-input-21-162ee819af53>:2: SettingWithCopyWarning: \nA value is trying to be set on a copy of a slice from a DataFrame.\nTry using .loc[row_indexer,col_indexer] = value instead\n\nSee the caveats in the documentation: https://pandas.pydata.org/pandas-docs/stable/user_guide/indexing.html#returning-a-view-versus-a-copy\n  spotify2[\"target\"] = spotify2[\"target\"].astype(np.int8)\n<ipython-input-21-162ee819af53>:3: SettingWithCopyWarning: \nA value is trying to be set on a copy of a slice from a DataFrame.\nTry using .loc[row_indexer,col_indexer] = value instead\n\nSee the caveats in the documentation: https://pandas.pydata.org/pandas-docs/stable/user_guide/indexing.html#returning-a-view-versus-a-copy\n  spotify2[\"key\"] = spotify2[\"key\"].astype(np.int8)\n"
     ]
    }
   ],
   "source": [
    "spotify2[\"mode\"] = spotify2[\"mode\"].astype(np.int8)\n",
    "spotify2[\"target\"] = spotify2[\"target\"].astype(np.int8)\n",
    "spotify2[\"key\"] = spotify2[\"key\"].astype(np.int8)"
   ]
  },
  {
   "cell_type": "code",
   "execution_count": 22,
   "metadata": {},
   "outputs": [
    {
     "output_type": "execute_result",
     "data": {
      "text/plain": [
       "duration_ms         int64\n",
       "key                  int8\n",
       "mode                 int8\n",
       "time_signature    float64\n",
       "target               int8\n",
       "song_title         object\n",
       "artist             object\n",
       "dtype: object"
      ]
     },
     "metadata": {},
     "execution_count": 22
    }
   ],
   "source": [
    "spotify2.dtypes"
   ]
  },
  {
   "cell_type": "code",
   "execution_count": 23,
   "metadata": {},
   "outputs": [
    {
     "output_type": "execute_result",
     "data": {
      "text/plain": [
       "Index              16136\n",
       "duration_ms        16136\n",
       "key                 2017\n",
       "mode                2017\n",
       "time_signature     16136\n",
       "target              2017\n",
       "song_title        150935\n",
       "artist            137849\n",
       "dtype: int64"
      ]
     },
     "metadata": {},
     "execution_count": 23
    }
   ],
   "source": [
    "new_memory = spotify2.memory_usage(deep=True)\n",
    "new_memory"
   ]
  },
  {
   "cell_type": "code",
   "execution_count": 24,
   "metadata": {},
   "outputs": [
    {
     "output_type": "execute_result",
     "data": {
      "text/plain": [
       "Index             1.000\n",
       "duration_ms       1.000\n",
       "key               0.125\n",
       "mode              0.125\n",
       "time_signature    1.000\n",
       "target            0.125\n",
       "song_title        1.000\n",
       "artist            1.000\n",
       "dtype: float64"
      ]
     },
     "metadata": {},
     "execution_count": 24
    }
   ],
   "source": [
    "new_memory/original_mem #Mode,key and taget value shrunk to 1/8 of the original value"
   ]
  },
  {
   "source": [
    "## Selecting the smallest of the largest"
   ],
   "cell_type": "markdown",
   "metadata": {}
  },
  {
   "cell_type": "code",
   "execution_count": 25,
   "metadata": {},
   "outputs": [
    {
     "output_type": "execute_result",
     "data": {
      "text/plain": [
       "   acousticness  danceability  duration_ms  energy  instrumentalness  key  \\\n",
       "0        0.0102         0.833       204600   0.434           0.02190    2   \n",
       "1        0.1990         0.743       326933   0.359           0.00611    1   \n",
       "\n",
       "   liveness  loudness  mode  speechiness    tempo  time_signature  valence  \\\n",
       "0     0.165    -8.795     1       0.4310  150.062             4.0    0.286   \n",
       "1     0.137   -10.401     1       0.0794  160.083             4.0    0.588   \n",
       "\n",
       "   target song_title            artist  \n",
       "0       1   Mask Off            Future  \n",
       "1       1    Redbone  Childish Gambino  "
      ],
      "text/html": "<div>\n<style scoped>\n    .dataframe tbody tr th:only-of-type {\n        vertical-align: middle;\n    }\n\n    .dataframe tbody tr th {\n        vertical-align: top;\n    }\n\n    .dataframe thead th {\n        text-align: right;\n    }\n</style>\n<table border=\"1\" class=\"dataframe\">\n  <thead>\n    <tr style=\"text-align: right;\">\n      <th></th>\n      <th>acousticness</th>\n      <th>danceability</th>\n      <th>duration_ms</th>\n      <th>energy</th>\n      <th>instrumentalness</th>\n      <th>key</th>\n      <th>liveness</th>\n      <th>loudness</th>\n      <th>mode</th>\n      <th>speechiness</th>\n      <th>tempo</th>\n      <th>time_signature</th>\n      <th>valence</th>\n      <th>target</th>\n      <th>song_title</th>\n      <th>artist</th>\n    </tr>\n  </thead>\n  <tbody>\n    <tr>\n      <th>0</th>\n      <td>0.0102</td>\n      <td>0.833</td>\n      <td>204600</td>\n      <td>0.434</td>\n      <td>0.02190</td>\n      <td>2</td>\n      <td>0.165</td>\n      <td>-8.795</td>\n      <td>1</td>\n      <td>0.4310</td>\n      <td>150.062</td>\n      <td>4.0</td>\n      <td>0.286</td>\n      <td>1</td>\n      <td>Mask Off</td>\n      <td>Future</td>\n    </tr>\n    <tr>\n      <th>1</th>\n      <td>0.1990</td>\n      <td>0.743</td>\n      <td>326933</td>\n      <td>0.359</td>\n      <td>0.00611</td>\n      <td>1</td>\n      <td>0.137</td>\n      <td>-10.401</td>\n      <td>1</td>\n      <td>0.0794</td>\n      <td>160.083</td>\n      <td>4.0</td>\n      <td>0.588</td>\n      <td>1</td>\n      <td>Redbone</td>\n      <td>Childish Gambino</td>\n    </tr>\n  </tbody>\n</table>\n</div>"
     },
     "metadata": {},
     "execution_count": 25
    }
   ],
   "source": [
    "spotify.head(2)"
   ]
  },
  {
   "cell_type": "code",
   "execution_count": 26,
   "metadata": {},
   "outputs": [
    {
     "output_type": "execute_result",
     "data": {
      "text/plain": [
       "       song_title            artist  danceability  energy  key\n",
       "0        Mask Off            Future         0.833   0.434    2\n",
       "1         Redbone  Childish Gambino         0.743   0.359    1\n",
       "2    Xanny Family            Future         0.838   0.412    2\n",
       "3  Master Of None       Beach House         0.494   0.338    5\n",
       "4  Parallel Lines       Junior Boys         0.678   0.561    5"
      ],
      "text/html": "<div>\n<style scoped>\n    .dataframe tbody tr th:only-of-type {\n        vertical-align: middle;\n    }\n\n    .dataframe tbody tr th {\n        vertical-align: top;\n    }\n\n    .dataframe thead th {\n        text-align: right;\n    }\n</style>\n<table border=\"1\" class=\"dataframe\">\n  <thead>\n    <tr style=\"text-align: right;\">\n      <th></th>\n      <th>song_title</th>\n      <th>artist</th>\n      <th>danceability</th>\n      <th>energy</th>\n      <th>key</th>\n    </tr>\n  </thead>\n  <tbody>\n    <tr>\n      <th>0</th>\n      <td>Mask Off</td>\n      <td>Future</td>\n      <td>0.833</td>\n      <td>0.434</td>\n      <td>2</td>\n    </tr>\n    <tr>\n      <th>1</th>\n      <td>Redbone</td>\n      <td>Childish Gambino</td>\n      <td>0.743</td>\n      <td>0.359</td>\n      <td>1</td>\n    </tr>\n    <tr>\n      <th>2</th>\n      <td>Xanny Family</td>\n      <td>Future</td>\n      <td>0.838</td>\n      <td>0.412</td>\n      <td>2</td>\n    </tr>\n    <tr>\n      <th>3</th>\n      <td>Master Of None</td>\n      <td>Beach House</td>\n      <td>0.494</td>\n      <td>0.338</td>\n      <td>5</td>\n    </tr>\n    <tr>\n      <th>4</th>\n      <td>Parallel Lines</td>\n      <td>Junior Boys</td>\n      <td>0.678</td>\n      <td>0.561</td>\n      <td>5</td>\n    </tr>\n  </tbody>\n</table>\n</div>"
     },
     "metadata": {},
     "execution_count": 26
    }
   ],
   "source": [
    "#using the nlargest method to select the top 100 dancable songs\n",
    "col3 = [\"song_title\",\"artist\",\"danceability\",\"energy\",\"key\"]\n",
    "spotify3 = spotify[col3]\n",
    "spotify3.head()"
   ]
  },
  {
   "cell_type": "code",
   "execution_count": 27,
   "metadata": {},
   "outputs": [
    {
     "output_type": "execute_result",
     "data": {
      "text/plain": [
       "                  song_title             artist  danceability  energy  key\n",
       "1433  Flashwind - Radio Edit       Ben Remember         0.984   0.941    9\n",
       "1901                SexyBack  Justin Timberlake         0.967   0.583    7\n",
       "604        Check Me Out Like          Blaqstarr         0.962   0.592    9\n",
       "32               Best Friend         Young Thug         0.959   0.598    8\n",
       "1957            Ice Ice Baby        Vanilla Ice         0.959   0.545    7"
      ],
      "text/html": "<div>\n<style scoped>\n    .dataframe tbody tr th:only-of-type {\n        vertical-align: middle;\n    }\n\n    .dataframe tbody tr th {\n        vertical-align: top;\n    }\n\n    .dataframe thead th {\n        text-align: right;\n    }\n</style>\n<table border=\"1\" class=\"dataframe\">\n  <thead>\n    <tr style=\"text-align: right;\">\n      <th></th>\n      <th>song_title</th>\n      <th>artist</th>\n      <th>danceability</th>\n      <th>energy</th>\n      <th>key</th>\n    </tr>\n  </thead>\n  <tbody>\n    <tr>\n      <th>1433</th>\n      <td>Flashwind - Radio Edit</td>\n      <td>Ben Remember</td>\n      <td>0.984</td>\n      <td>0.941</td>\n      <td>9</td>\n    </tr>\n    <tr>\n      <th>1901</th>\n      <td>SexyBack</td>\n      <td>Justin Timberlake</td>\n      <td>0.967</td>\n      <td>0.583</td>\n      <td>7</td>\n    </tr>\n    <tr>\n      <th>604</th>\n      <td>Check Me Out Like</td>\n      <td>Blaqstarr</td>\n      <td>0.962</td>\n      <td>0.592</td>\n      <td>9</td>\n    </tr>\n    <tr>\n      <th>32</th>\n      <td>Best Friend</td>\n      <td>Young Thug</td>\n      <td>0.959</td>\n      <td>0.598</td>\n      <td>8</td>\n    </tr>\n    <tr>\n      <th>1957</th>\n      <td>Ice Ice Baby</td>\n      <td>Vanilla Ice</td>\n      <td>0.959</td>\n      <td>0.545</td>\n      <td>7</td>\n    </tr>\n  </tbody>\n</table>\n</div>"
     },
     "metadata": {},
     "execution_count": 27
    }
   ],
   "source": [
    "spotify3.nlargest(50,\"danceability\").head(5)"
   ]
  },
  {
   "cell_type": "code",
   "execution_count": 28,
   "metadata": {},
   "outputs": [
    {
     "output_type": "execute_result",
     "data": {
      "text/plain": [
       "                              song_title        artist  danceability  energy  \\\n",
       "1389        장가갈 수 있을까 Can I Get Married?     Coffeeboy         0.894   0.161   \n",
       "1591                  Little Green Apple   Tumble Tots         0.941   0.256   \n",
       "1411                           Neighbors       J. Cole         0.894   0.284   \n",
       "319   Who Is He (And What Is He to You?)  Bill Withers         0.912   0.317   \n",
       "370                       Probably Nu It          Tree         0.893   0.378   \n",
       "\n",
       "      key  \n",
       "1389    4  \n",
       "1591    1  \n",
       "1411   11  \n",
       "319     6  \n",
       "370     9  "
      ],
      "text/html": "<div>\n<style scoped>\n    .dataframe tbody tr th:only-of-type {\n        vertical-align: middle;\n    }\n\n    .dataframe tbody tr th {\n        vertical-align: top;\n    }\n\n    .dataframe thead th {\n        text-align: right;\n    }\n</style>\n<table border=\"1\" class=\"dataframe\">\n  <thead>\n    <tr style=\"text-align: right;\">\n      <th></th>\n      <th>song_title</th>\n      <th>artist</th>\n      <th>danceability</th>\n      <th>energy</th>\n      <th>key</th>\n    </tr>\n  </thead>\n  <tbody>\n    <tr>\n      <th>1389</th>\n      <td>장가갈 수 있을까 Can I Get Married?</td>\n      <td>Coffeeboy</td>\n      <td>0.894</td>\n      <td>0.161</td>\n      <td>4</td>\n    </tr>\n    <tr>\n      <th>1591</th>\n      <td>Little Green Apple</td>\n      <td>Tumble Tots</td>\n      <td>0.941</td>\n      <td>0.256</td>\n      <td>1</td>\n    </tr>\n    <tr>\n      <th>1411</th>\n      <td>Neighbors</td>\n      <td>J. Cole</td>\n      <td>0.894</td>\n      <td>0.284</td>\n      <td>11</td>\n    </tr>\n    <tr>\n      <th>319</th>\n      <td>Who Is He (And What Is He to You?)</td>\n      <td>Bill Withers</td>\n      <td>0.912</td>\n      <td>0.317</td>\n      <td>6</td>\n    </tr>\n    <tr>\n      <th>370</th>\n      <td>Probably Nu It</td>\n      <td>Tree</td>\n      <td>0.893</td>\n      <td>0.378</td>\n      <td>9</td>\n    </tr>\n  </tbody>\n</table>\n</div>"
     },
     "metadata": {},
     "execution_count": 28
    }
   ],
   "source": [
    "#lowest non-energy songs among those 100 songs dancable songs\n",
    "spotify3.nlargest(50,\"danceability\").nsmallest(5,\"energy\")"
   ]
  },
  {
   "cell_type": "code",
   "execution_count": 29,
   "metadata": {},
   "outputs": [
    {
     "output_type": "execute_result",
     "data": {
      "text/plain": [
       "             song_title                    artist  danceability  energy  key\n",
       "1299      No Absolution         Thy Art Is Murder         0.468   0.998    9\n",
       "1322         Pitchblack  Walking Dead On Broadway         0.428   0.997    8\n",
       "1297  A Darkened Gospel      A Wake in Providence         0.455   0.994    4\n",
       "1347         Unanswered           Suicide Silence         0.329   0.993    6\n",
       "2015      First Contact                Twin Moons         0.557   0.992    1"
      ],
      "text/html": "<div>\n<style scoped>\n    .dataframe tbody tr th:only-of-type {\n        vertical-align: middle;\n    }\n\n    .dataframe tbody tr th {\n        vertical-align: top;\n    }\n\n    .dataframe thead th {\n        text-align: right;\n    }\n</style>\n<table border=\"1\" class=\"dataframe\">\n  <thead>\n    <tr style=\"text-align: right;\">\n      <th></th>\n      <th>song_title</th>\n      <th>artist</th>\n      <th>danceability</th>\n      <th>energy</th>\n      <th>key</th>\n    </tr>\n  </thead>\n  <tbody>\n    <tr>\n      <th>1299</th>\n      <td>No Absolution</td>\n      <td>Thy Art Is Murder</td>\n      <td>0.468</td>\n      <td>0.998</td>\n      <td>9</td>\n    </tr>\n    <tr>\n      <th>1322</th>\n      <td>Pitchblack</td>\n      <td>Walking Dead On Broadway</td>\n      <td>0.428</td>\n      <td>0.997</td>\n      <td>8</td>\n    </tr>\n    <tr>\n      <th>1297</th>\n      <td>A Darkened Gospel</td>\n      <td>A Wake in Providence</td>\n      <td>0.455</td>\n      <td>0.994</td>\n      <td>4</td>\n    </tr>\n    <tr>\n      <th>1347</th>\n      <td>Unanswered</td>\n      <td>Suicide Silence</td>\n      <td>0.329</td>\n      <td>0.993</td>\n      <td>6</td>\n    </tr>\n    <tr>\n      <th>2015</th>\n      <td>First Contact</td>\n      <td>Twin Moons</td>\n      <td>0.557</td>\n      <td>0.992</td>\n      <td>1</td>\n    </tr>\n  </tbody>\n</table>\n</div>"
     },
     "metadata": {},
     "execution_count": 29
    }
   ],
   "source": [
    "# Selecting the largest of each group by sorting\n",
    "spotify3.sort_values(\"energy\", ascending=False).head()\n",
    "#spotify3.sort_values([\"danceability\",\"energy\"], ascending=False).head()"
   ]
  },
  {
   "cell_type": "code",
   "execution_count": 30,
   "metadata": {},
   "outputs": [
    {
     "output_type": "execute_result",
     "data": {
      "text/plain": [
       "                  song_title             artist  danceability  energy  key\n",
       "1433  Flashwind - Radio Edit       Ben Remember         0.984   0.941    9\n",
       "1901                SexyBack  Justin Timberlake         0.967   0.583    7\n",
       "604        Check Me Out Like          Blaqstarr         0.962   0.592    9\n",
       "32               Best Friend         Young Thug         0.959   0.598    8\n",
       "1957            Ice Ice Baby        Vanilla Ice         0.959   0.545    7"
      ],
      "text/html": "<div>\n<style scoped>\n    .dataframe tbody tr th:only-of-type {\n        vertical-align: middle;\n    }\n\n    .dataframe tbody tr th {\n        vertical-align: top;\n    }\n\n    .dataframe thead th {\n        text-align: right;\n    }\n</style>\n<table border=\"1\" class=\"dataframe\">\n  <thead>\n    <tr style=\"text-align: right;\">\n      <th></th>\n      <th>song_title</th>\n      <th>artist</th>\n      <th>danceability</th>\n      <th>energy</th>\n      <th>key</th>\n    </tr>\n  </thead>\n  <tbody>\n    <tr>\n      <th>1433</th>\n      <td>Flashwind - Radio Edit</td>\n      <td>Ben Remember</td>\n      <td>0.984</td>\n      <td>0.941</td>\n      <td>9</td>\n    </tr>\n    <tr>\n      <th>1901</th>\n      <td>SexyBack</td>\n      <td>Justin Timberlake</td>\n      <td>0.967</td>\n      <td>0.583</td>\n      <td>7</td>\n    </tr>\n    <tr>\n      <th>604</th>\n      <td>Check Me Out Like</td>\n      <td>Blaqstarr</td>\n      <td>0.962</td>\n      <td>0.592</td>\n      <td>9</td>\n    </tr>\n    <tr>\n      <th>32</th>\n      <td>Best Friend</td>\n      <td>Young Thug</td>\n      <td>0.959</td>\n      <td>0.598</td>\n      <td>8</td>\n    </tr>\n    <tr>\n      <th>1957</th>\n      <td>Ice Ice Baby</td>\n      <td>Vanilla Ice</td>\n      <td>0.959</td>\n      <td>0.545</td>\n      <td>7</td>\n    </tr>\n  </tbody>\n</table>\n</div>"
     },
     "metadata": {},
     "execution_count": 30
    }
   ],
   "source": [
    "spotify3.sort_values([\"danceability\",\"energy\"], ascending=False).head()"
   ]
  },
  {
   "cell_type": "code",
   "execution_count": 31,
   "metadata": {},
   "outputs": [
    {
     "output_type": "execute_result",
     "data": {
      "text/plain": [
       "                   song_title            artist  danceability  energy  key\n",
       "12                    Cemalim       Erkin Koray         0.603   0.434    0\n",
       "1                     Redbone  Childish Gambino         0.743   0.359    1\n",
       "0                    Mask Off            Future         0.833   0.434    2\n",
       "49     Odofo Nyi Akyiri Biara        Ebo Taylor         0.716   0.957    3\n",
       "17  One Nation Under a Groove        Funkadelic         0.789   0.659    4"
      ],
      "text/html": "<div>\n<style scoped>\n    .dataframe tbody tr th:only-of-type {\n        vertical-align: middle;\n    }\n\n    .dataframe tbody tr th {\n        vertical-align: top;\n    }\n\n    .dataframe thead th {\n        text-align: right;\n    }\n</style>\n<table border=\"1\" class=\"dataframe\">\n  <thead>\n    <tr style=\"text-align: right;\">\n      <th></th>\n      <th>song_title</th>\n      <th>artist</th>\n      <th>danceability</th>\n      <th>energy</th>\n      <th>key</th>\n    </tr>\n  </thead>\n  <tbody>\n    <tr>\n      <th>12</th>\n      <td>Cemalim</td>\n      <td>Erkin Koray</td>\n      <td>0.603</td>\n      <td>0.434</td>\n      <td>0</td>\n    </tr>\n    <tr>\n      <th>1</th>\n      <td>Redbone</td>\n      <td>Childish Gambino</td>\n      <td>0.743</td>\n      <td>0.359</td>\n      <td>1</td>\n    </tr>\n    <tr>\n      <th>0</th>\n      <td>Mask Off</td>\n      <td>Future</td>\n      <td>0.833</td>\n      <td>0.434</td>\n      <td>2</td>\n    </tr>\n    <tr>\n      <th>49</th>\n      <td>Odofo Nyi Akyiri Biara</td>\n      <td>Ebo Taylor</td>\n      <td>0.716</td>\n      <td>0.957</td>\n      <td>3</td>\n    </tr>\n    <tr>\n      <th>17</th>\n      <td>One Nation Under a Groove</td>\n      <td>Funkadelic</td>\n      <td>0.789</td>\n      <td>0.659</td>\n      <td>4</td>\n    </tr>\n  </tbody>\n</table>\n</div>"
     },
     "metadata": {},
     "execution_count": 31
    }
   ],
   "source": [
    "spotify_keys = spotify3.drop_duplicates(subset=\"key\").sort_values(by=\"key\")\n",
    "spotify_keys.head()"
   ]
  },
  {
   "source": [
    "## Selecting subsets of data"
   ],
   "cell_type": "markdown",
   "metadata": {}
  },
  {
   "cell_type": "code",
   "execution_count": 32,
   "metadata": {},
   "outputs": [],
   "source": [
    "netflix2 = netflix.set_index('title')"
   ]
  },
  {
   "cell_type": "code",
   "execution_count": 33,
   "metadata": {},
   "outputs": [
    {
     "output_type": "execute_result",
     "data": {
      "text/plain": [
       "title\n",
       "3%       4 Seasons\n",
       "7:19        93 min\n",
       "23:59       78 min\n",
       "Name: duration, dtype: object"
      ]
     },
     "metadata": {},
     "execution_count": 33
    }
   ],
   "source": [
    "duration = netflix2['duration']\n",
    "duration.head(3)"
   ]
  },
  {
   "cell_type": "code",
   "execution_count": 34,
   "metadata": {},
   "outputs": [
    {
     "output_type": "execute_result",
     "data": {
      "text/plain": [
       "'80 min'"
      ]
     },
     "metadata": {},
     "execution_count": 34
    }
   ],
   "source": [
    "duration.iloc[3]"
   ]
  },
  {
   "cell_type": "code",
   "execution_count": 35,
   "metadata": {},
   "outputs": [
    {
     "output_type": "execute_result",
     "data": {
      "text/plain": [
       "title\n",
       "1922                    103 min\n",
       "​​Kuch Bheege Alfaaz    110 min\n",
       "#cats_the_mewvie         90 min\n",
       "Name: duration, dtype: object"
      ]
     },
     "metadata": {},
     "execution_count": 35
    }
   ],
   "source": [
    "duration.iloc[[10,20,30]] #different intergers locations"
   ]
  },
  {
   "cell_type": "code",
   "execution_count": 36,
   "metadata": {},
   "outputs": [
    {
     "output_type": "execute_result",
     "data": {
      "text/plain": [
       "title\n",
       "21                                       123 min\n",
       "3022                                      91 min\n",
       "​SAINT SEIYA: Knights of the Zodiac    2 Seasons\n",
       "#Roxy                                    105 min\n",
       "Æon Flux                                  93 min\n",
       "Name: duration, dtype: object"
      ]
     },
     "metadata": {},
     "execution_count": 36
    }
   ],
   "source": [
    "duration.iloc[4:50:10] #Slice notation"
   ]
  },
  {
   "cell_type": "code",
   "execution_count": 37,
   "metadata": {},
   "outputs": [
    {
     "output_type": "execute_result",
     "data": {
      "text/plain": [
       "'110 min'"
      ]
     },
     "metadata": {},
     "execution_count": 37
    }
   ],
   "source": [
    "duration.loc['​​Kuch Bheege Alfaaz']"
   ]
  },
  {
   "cell_type": "code",
   "execution_count": 38,
   "metadata": {},
   "outputs": [
    {
     "output_type": "execute_result",
     "data": {
      "text/plain": [
       "['Remember',\n",
       " 'A Taiwanese Tale of Two Cities',\n",
       " \"Masha's Spooky Stories\",\n",
       " 'Rhys Nicholson Live at the Athenaeum']"
      ]
     },
     "metadata": {},
     "execution_count": 38
    }
   ],
   "source": [
    "np.random.seed(1)\n",
    "labels = list(np.random.choice(duration.index,4))\n",
    "labels"
   ]
  },
  {
   "cell_type": "code",
   "execution_count": 39,
   "metadata": {},
   "outputs": [
    {
     "output_type": "execute_result",
     "data": {
      "text/plain": [
       "title\n",
       "Remember                                  95 min\n",
       "A Taiwanese Tale of Two Cities          1 Season\n",
       "Masha's Spooky Stories                  1 Season\n",
       "Rhys Nicholson Live at the Athenaeum      66 min\n",
       "Name: duration, dtype: object"
      ]
     },
     "metadata": {},
     "execution_count": 39
    }
   ],
   "source": [
    "duration.loc[labels]"
   ]
  },
  {
   "cell_type": "code",
   "execution_count": 40,
   "metadata": {},
   "outputs": [
    {
     "output_type": "execute_result",
     "data": {
      "text/plain": [
       "title\n",
       "​​Kuch Bheege Alfaaz         110 min\n",
       "Angela's Christmas Wish       48 min\n",
       "Bobby Sands: 66 Days         106 min\n",
       "Crazy Awesome Teachers       102 min\n",
       "Erased                      1 Season\n",
       "Grass                         57 min\n",
       "Inspector Gadget           4 Seasons\n",
       "Laerte-se                    101 min\n",
       "MegaTruckers                1 Season\n",
       "NOVA: Bird Brain              53 min\n",
       "Qarib Qarib Singlle          120 min\n",
       "Name: duration, dtype: object"
      ]
     },
     "metadata": {},
     "execution_count": 40
    }
   ],
   "source": [
    "duration.loc[\"​​Kuch Bheege Alfaaz\" : \"Remember\" : 500]"
   ]
  },
  {
   "cell_type": "code",
   "execution_count": 41,
   "metadata": {},
   "outputs": [
    {
     "output_type": "execute_result",
     "data": {
      "text/plain": [
       "          type           director  \\\n",
       "title                               \n",
       "3%     TV Show                NaN   \n",
       "7:19     Movie  Jorge Michel Grau   \n",
       "\n",
       "                                                    cast country  \\\n",
       "title                                                              \n",
       "3%     João Miguel, Bianca Comparato, Michel Gomes, R...  Brazil   \n",
       "7:19   Demián Bichir, Héctor Bonilla, Oscar Serrano, ...  Mexico   \n",
       "\n",
       "              date_added release_year rating   duration  \\\n",
       "title                                                     \n",
       "3%       August 14, 2020   2020-01-01  TV-MA  4 Seasons   \n",
       "7:19   December 23, 2016   2016-01-01  TV-MA     93 min   \n",
       "\n",
       "                                               listed_in  \\\n",
       "title                                                      \n",
       "3%     International TV Shows, TV Dramas, TV Sci-Fi &...   \n",
       "7:19                        Dramas, International Movies   \n",
       "\n",
       "                                             description  \n",
       "title                                                     \n",
       "3%     In a future where the elite inhabit an island ...  \n",
       "7:19   After a devastating earthquake hits Mexico Cit...  "
      ],
      "text/html": "<div>\n<style scoped>\n    .dataframe tbody tr th:only-of-type {\n        vertical-align: middle;\n    }\n\n    .dataframe tbody tr th {\n        vertical-align: top;\n    }\n\n    .dataframe thead th {\n        text-align: right;\n    }\n</style>\n<table border=\"1\" class=\"dataframe\">\n  <thead>\n    <tr style=\"text-align: right;\">\n      <th></th>\n      <th>type</th>\n      <th>director</th>\n      <th>cast</th>\n      <th>country</th>\n      <th>date_added</th>\n      <th>release_year</th>\n      <th>rating</th>\n      <th>duration</th>\n      <th>listed_in</th>\n      <th>description</th>\n    </tr>\n    <tr>\n      <th>title</th>\n      <th></th>\n      <th></th>\n      <th></th>\n      <th></th>\n      <th></th>\n      <th></th>\n      <th></th>\n      <th></th>\n      <th></th>\n      <th></th>\n    </tr>\n  </thead>\n  <tbody>\n    <tr>\n      <th>3%</th>\n      <td>TV Show</td>\n      <td>NaN</td>\n      <td>João Miguel, Bianca Comparato, Michel Gomes, R...</td>\n      <td>Brazil</td>\n      <td>August 14, 2020</td>\n      <td>2020-01-01</td>\n      <td>TV-MA</td>\n      <td>4 Seasons</td>\n      <td>International TV Shows, TV Dramas, TV Sci-Fi &amp;...</td>\n      <td>In a future where the elite inhabit an island ...</td>\n    </tr>\n    <tr>\n      <th>7:19</th>\n      <td>Movie</td>\n      <td>Jorge Michel Grau</td>\n      <td>Demián Bichir, Héctor Bonilla, Oscar Serrano, ...</td>\n      <td>Mexico</td>\n      <td>December 23, 2016</td>\n      <td>2016-01-01</td>\n      <td>TV-MA</td>\n      <td>93 min</td>\n      <td>Dramas, International Movies</td>\n      <td>After a devastating earthquake hits Mexico Cit...</td>\n    </tr>\n  </tbody>\n</table>\n</div>"
     },
     "metadata": {},
     "execution_count": 41
    }
   ],
   "source": [
    "#Selecting DataFrame rows\n",
    "netflix2.head(2)"
   ]
  },
  {
   "cell_type": "code",
   "execution_count": 42,
   "metadata": {},
   "outputs": [
    {
     "output_type": "execute_result",
     "data": {
      "text/plain": [
       "type                                                        Movie\n",
       "director                                              Shane Acker\n",
       "cast            Elijah Wood, John C. Reilly, Jennifer Connelly...\n",
       "country                                             United States\n",
       "date_added                                      November 16, 2017\n",
       "release_year                                  2009-01-01 00:00:00\n",
       "rating                                                      PG-13\n",
       "duration                                                   80 min\n",
       "listed_in       Action & Adventure, Independent Movies, Sci-Fi...\n",
       "description     In a postapocalyptic world, rag-doll robots hi...\n",
       "Name: 9, dtype: object"
      ]
     },
     "metadata": {},
     "execution_count": 42
    }
   ],
   "source": [
    "netflix2.iloc[3]"
   ]
  },
  {
   "cell_type": "code",
   "execution_count": 43,
   "metadata": {},
   "outputs": [
    {
     "output_type": "execute_result",
     "data": {
      "text/plain": [
       "type                                                        Movie\n",
       "director                                                     Onir\n",
       "cast            Geetanjali Thapa, Zain Khan Durrani, Shray Rai...\n",
       "country                                                     India\n",
       "date_added                                      September 1, 2018\n",
       "release_year                                  2018-01-01 00:00:00\n",
       "rating                                                      TV-14\n",
       "duration                                                  110 min\n",
       "listed_in        Dramas, Independent Movies, International Movies\n",
       "description     After accidentally connecting over the Interne...\n",
       "Name: ​​Kuch Bheege Alfaaz, dtype: object"
      ]
     },
     "metadata": {},
     "execution_count": 43
    }
   ],
   "source": [
    "netflix2.loc[\"​​Kuch Bheege Alfaaz\"]"
   ]
  },
  {
   "cell_type": "code",
   "execution_count": 44,
   "metadata": {},
   "outputs": [
    {
     "output_type": "execute_result",
     "data": {
      "text/plain": [
       "                   type                director  \\\n",
       "title                                             \n",
       "#cats_the_mewvie  Movie        Michael Margolis   \n",
       "12 ROUND GUN      Movie               Sam Upton   \n",
       "25 Kille          Movie  Simranjit Singh Hundal   \n",
       "\n",
       "                                                               cast  \\\n",
       "title                                                                 \n",
       "#cats_the_mewvie                                                NaN   \n",
       "12 ROUND GUN      Sam Upton, Jared Abrahamson, Mark Boone Junior...   \n",
       "25 Kille          Guggu Gill, Yograj Singh, Sonia Mann, Jimmy Sh...   \n",
       "\n",
       "                        country        date_added release_year rating  \\\n",
       "title                                                                   \n",
       "#cats_the_mewvie         Canada  February 5, 2020   2020-01-01  TV-14   \n",
       "12 ROUND GUN      United States    March 14, 2019   2017-01-01  TV-MA   \n",
       "25 Kille                  India   October 1, 2018   2016-01-01  TV-14   \n",
       "\n",
       "                 duration                                         listed_in  \\\n",
       "title                                                                         \n",
       "#cats_the_mewvie   90 min               Documentaries, International Movies   \n",
       "12 ROUND GUN       90 min         Dramas, Independent Movies, Sports Movies   \n",
       "25 Kille          140 min  Action & Adventure, Dramas, International Movies   \n",
       "\n",
       "                                                        description  \n",
       "title                                                                \n",
       "#cats_the_mewvie  This pawesome documentary explores how our fel...  \n",
       "12 ROUND GUN      Dealing with personal demons and the death of ...  \n",
       "25 Kille          Four brothers learn that they have inherited a...  "
      ],
      "text/html": "<div>\n<style scoped>\n    .dataframe tbody tr th:only-of-type {\n        vertical-align: middle;\n    }\n\n    .dataframe tbody tr th {\n        vertical-align: top;\n    }\n\n    .dataframe thead th {\n        text-align: right;\n    }\n</style>\n<table border=\"1\" class=\"dataframe\">\n  <thead>\n    <tr style=\"text-align: right;\">\n      <th></th>\n      <th>type</th>\n      <th>director</th>\n      <th>cast</th>\n      <th>country</th>\n      <th>date_added</th>\n      <th>release_year</th>\n      <th>rating</th>\n      <th>duration</th>\n      <th>listed_in</th>\n      <th>description</th>\n    </tr>\n    <tr>\n      <th>title</th>\n      <th></th>\n      <th></th>\n      <th></th>\n      <th></th>\n      <th></th>\n      <th></th>\n      <th></th>\n      <th></th>\n      <th></th>\n      <th></th>\n    </tr>\n  </thead>\n  <tbody>\n    <tr>\n      <th>#cats_the_mewvie</th>\n      <td>Movie</td>\n      <td>Michael Margolis</td>\n      <td>NaN</td>\n      <td>Canada</td>\n      <td>February 5, 2020</td>\n      <td>2020-01-01</td>\n      <td>TV-14</td>\n      <td>90 min</td>\n      <td>Documentaries, International Movies</td>\n      <td>This pawesome documentary explores how our fel...</td>\n    </tr>\n    <tr>\n      <th>12 ROUND GUN</th>\n      <td>Movie</td>\n      <td>Sam Upton</td>\n      <td>Sam Upton, Jared Abrahamson, Mark Boone Junior...</td>\n      <td>United States</td>\n      <td>March 14, 2019</td>\n      <td>2017-01-01</td>\n      <td>TV-MA</td>\n      <td>90 min</td>\n      <td>Dramas, Independent Movies, Sports Movies</td>\n      <td>Dealing with personal demons and the death of ...</td>\n    </tr>\n    <tr>\n      <th>25 Kille</th>\n      <td>Movie</td>\n      <td>Simranjit Singh Hundal</td>\n      <td>Guggu Gill, Yograj Singh, Sonia Mann, Jimmy Sh...</td>\n      <td>India</td>\n      <td>October 1, 2018</td>\n      <td>2016-01-01</td>\n      <td>TV-14</td>\n      <td>140 min</td>\n      <td>Action &amp; Adventure, Dramas, International Movies</td>\n      <td>Four brothers learn that they have inherited a...</td>\n    </tr>\n  </tbody>\n</table>\n</div>"
     },
     "metadata": {},
     "execution_count": 44
    }
   ],
   "source": [
    "netflix2.iloc[[30,60,90]]"
   ]
  },
  {
   "cell_type": "code",
   "execution_count": 45,
   "metadata": {},
   "outputs": [
    {
     "output_type": "execute_result",
     "data": {
      "text/plain": [
       "                   type                director  \\\n",
       "title                                             \n",
       "#cats_the_mewvie  Movie        Michael Margolis   \n",
       "12 ROUND GUN      Movie               Sam Upton   \n",
       "25 Kille          Movie  Simranjit Singh Hundal   \n",
       "\n",
       "                                                               cast  \\\n",
       "title                                                                 \n",
       "#cats_the_mewvie                                                NaN   \n",
       "12 ROUND GUN      Sam Upton, Jared Abrahamson, Mark Boone Junior...   \n",
       "25 Kille          Guggu Gill, Yograj Singh, Sonia Mann, Jimmy Sh...   \n",
       "\n",
       "                        country        date_added release_year rating  \\\n",
       "title                                                                   \n",
       "#cats_the_mewvie         Canada  February 5, 2020   2020-01-01  TV-14   \n",
       "12 ROUND GUN      United States    March 14, 2019   2017-01-01  TV-MA   \n",
       "25 Kille                  India   October 1, 2018   2016-01-01  TV-14   \n",
       "\n",
       "                 duration                                         listed_in  \\\n",
       "title                                                                         \n",
       "#cats_the_mewvie   90 min               Documentaries, International Movies   \n",
       "12 ROUND GUN       90 min         Dramas, Independent Movies, Sports Movies   \n",
       "25 Kille          140 min  Action & Adventure, Dramas, International Movies   \n",
       "\n",
       "                                                        description  \n",
       "title                                                                \n",
       "#cats_the_mewvie  This pawesome documentary explores how our fel...  \n",
       "12 ROUND GUN      Dealing with personal demons and the death of ...  \n",
       "25 Kille          Four brothers learn that they have inherited a...  "
      ],
      "text/html": "<div>\n<style scoped>\n    .dataframe tbody tr th:only-of-type {\n        vertical-align: middle;\n    }\n\n    .dataframe tbody tr th {\n        vertical-align: top;\n    }\n\n    .dataframe thead th {\n        text-align: right;\n    }\n</style>\n<table border=\"1\" class=\"dataframe\">\n  <thead>\n    <tr style=\"text-align: right;\">\n      <th></th>\n      <th>type</th>\n      <th>director</th>\n      <th>cast</th>\n      <th>country</th>\n      <th>date_added</th>\n      <th>release_year</th>\n      <th>rating</th>\n      <th>duration</th>\n      <th>listed_in</th>\n      <th>description</th>\n    </tr>\n    <tr>\n      <th>title</th>\n      <th></th>\n      <th></th>\n      <th></th>\n      <th></th>\n      <th></th>\n      <th></th>\n      <th></th>\n      <th></th>\n      <th></th>\n      <th></th>\n    </tr>\n  </thead>\n  <tbody>\n    <tr>\n      <th>#cats_the_mewvie</th>\n      <td>Movie</td>\n      <td>Michael Margolis</td>\n      <td>NaN</td>\n      <td>Canada</td>\n      <td>February 5, 2020</td>\n      <td>2020-01-01</td>\n      <td>TV-14</td>\n      <td>90 min</td>\n      <td>Documentaries, International Movies</td>\n      <td>This pawesome documentary explores how our fel...</td>\n    </tr>\n    <tr>\n      <th>12 ROUND GUN</th>\n      <td>Movie</td>\n      <td>Sam Upton</td>\n      <td>Sam Upton, Jared Abrahamson, Mark Boone Junior...</td>\n      <td>United States</td>\n      <td>March 14, 2019</td>\n      <td>2017-01-01</td>\n      <td>TV-MA</td>\n      <td>90 min</td>\n      <td>Dramas, Independent Movies, Sports Movies</td>\n      <td>Dealing with personal demons and the death of ...</td>\n    </tr>\n    <tr>\n      <th>25 Kille</th>\n      <td>Movie</td>\n      <td>Simranjit Singh Hundal</td>\n      <td>Guggu Gill, Yograj Singh, Sonia Mann, Jimmy Sh...</td>\n      <td>India</td>\n      <td>October 1, 2018</td>\n      <td>2016-01-01</td>\n      <td>TV-14</td>\n      <td>140 min</td>\n      <td>Action &amp; Adventure, Dramas, International Movies</td>\n      <td>Four brothers learn that they have inherited a...</td>\n    </tr>\n  </tbody>\n</table>\n</div>"
     },
     "metadata": {},
     "execution_count": 45
    }
   ],
   "source": [
    "#same can be reproduced using loc indexer\n",
    "labels = netflix2.iloc[[30,60,90]].index.tolist()\n",
    "#labels = [\"#cats_the_mewvie\",\"12 ROUND GUN\",\"25 Kille\"]\n",
    "netflix2.loc[labels]"
   ]
  },
  {
   "cell_type": "code",
   "execution_count": 46,
   "metadata": {},
   "outputs": [
    {
     "output_type": "execute_result",
     "data": {
      "text/plain": [
       "                         type                director  \\\n",
       "title                                                   \n",
       "21 Thunder            TV Show                     NaN   \n",
       "2307: Winter's Dream    Movie             Joey Curtis   \n",
       "24 Hours to Live        Movie              Brian Smrz   \n",
       "25 Kille                Movie  Simranjit Singh Hundal   \n",
       "\n",
       "                                                                   cast  \\\n",
       "title                                                                     \n",
       "21 Thunder            Stephanie Bennett, Emmanuel Kabongo, RJ Fether...   \n",
       "2307: Winter's Dream  Paul Sidhu, Arielle Holmes, Branden Coles, Kel...   \n",
       "24 Hours to Live      Ethan Hawke, Xu Qing, Paul Anderson, Rutger Ha...   \n",
       "25 Kille              Guggu Gill, Yograj Singh, Sonia Mann, Jimmy Sh...   \n",
       "\n",
       "                                                 country       date_added  \\\n",
       "title                                                                       \n",
       "21 Thunder                                        Canada    March 1, 2018   \n",
       "2307: Winter's Dream                       United States    March 1, 2018   \n",
       "24 Hours to Live      South Africa, China, United States    April 7, 2018   \n",
       "25 Kille                                           India  October 1, 2018   \n",
       "\n",
       "                     release_year rating  duration  \\\n",
       "title                                                \n",
       "21 Thunder             2017-01-01  TV-MA  1 Season   \n",
       "2307: Winter's Dream   2016-01-01  TV-MA   101 min   \n",
       "24 Hours to Live       2017-01-01      R    93 min   \n",
       "25 Kille               2016-01-01  TV-14   140 min   \n",
       "\n",
       "                                                              listed_in  \\\n",
       "title                                                                     \n",
       "21 Thunder            Crime TV Shows, International TV Shows, TV Dramas   \n",
       "2307: Winter's Dream  Action & Adventure, Independent Movies, Sci-Fi...   \n",
       "24 Hours to Live                                     Action & Adventure   \n",
       "25 Kille               Action & Adventure, Dramas, International Movies   \n",
       "\n",
       "                                                            description  \n",
       "title                                                                    \n",
       "21 Thunder            Players and coaches for a Montreal soccer team...  \n",
       "2307: Winter's Dream  In the frozen tundra of a futuristic Arizona w...  \n",
       "24 Hours to Live      Revived by an experimental procedure, a hit ma...  \n",
       "25 Kille              Four brothers learn that they have inherited a...  "
      ],
      "text/html": "<div>\n<style scoped>\n    .dataframe tbody tr th:only-of-type {\n        vertical-align: middle;\n    }\n\n    .dataframe tbody tr th {\n        vertical-align: top;\n    }\n\n    .dataframe thead th {\n        text-align: right;\n    }\n</style>\n<table border=\"1\" class=\"dataframe\">\n  <thead>\n    <tr style=\"text-align: right;\">\n      <th></th>\n      <th>type</th>\n      <th>director</th>\n      <th>cast</th>\n      <th>country</th>\n      <th>date_added</th>\n      <th>release_year</th>\n      <th>rating</th>\n      <th>duration</th>\n      <th>listed_in</th>\n      <th>description</th>\n    </tr>\n    <tr>\n      <th>title</th>\n      <th></th>\n      <th></th>\n      <th></th>\n      <th></th>\n      <th></th>\n      <th></th>\n      <th></th>\n      <th></th>\n      <th></th>\n      <th></th>\n    </tr>\n  </thead>\n  <tbody>\n    <tr>\n      <th>21 Thunder</th>\n      <td>TV Show</td>\n      <td>NaN</td>\n      <td>Stephanie Bennett, Emmanuel Kabongo, RJ Fether...</td>\n      <td>Canada</td>\n      <td>March 1, 2018</td>\n      <td>2017-01-01</td>\n      <td>TV-MA</td>\n      <td>1 Season</td>\n      <td>Crime TV Shows, International TV Shows, TV Dramas</td>\n      <td>Players and coaches for a Montreal soccer team...</td>\n    </tr>\n    <tr>\n      <th>2307: Winter's Dream</th>\n      <td>Movie</td>\n      <td>Joey Curtis</td>\n      <td>Paul Sidhu, Arielle Holmes, Branden Coles, Kel...</td>\n      <td>United States</td>\n      <td>March 1, 2018</td>\n      <td>2016-01-01</td>\n      <td>TV-MA</td>\n      <td>101 min</td>\n      <td>Action &amp; Adventure, Independent Movies, Sci-Fi...</td>\n      <td>In the frozen tundra of a futuristic Arizona w...</td>\n    </tr>\n    <tr>\n      <th>24 Hours to Live</th>\n      <td>Movie</td>\n      <td>Brian Smrz</td>\n      <td>Ethan Hawke, Xu Qing, Paul Anderson, Rutger Ha...</td>\n      <td>South Africa, China, United States</td>\n      <td>April 7, 2018</td>\n      <td>2017-01-01</td>\n      <td>R</td>\n      <td>93 min</td>\n      <td>Action &amp; Adventure</td>\n      <td>Revived by an experimental procedure, a hit ma...</td>\n    </tr>\n    <tr>\n      <th>25 Kille</th>\n      <td>Movie</td>\n      <td>Simranjit Singh Hundal</td>\n      <td>Guggu Gill, Yograj Singh, Sonia Mann, Jimmy Sh...</td>\n      <td>India</td>\n      <td>October 1, 2018</td>\n      <td>2016-01-01</td>\n      <td>TV-14</td>\n      <td>140 min</td>\n      <td>Action &amp; Adventure, Dramas, International Movies</td>\n      <td>Four brothers learn that they have inherited a...</td>\n    </tr>\n  </tbody>\n</table>\n</div>"
     },
     "metadata": {},
     "execution_count": 46
    }
   ],
   "source": [
    "#selecting segment of dataset\n",
    "netflix2.iloc[87:91]\n",
    "#netflix2.loc[\"21 Thunder\": \"25 Kille\"]"
   ]
  },
  {
   "cell_type": "code",
   "execution_count": 47,
   "metadata": {},
   "outputs": [
    {
     "output_type": "execute_result",
     "data": {
      "text/plain": [
       "          type           director  \\\n",
       "title                               \n",
       "3%     TV Show                NaN   \n",
       "7:19     Movie  Jorge Michel Grau   \n",
       "23:59    Movie       Gilbert Chan   \n",
       "\n",
       "                                                    cast    country  \n",
       "title                                                                \n",
       "3%     João Miguel, Bianca Comparato, Michel Gomes, R...     Brazil  \n",
       "7:19   Demián Bichir, Héctor Bonilla, Oscar Serrano, ...     Mexico  \n",
       "23:59  Tedd Chan, Stella Chung, Henley Hii, Lawrence ...  Singapore  "
      ],
      "text/html": "<div>\n<style scoped>\n    .dataframe tbody tr th:only-of-type {\n        vertical-align: middle;\n    }\n\n    .dataframe tbody tr th {\n        vertical-align: top;\n    }\n\n    .dataframe thead th {\n        text-align: right;\n    }\n</style>\n<table border=\"1\" class=\"dataframe\">\n  <thead>\n    <tr style=\"text-align: right;\">\n      <th></th>\n      <th>type</th>\n      <th>director</th>\n      <th>cast</th>\n      <th>country</th>\n    </tr>\n    <tr>\n      <th>title</th>\n      <th></th>\n      <th></th>\n      <th></th>\n      <th></th>\n    </tr>\n  </thead>\n  <tbody>\n    <tr>\n      <th>3%</th>\n      <td>TV Show</td>\n      <td>NaN</td>\n      <td>João Miguel, Bianca Comparato, Michel Gomes, R...</td>\n      <td>Brazil</td>\n    </tr>\n    <tr>\n      <th>7:19</th>\n      <td>Movie</td>\n      <td>Jorge Michel Grau</td>\n      <td>Demián Bichir, Héctor Bonilla, Oscar Serrano, ...</td>\n      <td>Mexico</td>\n    </tr>\n    <tr>\n      <th>23:59</th>\n      <td>Movie</td>\n      <td>Gilbert Chan</td>\n      <td>Tedd Chan, Stella Chung, Henley Hii, Lawrence ...</td>\n      <td>Singapore</td>\n    </tr>\n  </tbody>\n</table>\n</div>"
     },
     "metadata": {},
     "execution_count": 47
    }
   ],
   "source": [
    "#Selecting rows and columns silmultaneously\n",
    "netflix2.iloc[:3,:4]\n",
    "#netflix2.loc[:\"23:59\",:\"country\"]"
   ]
  },
  {
   "cell_type": "code",
   "execution_count": 48,
   "metadata": {},
   "outputs": [
    {
     "output_type": "execute_result",
     "data": {
      "text/plain": [
       "                director rating\n",
       "title                          \n",
       "3%                   NaN  TV-MA\n",
       "7:19   Jorge Michel Grau  TV-MA\n",
       "23:59       Gilbert Chan      R\n",
       "9            Shane Acker  PG-13\n",
       "21        Robert Luketic  PG-13"
      ],
      "text/html": "<div>\n<style scoped>\n    .dataframe tbody tr th:only-of-type {\n        vertical-align: middle;\n    }\n\n    .dataframe tbody tr th {\n        vertical-align: top;\n    }\n\n    .dataframe thead th {\n        text-align: right;\n    }\n</style>\n<table border=\"1\" class=\"dataframe\">\n  <thead>\n    <tr style=\"text-align: right;\">\n      <th></th>\n      <th>director</th>\n      <th>rating</th>\n    </tr>\n    <tr>\n      <th>title</th>\n      <th></th>\n      <th></th>\n    </tr>\n  </thead>\n  <tbody>\n    <tr>\n      <th>3%</th>\n      <td>NaN</td>\n      <td>TV-MA</td>\n    </tr>\n    <tr>\n      <th>7:19</th>\n      <td>Jorge Michel Grau</td>\n      <td>TV-MA</td>\n    </tr>\n    <tr>\n      <th>23:59</th>\n      <td>Gilbert Chan</td>\n      <td>R</td>\n    </tr>\n    <tr>\n      <th>9</th>\n      <td>Shane Acker</td>\n      <td>PG-13</td>\n    </tr>\n    <tr>\n      <th>21</th>\n      <td>Robert Luketic</td>\n      <td>PG-13</td>\n    </tr>\n  </tbody>\n</table>\n</div>"
     },
     "metadata": {},
     "execution_count": 48
    }
   ],
   "source": [
    "netflix2.iloc[:,[1,6]].head() #Selecting two different columns"
   ]
  },
  {
   "cell_type": "code",
   "execution_count": 49,
   "metadata": {},
   "outputs": [
    {
     "output_type": "execute_result",
     "data": {
      "text/plain": [
       "                                          director rating\n",
       "title                                                    \n",
       "3 Idiots                           Rajkumar Hirani  PG-13\n",
       "A Billion Colour Story  Padmakumar Narasimhamurthy  TV-14"
      ],
      "text/html": "<div>\n<style scoped>\n    .dataframe tbody tr th:only-of-type {\n        vertical-align: middle;\n    }\n\n    .dataframe tbody tr th {\n        vertical-align: top;\n    }\n\n    .dataframe thead th {\n        text-align: right;\n    }\n</style>\n<table border=\"1\" class=\"dataframe\">\n  <thead>\n    <tr style=\"text-align: right;\">\n      <th></th>\n      <th>director</th>\n      <th>rating</th>\n    </tr>\n    <tr>\n      <th>title</th>\n      <th></th>\n      <th></th>\n    </tr>\n  </thead>\n  <tbody>\n    <tr>\n      <th>3 Idiots</th>\n      <td>Rajkumar Hirani</td>\n      <td>PG-13</td>\n    </tr>\n    <tr>\n      <th>A Billion Colour Story</th>\n      <td>Padmakumar Narasimhamurthy</td>\n      <td>TV-14</td>\n    </tr>\n  </tbody>\n</table>\n</div>"
     },
     "metadata": {},
     "execution_count": 49
    }
   ],
   "source": [
    "netflix2.iloc[[100,150],[1,6]] #Selecting disjointed rows and columns \n",
    "#netflix2.loc[[\"3 Idiots\",\"A Billion Colour Story\"],[\"director\",\"rating\"]]"
   ]
  },
  {
   "cell_type": "code",
   "execution_count": 50,
   "metadata": {},
   "outputs": [
    {
     "output_type": "execute_result",
     "data": {
      "text/plain": [
       "'Turkey'"
      ]
     },
     "metadata": {},
     "execution_count": 50
    }
   ],
   "source": [
    "#Selecting a single scalar value\n",
    "netflix2.iloc[5,-7] #5th row value in the 7th column from the end which is \"country\""
   ]
  },
  {
   "cell_type": "code",
   "execution_count": 51,
   "metadata": {},
   "outputs": [
    {
     "output_type": "execute_result",
     "data": {
      "text/plain": [
       "             country         date_added release_year rating   duration  \\\n",
       "title                                                                    \n",
       "3%            Brazil    August 14, 2020   2020-01-01  TV-MA  4 Seasons   \n",
       "7:19          Mexico  December 23, 2016   2016-01-01  TV-MA     93 min   \n",
       "23:59      Singapore  December 20, 2018   2011-01-01      R     78 min   \n",
       "9      United States  November 16, 2017   2009-01-01  PG-13     80 min   \n",
       "21     United States    January 1, 2020   2008-01-01  PG-13    123 min   \n",
       "\n",
       "                                               listed_in  \n",
       "title                                                     \n",
       "3%     International TV Shows, TV Dramas, TV Sci-Fi &...  \n",
       "7:19                        Dramas, International Movies  \n",
       "23:59                Horror Movies, International Movies  \n",
       "9      Action & Adventure, Independent Movies, Sci-Fi...  \n",
       "21                                                Dramas  "
      ],
      "text/html": "<div>\n<style scoped>\n    .dataframe tbody tr th:only-of-type {\n        vertical-align: middle;\n    }\n\n    .dataframe tbody tr th {\n        vertical-align: top;\n    }\n\n    .dataframe thead th {\n        text-align: right;\n    }\n</style>\n<table border=\"1\" class=\"dataframe\">\n  <thead>\n    <tr style=\"text-align: right;\">\n      <th></th>\n      <th>country</th>\n      <th>date_added</th>\n      <th>release_year</th>\n      <th>rating</th>\n      <th>duration</th>\n      <th>listed_in</th>\n    </tr>\n    <tr>\n      <th>title</th>\n      <th></th>\n      <th></th>\n      <th></th>\n      <th></th>\n      <th></th>\n      <th></th>\n    </tr>\n  </thead>\n  <tbody>\n    <tr>\n      <th>3%</th>\n      <td>Brazil</td>\n      <td>August 14, 2020</td>\n      <td>2020-01-01</td>\n      <td>TV-MA</td>\n      <td>4 Seasons</td>\n      <td>International TV Shows, TV Dramas, TV Sci-Fi &amp;...</td>\n    </tr>\n    <tr>\n      <th>7:19</th>\n      <td>Mexico</td>\n      <td>December 23, 2016</td>\n      <td>2016-01-01</td>\n      <td>TV-MA</td>\n      <td>93 min</td>\n      <td>Dramas, International Movies</td>\n    </tr>\n    <tr>\n      <th>23:59</th>\n      <td>Singapore</td>\n      <td>December 20, 2018</td>\n      <td>2011-01-01</td>\n      <td>R</td>\n      <td>78 min</td>\n      <td>Horror Movies, International Movies</td>\n    </tr>\n    <tr>\n      <th>9</th>\n      <td>United States</td>\n      <td>November 16, 2017</td>\n      <td>2009-01-01</td>\n      <td>PG-13</td>\n      <td>80 min</td>\n      <td>Action &amp; Adventure, Independent Movies, Sci-Fi...</td>\n    </tr>\n    <tr>\n      <th>21</th>\n      <td>United States</td>\n      <td>January 1, 2020</td>\n      <td>2008-01-01</td>\n      <td>PG-13</td>\n      <td>123 min</td>\n      <td>Dramas</td>\n    </tr>\n  </tbody>\n</table>\n</div>"
     },
     "metadata": {},
     "execution_count": 51
    }
   ],
   "source": [
    "#You can also assign variables for selection \n",
    "col_start = netflix2.columns.get_loc(\"country\")\n",
    "col_end = netflix2.columns.get_loc(\"listed_in\")+1\n",
    "netflix2.iloc[:5, col_start:col_end] #you can also assign values to the rows instead of passing scalar values"
   ]
  },
  {
   "source": [
    "## Speeding up scalar selection\n",
    "Both the .iloc and .loc indexers are capable of selecting a single element, a scalar value,\n",
    "from a Series or DataFrame. However, there exist the indexers, .iat and .at, which\n",
    "respectively achieve the same thing at faster speeds. Like .iloc, the .iat indexer uses\n",
    "integer location to make its selection and must be passed two integers separated by a\n",
    "comma. Similar to .loc, the .at index uses labels to make its selection and must be passed\n",
    "an index and column label separated by a comma."
   ],
   "cell_type": "markdown",
   "metadata": {}
  },
  {
   "cell_type": "code",
   "execution_count": 52,
   "metadata": {},
   "outputs": [
    {
     "output_type": "stream",
     "name": "stdout",
     "text": [
      "27.5 µs ± 2.55 µs per loop (mean ± std. dev. of 7 runs, 10000 loops each)\n"
     ]
    }
   ],
   "source": [
    "%timeit netflix2.iloc[3,7]"
   ]
  },
  {
   "cell_type": "code",
   "execution_count": 53,
   "metadata": {},
   "outputs": [
    {
     "output_type": "stream",
     "name": "stdout",
     "text": [
      "19.1 µs ± 2.05 µs per loop (mean ± std. dev. of 7 runs, 10000 loops each)\n"
     ]
    }
   ],
   "source": [
    "%timeit netflix2.iat[3,7]"
   ]
  },
  {
   "source": [
    "## Slicing Rows lazyily"
   ],
   "cell_type": "markdown",
   "metadata": {}
  },
  {
   "cell_type": "code",
   "execution_count": 54,
   "metadata": {},
   "outputs": [
    {
     "output_type": "execute_result",
     "data": {
      "text/plain": [
       "          type              director  \\\n",
       "title                                  \n",
       "1922     Movie          Zak Hilditch   \n",
       "1994   TV Show  Diego Enrique Osorno   \n",
       "3022     Movie            John Suits   \n",
       "\n",
       "                                                    cast        country  \\\n",
       "title                                                                     \n",
       "1922   Thomas Jane, Molly Parker, Dylan Schmid, Kaitl...  United States   \n",
       "1994                                                 NaN         Mexico   \n",
       "3022   Omar Epps, Kate Walsh, Miranda Cosgrove, Angus...  United States   \n",
       "\n",
       "             date_added release_year rating  duration  \\\n",
       "title                                                   \n",
       "1922   October 20, 2017   2017-01-01  TV-MA   103 min   \n",
       "1994       May 17, 2019   2019-01-01  TV-MA  1 Season   \n",
       "3022     March 19, 2020   2019-01-01      R    91 min   \n",
       "\n",
       "                                               listed_in  \\\n",
       "title                                                      \n",
       "1922                                   Dramas, Thrillers   \n",
       "1994   Crime TV Shows, Docuseries, International TV S...   \n",
       "3022     Independent Movies, Sci-Fi & Fantasy, Thrillers   \n",
       "\n",
       "                                             description  \n",
       "title                                                     \n",
       "1922   A farmer pens a confession admitting to his wi...  \n",
       "1994   Archival video and new interviews examine Mexi...  \n",
       "3022   Stranded when the Earth is suddenly destroyed ...  "
      ],
      "text/html": "<div>\n<style scoped>\n    .dataframe tbody tr th:only-of-type {\n        vertical-align: middle;\n    }\n\n    .dataframe tbody tr th {\n        vertical-align: top;\n    }\n\n    .dataframe thead th {\n        text-align: right;\n    }\n</style>\n<table border=\"1\" class=\"dataframe\">\n  <thead>\n    <tr style=\"text-align: right;\">\n      <th></th>\n      <th>type</th>\n      <th>director</th>\n      <th>cast</th>\n      <th>country</th>\n      <th>date_added</th>\n      <th>release_year</th>\n      <th>rating</th>\n      <th>duration</th>\n      <th>listed_in</th>\n      <th>description</th>\n    </tr>\n    <tr>\n      <th>title</th>\n      <th></th>\n      <th></th>\n      <th></th>\n      <th></th>\n      <th></th>\n      <th></th>\n      <th></th>\n      <th></th>\n      <th></th>\n      <th></th>\n    </tr>\n  </thead>\n  <tbody>\n    <tr>\n      <th>1922</th>\n      <td>Movie</td>\n      <td>Zak Hilditch</td>\n      <td>Thomas Jane, Molly Parker, Dylan Schmid, Kaitl...</td>\n      <td>United States</td>\n      <td>October 20, 2017</td>\n      <td>2017-01-01</td>\n      <td>TV-MA</td>\n      <td>103 min</td>\n      <td>Dramas, Thrillers</td>\n      <td>A farmer pens a confession admitting to his wi...</td>\n    </tr>\n    <tr>\n      <th>1994</th>\n      <td>TV Show</td>\n      <td>Diego Enrique Osorno</td>\n      <td>NaN</td>\n      <td>Mexico</td>\n      <td>May 17, 2019</td>\n      <td>2019-01-01</td>\n      <td>TV-MA</td>\n      <td>1 Season</td>\n      <td>Crime TV Shows, Docuseries, International TV S...</td>\n      <td>Archival video and new interviews examine Mexi...</td>\n    </tr>\n    <tr>\n      <th>3022</th>\n      <td>Movie</td>\n      <td>John Suits</td>\n      <td>Omar Epps, Kate Walsh, Miranda Cosgrove, Angus...</td>\n      <td>United States</td>\n      <td>March 19, 2020</td>\n      <td>2019-01-01</td>\n      <td>R</td>\n      <td>91 min</td>\n      <td>Independent Movies, Sci-Fi &amp; Fantasy, Thrillers</td>\n      <td>Stranded when the Earth is suddenly destroyed ...</td>\n    </tr>\n  </tbody>\n</table>\n</div>"
     },
     "metadata": {},
     "execution_count": 54
    }
   ],
   "source": [
    "netflix2[10:16:2] #Start, End, Step"
   ]
  },
  {
   "cell_type": "code",
   "execution_count": 55,
   "metadata": {},
   "outputs": [
    {
     "output_type": "execute_result",
     "data": {
      "text/plain": [
       "title\n",
       "3%                                         4 Seasons\n",
       "7:19                                          93 min\n",
       "23:59                                         78 min\n",
       "9                                             80 min\n",
       "21                                           123 min\n",
       "                                             ...    \n",
       "Zozo                                          99 min\n",
       "Zubaan                                       111 min\n",
       "Zulu Man in Japan                             44 min\n",
       "Zumbo's Just Desserts                       1 Season\n",
       "ZZ TOP: THAT LITTLE OL' BAND FROM TEXAS       90 min\n",
       "Name: duration, Length: 7787, dtype: object"
      ]
     },
     "metadata": {},
     "execution_count": 55
    }
   ],
   "source": [
    "netflix2[\"duration\"] #Most commanly used"
   ]
  },
  {
   "cell_type": "code",
   "execution_count": 56,
   "metadata": {},
   "outputs": [],
   "source": [
    "#Slicing Lexicographically\n",
    "netflix2.sort_index(inplace=True)"
   ]
  },
  {
   "cell_type": "code",
   "execution_count": 57,
   "metadata": {},
   "outputs": [
    {
     "output_type": "execute_result",
     "data": {
      "text/plain": [
       "                                type                     director  \\\n",
       "title                                                               \n",
       "#Alive                         Movie                       Cho Il   \n",
       "#AnneFrank - Parallel Stories  Movie  Sabina Fedeli, Anna Migotto   \n",
       "#FriendButMarried              Movie                Rako Prijanto   \n",
       "\n",
       "                                                                            cast  \\\n",
       "title                                                                              \n",
       "#Alive                                                  Yoo Ah-in, Park Shin-hye   \n",
       "#AnneFrank - Parallel Stories                        Helen Mirren, Gengher Gatti   \n",
       "#FriendButMarried              Adipati Dolken, Vanesha Prescilla, Rendi Jhon,...   \n",
       "\n",
       "                                   country         date_added release_year  \\\n",
       "title                                                                        \n",
       "#Alive                         South Korea  September 8, 2020   2020-01-01   \n",
       "#AnneFrank - Parallel Stories        Italy       July 1, 2020   2019-01-01   \n",
       "#FriendButMarried                Indonesia       May 21, 2020   2018-01-01   \n",
       "\n",
       "                              rating duration  \\\n",
       "title                                           \n",
       "#Alive                         TV-MA   99 min   \n",
       "#AnneFrank - Parallel Stories  TV-14   95 min   \n",
       "#FriendButMarried               TV-G  102 min   \n",
       "\n",
       "                                                                    listed_in  \\\n",
       "title                                                                           \n",
       "#Alive                         Horror Movies, International Movies, Thrillers   \n",
       "#AnneFrank - Parallel Stories             Documentaries, International Movies   \n",
       "#FriendButMarried               Dramas, International Movies, Romantic Movies   \n",
       "\n",
       "                                                                     description  \n",
       "title                                                                             \n",
       "#Alive                         As a grisly virus rampages a city, a lone man ...  \n",
       "#AnneFrank - Parallel Stories  Through her diary, Anne Frank's story is retol...  \n",
       "#FriendButMarried              Pining for his high school crush for years, a ...  "
      ],
      "text/html": "<div>\n<style scoped>\n    .dataframe tbody tr th:only-of-type {\n        vertical-align: middle;\n    }\n\n    .dataframe tbody tr th {\n        vertical-align: top;\n    }\n\n    .dataframe thead th {\n        text-align: right;\n    }\n</style>\n<table border=\"1\" class=\"dataframe\">\n  <thead>\n    <tr style=\"text-align: right;\">\n      <th></th>\n      <th>type</th>\n      <th>director</th>\n      <th>cast</th>\n      <th>country</th>\n      <th>date_added</th>\n      <th>release_year</th>\n      <th>rating</th>\n      <th>duration</th>\n      <th>listed_in</th>\n      <th>description</th>\n    </tr>\n    <tr>\n      <th>title</th>\n      <th></th>\n      <th></th>\n      <th></th>\n      <th></th>\n      <th></th>\n      <th></th>\n      <th></th>\n      <th></th>\n      <th></th>\n      <th></th>\n    </tr>\n  </thead>\n  <tbody>\n    <tr>\n      <th>#Alive</th>\n      <td>Movie</td>\n      <td>Cho Il</td>\n      <td>Yoo Ah-in, Park Shin-hye</td>\n      <td>South Korea</td>\n      <td>September 8, 2020</td>\n      <td>2020-01-01</td>\n      <td>TV-MA</td>\n      <td>99 min</td>\n      <td>Horror Movies, International Movies, Thrillers</td>\n      <td>As a grisly virus rampages a city, a lone man ...</td>\n    </tr>\n    <tr>\n      <th>#AnneFrank - Parallel Stories</th>\n      <td>Movie</td>\n      <td>Sabina Fedeli, Anna Migotto</td>\n      <td>Helen Mirren, Gengher Gatti</td>\n      <td>Italy</td>\n      <td>July 1, 2020</td>\n      <td>2019-01-01</td>\n      <td>TV-14</td>\n      <td>95 min</td>\n      <td>Documentaries, International Movies</td>\n      <td>Through her diary, Anne Frank's story is retol...</td>\n    </tr>\n    <tr>\n      <th>#FriendButMarried</th>\n      <td>Movie</td>\n      <td>Rako Prijanto</td>\n      <td>Adipati Dolken, Vanesha Prescilla, Rendi Jhon,...</td>\n      <td>Indonesia</td>\n      <td>May 21, 2020</td>\n      <td>2018-01-01</td>\n      <td>TV-G</td>\n      <td>102 min</td>\n      <td>Dramas, International Movies, Romantic Movies</td>\n      <td>Pining for his high school crush for years, a ...</td>\n    </tr>\n  </tbody>\n</table>\n</div>"
     },
     "metadata": {},
     "execution_count": 57
    }
   ],
   "source": [
    "netflix2.loc[\"#A\":\"Th\"].head(3)\n",
    "#netflix2.sort_index(ascending=False,inplace=True)\n",
    "#netflix2.loc[\"Th\",\"#A\"]"
   ]
  },
  {
   "cell_type": "code",
   "execution_count": 58,
   "metadata": {},
   "outputs": [
    {
     "output_type": "execute_result",
     "data": {
      "text/plain": [
       "<pandas.io.formats.style.Styler at 0x1a5c72009d0>"
      ],
      "text/html": "<style  type=\"text/css\" >\n#T_956e684c_c88d_11eb_9380_00155d982d7drow0_col2{\n            background-color:  red;\n        }</style><table id=\"T_956e684c_c88d_11eb_9380_00155d982d7d\" ><thead>    <tr>        <th class=\"blank level0\" ></th>        <th class=\"col_heading level0 col0\" >type</th>        <th class=\"col_heading level0 col1\" >title</th>        <th class=\"col_heading level0 col2\" >director</th>        <th class=\"col_heading level0 col3\" >cast</th>        <th class=\"col_heading level0 col4\" >country</th>        <th class=\"col_heading level0 col5\" >date_added</th>        <th class=\"col_heading level0 col6\" >release_year</th>        <th class=\"col_heading level0 col7\" >rating</th>        <th class=\"col_heading level0 col8\" >duration</th>        <th class=\"col_heading level0 col9\" >listed_in</th>        <th class=\"col_heading level0 col10\" >description</th>    </tr>    <tr>        <th class=\"index_name level0\" >show_id</th>        <th class=\"blank\" ></th>        <th class=\"blank\" ></th>        <th class=\"blank\" ></th>        <th class=\"blank\" ></th>        <th class=\"blank\" ></th>        <th class=\"blank\" ></th>        <th class=\"blank\" ></th>        <th class=\"blank\" ></th>        <th class=\"blank\" ></th>        <th class=\"blank\" ></th>        <th class=\"blank\" ></th>    </tr></thead><tbody>\n                <tr>\n                        <th id=\"T_956e684c_c88d_11eb_9380_00155d982d7dlevel0_row0\" class=\"row_heading level0 row0\" >s1</th>\n                        <td id=\"T_956e684c_c88d_11eb_9380_00155d982d7drow0_col0\" class=\"data row0 col0\" >TV Show</td>\n                        <td id=\"T_956e684c_c88d_11eb_9380_00155d982d7drow0_col1\" class=\"data row0 col1\" >3%</td>\n                        <td id=\"T_956e684c_c88d_11eb_9380_00155d982d7drow0_col2\" class=\"data row0 col2\" >nan</td>\n                        <td id=\"T_956e684c_c88d_11eb_9380_00155d982d7drow0_col3\" class=\"data row0 col3\" >João Miguel, Bianca Comparato, Michel Gomes, Rodolfo Valente, Vaneza Oliveira, Rafael Lozano, Viviane Porto, Mel Fronckowiak, Sergio Mamberti, Zezé Motta, Celso Frateschi</td>\n                        <td id=\"T_956e684c_c88d_11eb_9380_00155d982d7drow0_col4\" class=\"data row0 col4\" >Brazil</td>\n                        <td id=\"T_956e684c_c88d_11eb_9380_00155d982d7drow0_col5\" class=\"data row0 col5\" >August 14, 2020</td>\n                        <td id=\"T_956e684c_c88d_11eb_9380_00155d982d7drow0_col6\" class=\"data row0 col6\" >2020-01-01 00:00:00</td>\n                        <td id=\"T_956e684c_c88d_11eb_9380_00155d982d7drow0_col7\" class=\"data row0 col7\" >TV-MA</td>\n                        <td id=\"T_956e684c_c88d_11eb_9380_00155d982d7drow0_col8\" class=\"data row0 col8\" >4 Seasons</td>\n                        <td id=\"T_956e684c_c88d_11eb_9380_00155d982d7drow0_col9\" class=\"data row0 col9\" >International TV Shows, TV Dramas, TV Sci-Fi & Fantasy</td>\n                        <td id=\"T_956e684c_c88d_11eb_9380_00155d982d7drow0_col10\" class=\"data row0 col10\" >In a future where the elite inhabit an island paradise far from the crowded slums, you get one chance to join the 3% saved from squalor.</td>\n            </tr>\n            <tr>\n                        <th id=\"T_956e684c_c88d_11eb_9380_00155d982d7dlevel0_row1\" class=\"row_heading level0 row1\" >s2</th>\n                        <td id=\"T_956e684c_c88d_11eb_9380_00155d982d7drow1_col0\" class=\"data row1 col0\" >Movie</td>\n                        <td id=\"T_956e684c_c88d_11eb_9380_00155d982d7drow1_col1\" class=\"data row1 col1\" >7:19</td>\n                        <td id=\"T_956e684c_c88d_11eb_9380_00155d982d7drow1_col2\" class=\"data row1 col2\" >Jorge Michel Grau</td>\n                        <td id=\"T_956e684c_c88d_11eb_9380_00155d982d7drow1_col3\" class=\"data row1 col3\" >Demián Bichir, Héctor Bonilla, Oscar Serrano, Azalia Ortiz, Octavio Michel, Carmen Beato</td>\n                        <td id=\"T_956e684c_c88d_11eb_9380_00155d982d7drow1_col4\" class=\"data row1 col4\" >Mexico</td>\n                        <td id=\"T_956e684c_c88d_11eb_9380_00155d982d7drow1_col5\" class=\"data row1 col5\" >December 23, 2016</td>\n                        <td id=\"T_956e684c_c88d_11eb_9380_00155d982d7drow1_col6\" class=\"data row1 col6\" >2016-01-01 00:00:00</td>\n                        <td id=\"T_956e684c_c88d_11eb_9380_00155d982d7drow1_col7\" class=\"data row1 col7\" >TV-MA</td>\n                        <td id=\"T_956e684c_c88d_11eb_9380_00155d982d7drow1_col8\" class=\"data row1 col8\" >93 min</td>\n                        <td id=\"T_956e684c_c88d_11eb_9380_00155d982d7drow1_col9\" class=\"data row1 col9\" >Dramas, International Movies</td>\n                        <td id=\"T_956e684c_c88d_11eb_9380_00155d982d7drow1_col10\" class=\"data row1 col10\" >After a devastating earthquake hits Mexico City, trapped survivors from all walks of life wait to be rescued while trying desperately to stay alive.</td>\n            </tr>\n            <tr>\n                        <th id=\"T_956e684c_c88d_11eb_9380_00155d982d7dlevel0_row2\" class=\"row_heading level0 row2\" >s3</th>\n                        <td id=\"T_956e684c_c88d_11eb_9380_00155d982d7drow2_col0\" class=\"data row2 col0\" >Movie</td>\n                        <td id=\"T_956e684c_c88d_11eb_9380_00155d982d7drow2_col1\" class=\"data row2 col1\" >23:59</td>\n                        <td id=\"T_956e684c_c88d_11eb_9380_00155d982d7drow2_col2\" class=\"data row2 col2\" >Gilbert Chan</td>\n                        <td id=\"T_956e684c_c88d_11eb_9380_00155d982d7drow2_col3\" class=\"data row2 col3\" >Tedd Chan, Stella Chung, Henley Hii, Lawrence Koh, Tommy Kuan, Josh Lai, Mark Lee, Susan Leong, Benjamin Lim</td>\n                        <td id=\"T_956e684c_c88d_11eb_9380_00155d982d7drow2_col4\" class=\"data row2 col4\" >Singapore</td>\n                        <td id=\"T_956e684c_c88d_11eb_9380_00155d982d7drow2_col5\" class=\"data row2 col5\" >December 20, 2018</td>\n                        <td id=\"T_956e684c_c88d_11eb_9380_00155d982d7drow2_col6\" class=\"data row2 col6\" >2011-01-01 00:00:00</td>\n                        <td id=\"T_956e684c_c88d_11eb_9380_00155d982d7drow2_col7\" class=\"data row2 col7\" >R</td>\n                        <td id=\"T_956e684c_c88d_11eb_9380_00155d982d7drow2_col8\" class=\"data row2 col8\" >78 min</td>\n                        <td id=\"T_956e684c_c88d_11eb_9380_00155d982d7drow2_col9\" class=\"data row2 col9\" >Horror Movies, International Movies</td>\n                        <td id=\"T_956e684c_c88d_11eb_9380_00155d982d7drow2_col10\" class=\"data row2 col10\" >When an army recruit is found dead, his fellow soldiers are forced to confront a terrifying secret that's haunting their jungle island training camp.</td>\n            </tr>\n    </tbody></table>"
     },
     "metadata": {},
     "execution_count": 58
    }
   ],
   "source": [
    "netflix.head(3).style.highlight_null(\"red\")"
   ]
  },
  {
   "source": [
    "## Filtering Data"
   ],
   "cell_type": "markdown",
   "metadata": {}
  },
  {
   "cell_type": "code",
   "execution_count": 59,
   "metadata": {},
   "outputs": [
    {
     "output_type": "execute_result",
     "data": {
      "text/plain": [
       "   acousticness  danceability  duration_ms  energy  instrumentalness  key  \\\n",
       "0        0.0102         0.833       204600   0.434          0.021900    2   \n",
       "1        0.1990         0.743       326933   0.359          0.006110    1   \n",
       "2        0.0344         0.838       185707   0.412          0.000234    2   \n",
       "3        0.6040         0.494       199413   0.338          0.510000    5   \n",
       "4        0.1800         0.678       392893   0.561          0.512000    5   \n",
       "\n",
       "   liveness  loudness  mode  speechiness    tempo  time_signature  valence  \\\n",
       "0    0.1650    -8.795     1       0.4310  150.062             4.0    0.286   \n",
       "1    0.1370   -10.401     1       0.0794  160.083             4.0    0.588   \n",
       "2    0.1590    -7.148     1       0.2890   75.044             4.0    0.173   \n",
       "3    0.0922   -15.236     1       0.0261   86.468             4.0    0.230   \n",
       "4    0.4390   -11.648     0       0.0694  174.004             4.0    0.904   \n",
       "\n",
       "   target      song_title            artist  \n",
       "0       1        Mask Off            Future  \n",
       "1       1         Redbone  Childish Gambino  \n",
       "2       1    Xanny Family            Future  \n",
       "3       1  Master Of None       Beach House  \n",
       "4       1  Parallel Lines       Junior Boys  "
      ],
      "text/html": "<div>\n<style scoped>\n    .dataframe tbody tr th:only-of-type {\n        vertical-align: middle;\n    }\n\n    .dataframe tbody tr th {\n        vertical-align: top;\n    }\n\n    .dataframe thead th {\n        text-align: right;\n    }\n</style>\n<table border=\"1\" class=\"dataframe\">\n  <thead>\n    <tr style=\"text-align: right;\">\n      <th></th>\n      <th>acousticness</th>\n      <th>danceability</th>\n      <th>duration_ms</th>\n      <th>energy</th>\n      <th>instrumentalness</th>\n      <th>key</th>\n      <th>liveness</th>\n      <th>loudness</th>\n      <th>mode</th>\n      <th>speechiness</th>\n      <th>tempo</th>\n      <th>time_signature</th>\n      <th>valence</th>\n      <th>target</th>\n      <th>song_title</th>\n      <th>artist</th>\n    </tr>\n  </thead>\n  <tbody>\n    <tr>\n      <th>0</th>\n      <td>0.0102</td>\n      <td>0.833</td>\n      <td>204600</td>\n      <td>0.434</td>\n      <td>0.021900</td>\n      <td>2</td>\n      <td>0.1650</td>\n      <td>-8.795</td>\n      <td>1</td>\n      <td>0.4310</td>\n      <td>150.062</td>\n      <td>4.0</td>\n      <td>0.286</td>\n      <td>1</td>\n      <td>Mask Off</td>\n      <td>Future</td>\n    </tr>\n    <tr>\n      <th>1</th>\n      <td>0.1990</td>\n      <td>0.743</td>\n      <td>326933</td>\n      <td>0.359</td>\n      <td>0.006110</td>\n      <td>1</td>\n      <td>0.1370</td>\n      <td>-10.401</td>\n      <td>1</td>\n      <td>0.0794</td>\n      <td>160.083</td>\n      <td>4.0</td>\n      <td>0.588</td>\n      <td>1</td>\n      <td>Redbone</td>\n      <td>Childish Gambino</td>\n    </tr>\n    <tr>\n      <th>2</th>\n      <td>0.0344</td>\n      <td>0.838</td>\n      <td>185707</td>\n      <td>0.412</td>\n      <td>0.000234</td>\n      <td>2</td>\n      <td>0.1590</td>\n      <td>-7.148</td>\n      <td>1</td>\n      <td>0.2890</td>\n      <td>75.044</td>\n      <td>4.0</td>\n      <td>0.173</td>\n      <td>1</td>\n      <td>Xanny Family</td>\n      <td>Future</td>\n    </tr>\n    <tr>\n      <th>3</th>\n      <td>0.6040</td>\n      <td>0.494</td>\n      <td>199413</td>\n      <td>0.338</td>\n      <td>0.510000</td>\n      <td>5</td>\n      <td>0.0922</td>\n      <td>-15.236</td>\n      <td>1</td>\n      <td>0.0261</td>\n      <td>86.468</td>\n      <td>4.0</td>\n      <td>0.230</td>\n      <td>1</td>\n      <td>Master Of None</td>\n      <td>Beach House</td>\n    </tr>\n    <tr>\n      <th>4</th>\n      <td>0.1800</td>\n      <td>0.678</td>\n      <td>392893</td>\n      <td>0.561</td>\n      <td>0.512000</td>\n      <td>5</td>\n      <td>0.4390</td>\n      <td>-11.648</td>\n      <td>0</td>\n      <td>0.0694</td>\n      <td>174.004</td>\n      <td>4.0</td>\n      <td>0.904</td>\n      <td>1</td>\n      <td>Parallel Lines</td>\n      <td>Junior Boys</td>\n    </tr>\n  </tbody>\n</table>\n</div>"
     },
     "metadata": {},
     "execution_count": 59
    }
   ],
   "source": [
    "spotify.head()"
   ]
  },
  {
   "cell_type": "code",
   "execution_count": 60,
   "metadata": {},
   "outputs": [
    {
     "output_type": "execute_result",
     "data": {
      "text/plain": [
       "0     True\n",
       "1     True\n",
       "2    False\n",
       "3    False\n",
       "4     True\n",
       "Name: duration_ms, dtype: bool"
      ]
     },
     "metadata": {},
     "execution_count": 60
    }
   ],
   "source": [
    "song_duration = spotify[\"duration_ms\"] > 200000 \n",
    "song_duration.head()"
   ]
  },
  {
   "cell_type": "code",
   "execution_count": 61,
   "metadata": {},
   "outputs": [
    {
     "output_type": "execute_result",
     "data": {
      "text/plain": [
       "(2017,)"
      ]
     },
     "metadata": {},
     "execution_count": 61
    }
   ],
   "source": [
    "song_duration.shape"
   ]
  },
  {
   "cell_type": "code",
   "execution_count": 62,
   "metadata": {},
   "outputs": [
    {
     "output_type": "execute_result",
     "data": {
      "text/plain": [
       "(1513, 75.0)"
      ]
     },
     "metadata": {},
     "execution_count": 62
    }
   ],
   "source": [
    "song_duration.sum(), round(song_duration.mean(),2)*100"
   ]
  },
  {
   "cell_type": "code",
   "execution_count": 63,
   "metadata": {},
   "outputs": [
    {
     "output_type": "execute_result",
     "data": {
      "text/plain": [
       "count     2017\n",
       "unique       2\n",
       "top       True\n",
       "freq      1513\n",
       "Name: duration_ms, dtype: object"
      ]
     },
     "metadata": {},
     "execution_count": 63
    }
   ],
   "source": [
    "song_duration.describe()"
   ]
  },
  {
   "cell_type": "code",
   "execution_count": 64,
   "metadata": {},
   "outputs": [
    {
     "output_type": "execute_result",
     "data": {
      "text/plain": [
       "True     75.0\n",
       "False    25.0\n",
       "Name: duration_ms, dtype: float64"
      ]
     },
     "metadata": {},
     "execution_count": 64
    }
   ],
   "source": [
    "round(song_duration.value_counts(normalize=True),2)*100"
   ]
  },
  {
   "cell_type": "code",
   "execution_count": 65,
   "metadata": {},
   "outputs": [
    {
     "output_type": "execute_result",
     "data": {
      "text/plain": [
       "((2017,), 847, 42.0)"
      ]
     },
     "metadata": {},
     "execution_count": 65
    }
   ],
   "source": [
    "criteria1 = spotify.duration_ms > 200000\n",
    "criteria2 = spotify.energy > 0.2\n",
    "criteria3 = spotify.acousticness > 0.03\n",
    "\n",
    "criteria_final = criteria1&criteria2&criteria3\n",
    "criteria_final.shape,criteria_final.sum(), round(criteria_final.mean(),2)*100"
   ]
  },
  {
   "cell_type": "code",
   "execution_count": 66,
   "metadata": {},
   "outputs": [
    {
     "output_type": "execute_result",
     "data": {
      "text/plain": [
       "    acousticness  danceability  duration_ms  energy  instrumentalness  key  \\\n",
       "1         0.1990         0.743       326933   0.359           0.00611    1   \n",
       "4         0.1800         0.678       392893   0.561           0.51200    5   \n",
       "8         0.0481         0.603       202853   0.944           0.00000   11   \n",
       "10        0.0572         0.525       358187   0.855           0.01430    5   \n",
       "11        0.0915         0.753       324880   0.748           0.00348   10   \n",
       "\n",
       "    liveness  loudness  mode  speechiness    tempo  time_signature  valence  \\\n",
       "1      0.137   -10.401     1       0.0794  160.083             4.0    0.588   \n",
       "4      0.439   -11.648     0       0.0694  174.004             4.0    0.904   \n",
       "8      0.342    -3.626     0       0.3470  130.035             4.0    0.398   \n",
       "10     0.649    -7.372     0       0.0548  111.951             3.0    0.524   \n",
       "11     0.212    -8.620     1       0.0494  104.322             4.0    0.642   \n",
       "\n",
       "    target                            song_title              artist  \n",
       "1        1                               Redbone    Childish Gambino  \n",
       "4        1                        Parallel Lines         Junior Boys  \n",
       "8        1                     I've Seen Footage         Death Grips  \n",
       "10       1  Subways - In Flagranti Extended Edit      The Avalanches  \n",
       "11       1            Donme Dolap - Baris K Edit  Modern Folk Üçlüsü  "
      ],
      "text/html": "<div>\n<style scoped>\n    .dataframe tbody tr th:only-of-type {\n        vertical-align: middle;\n    }\n\n    .dataframe tbody tr th {\n        vertical-align: top;\n    }\n\n    .dataframe thead th {\n        text-align: right;\n    }\n</style>\n<table border=\"1\" class=\"dataframe\">\n  <thead>\n    <tr style=\"text-align: right;\">\n      <th></th>\n      <th>acousticness</th>\n      <th>danceability</th>\n      <th>duration_ms</th>\n      <th>energy</th>\n      <th>instrumentalness</th>\n      <th>key</th>\n      <th>liveness</th>\n      <th>loudness</th>\n      <th>mode</th>\n      <th>speechiness</th>\n      <th>tempo</th>\n      <th>time_signature</th>\n      <th>valence</th>\n      <th>target</th>\n      <th>song_title</th>\n      <th>artist</th>\n    </tr>\n  </thead>\n  <tbody>\n    <tr>\n      <th>1</th>\n      <td>0.1990</td>\n      <td>0.743</td>\n      <td>326933</td>\n      <td>0.359</td>\n      <td>0.00611</td>\n      <td>1</td>\n      <td>0.137</td>\n      <td>-10.401</td>\n      <td>1</td>\n      <td>0.0794</td>\n      <td>160.083</td>\n      <td>4.0</td>\n      <td>0.588</td>\n      <td>1</td>\n      <td>Redbone</td>\n      <td>Childish Gambino</td>\n    </tr>\n    <tr>\n      <th>4</th>\n      <td>0.1800</td>\n      <td>0.678</td>\n      <td>392893</td>\n      <td>0.561</td>\n      <td>0.51200</td>\n      <td>5</td>\n      <td>0.439</td>\n      <td>-11.648</td>\n      <td>0</td>\n      <td>0.0694</td>\n      <td>174.004</td>\n      <td>4.0</td>\n      <td>0.904</td>\n      <td>1</td>\n      <td>Parallel Lines</td>\n      <td>Junior Boys</td>\n    </tr>\n    <tr>\n      <th>8</th>\n      <td>0.0481</td>\n      <td>0.603</td>\n      <td>202853</td>\n      <td>0.944</td>\n      <td>0.00000</td>\n      <td>11</td>\n      <td>0.342</td>\n      <td>-3.626</td>\n      <td>0</td>\n      <td>0.3470</td>\n      <td>130.035</td>\n      <td>4.0</td>\n      <td>0.398</td>\n      <td>1</td>\n      <td>I've Seen Footage</td>\n      <td>Death Grips</td>\n    </tr>\n    <tr>\n      <th>10</th>\n      <td>0.0572</td>\n      <td>0.525</td>\n      <td>358187</td>\n      <td>0.855</td>\n      <td>0.01430</td>\n      <td>5</td>\n      <td>0.649</td>\n      <td>-7.372</td>\n      <td>0</td>\n      <td>0.0548</td>\n      <td>111.951</td>\n      <td>3.0</td>\n      <td>0.524</td>\n      <td>1</td>\n      <td>Subways - In Flagranti Extended Edit</td>\n      <td>The Avalanches</td>\n    </tr>\n    <tr>\n      <th>11</th>\n      <td>0.0915</td>\n      <td>0.753</td>\n      <td>324880</td>\n      <td>0.748</td>\n      <td>0.00348</td>\n      <td>10</td>\n      <td>0.212</td>\n      <td>-8.620</td>\n      <td>1</td>\n      <td>0.0494</td>\n      <td>104.322</td>\n      <td>4.0</td>\n      <td>0.642</td>\n      <td>1</td>\n      <td>Donme Dolap - Baris K Edit</td>\n      <td>Modern Folk Üçlüsü</td>\n    </tr>\n  </tbody>\n</table>\n</div>"
     },
     "metadata": {},
     "execution_count": 66
    }
   ],
   "source": [
    "spotify[criteria_final].head()"
   ]
  },
  {
   "cell_type": "code",
   "execution_count": 67,
   "metadata": {},
   "outputs": [
    {
     "output_type": "execute_result",
     "data": {
      "text/plain": [
       "    acousticness  energy  duration_ms\n",
       "1         0.1990   0.359       326933\n",
       "4         0.1800   0.561       392893\n",
       "8         0.0481   0.944       202853\n",
       "10        0.0572   0.855       358187\n",
       "11        0.0915   0.748       324880"
      ],
      "text/html": "<div>\n<style scoped>\n    .dataframe tbody tr th:only-of-type {\n        vertical-align: middle;\n    }\n\n    .dataframe tbody tr th {\n        vertical-align: top;\n    }\n\n    .dataframe thead th {\n        text-align: right;\n    }\n</style>\n<table border=\"1\" class=\"dataframe\">\n  <thead>\n    <tr style=\"text-align: right;\">\n      <th></th>\n      <th>acousticness</th>\n      <th>energy</th>\n      <th>duration_ms</th>\n    </tr>\n  </thead>\n  <tbody>\n    <tr>\n      <th>1</th>\n      <td>0.1990</td>\n      <td>0.359</td>\n      <td>326933</td>\n    </tr>\n    <tr>\n      <th>4</th>\n      <td>0.1800</td>\n      <td>0.561</td>\n      <td>392893</td>\n    </tr>\n    <tr>\n      <th>8</th>\n      <td>0.0481</td>\n      <td>0.944</td>\n      <td>202853</td>\n    </tr>\n    <tr>\n      <th>10</th>\n      <td>0.0572</td>\n      <td>0.855</td>\n      <td>358187</td>\n    </tr>\n    <tr>\n      <th>11</th>\n      <td>0.0915</td>\n      <td>0.748</td>\n      <td>324880</td>\n    </tr>\n  </tbody>\n</table>\n</div>"
     },
     "metadata": {},
     "execution_count": 67
    }
   ],
   "source": [
    "cols = [\"acousticness\",\"energy\",\"duration_ms\"]\n",
    "filtered_spotify = spotify.loc[criteria_final,cols]\n",
    "filtered_spotify.head()"
   ]
  },
  {
   "source": [
    "Boolean indexing necessarily filters your dataset by removing all the rows that don't match\n",
    "the criteria. Instead of dropping all these values, it is possible to keep them using the where\n",
    "method. The where method preserves the size of your Series or DataFrame and either sets\n",
    "the values that don't meet the criteria to missing or replaces them with something else."
   ],
   "cell_type": "markdown",
   "metadata": {}
  },
  {
   "cell_type": "code",
   "execution_count": 68,
   "metadata": {},
   "outputs": [
    {
     "output_type": "execute_result",
     "data": {
      "text/plain": [
       "<pandas.io.formats.style.Styler at 0x1a5c8284dc0>"
      ],
      "text/html": "<style  type=\"text/css\" >\n#T_959577de_c88d_11eb_a657_00155d982d7drow0_col0,#T_959577de_c88d_11eb_a657_00155d982d7drow0_col1,#T_959577de_c88d_11eb_a657_00155d982d7drow4_col2{\n            background-color:  yellow;\n        }</style><table id=\"T_959577de_c88d_11eb_a657_00155d982d7d\" ><thead>    <tr>        <th class=\"blank level0\" ></th>        <th class=\"col_heading level0 col0\" >acousticness</th>        <th class=\"col_heading level0 col1\" >energy</th>        <th class=\"col_heading level0 col2\" >duration_ms</th>    </tr></thead><tbody>\n                <tr>\n                        <th id=\"T_959577de_c88d_11eb_a657_00155d982d7dlevel0_row0\" class=\"row_heading level0 row0\" >217</th>\n                        <td id=\"T_959577de_c88d_11eb_a657_00155d982d7drow0_col0\" class=\"data row0 col0\" >0.359000</td>\n                        <td id=\"T_959577de_c88d_11eb_a657_00155d982d7drow0_col1\" class=\"data row0 col1\" >0.986000</td>\n                        <td id=\"T_959577de_c88d_11eb_a657_00155d982d7drow0_col2\" class=\"data row0 col2\" >218733</td>\n            </tr>\n            <tr>\n                        <th id=\"T_959577de_c88d_11eb_a657_00155d982d7dlevel0_row1\" class=\"row_heading level0 row1\" >659</th>\n                        <td id=\"T_959577de_c88d_11eb_a657_00155d982d7drow1_col0\" class=\"data row1 col0\" >0.059700</td>\n                        <td id=\"T_959577de_c88d_11eb_a657_00155d982d7drow1_col1\" class=\"data row1 col1\" >0.985000</td>\n                        <td id=\"T_959577de_c88d_11eb_a657_00155d982d7drow1_col2\" class=\"data row1 col2\" >242056</td>\n            </tr>\n            <tr>\n                        <th id=\"T_959577de_c88d_11eb_a657_00155d982d7dlevel0_row2\" class=\"row_heading level0 row2\" >768</th>\n                        <td id=\"T_959577de_c88d_11eb_a657_00155d982d7drow2_col0\" class=\"data row2 col0\" >0.112000</td>\n                        <td id=\"T_959577de_c88d_11eb_a657_00155d982d7drow2_col1\" class=\"data row2 col1\" >0.981000</td>\n                        <td id=\"T_959577de_c88d_11eb_a657_00155d982d7drow2_col2\" class=\"data row2 col2\" >223784</td>\n            </tr>\n            <tr>\n                        <th id=\"T_959577de_c88d_11eb_a657_00155d982d7dlevel0_row3\" class=\"row_heading level0 row3\" >100</th>\n                        <td id=\"T_959577de_c88d_11eb_a657_00155d982d7drow3_col0\" class=\"data row3 col0\" >0.228000</td>\n                        <td id=\"T_959577de_c88d_11eb_a657_00155d982d7drow3_col1\" class=\"data row3 col1\" >0.980000</td>\n                        <td id=\"T_959577de_c88d_11eb_a657_00155d982d7drow3_col2\" class=\"data row3 col2\" >315595</td>\n            </tr>\n            <tr>\n                        <th id=\"T_959577de_c88d_11eb_a657_00155d982d7dlevel0_row4\" class=\"row_heading level0 row4\" >500</th>\n                        <td id=\"T_959577de_c88d_11eb_a657_00155d982d7drow4_col0\" class=\"data row4 col0\" >0.289000</td>\n                        <td id=\"T_959577de_c88d_11eb_a657_00155d982d7drow4_col1\" class=\"data row4 col1\" >0.978000</td>\n                        <td id=\"T_959577de_c88d_11eb_a657_00155d982d7drow4_col2\" class=\"data row4 col2\" >346360</td>\n            </tr>\n    </tbody></table>"
     },
     "metadata": {},
     "execution_count": 68
    }
   ],
   "source": [
    "filtered_spotify.sort_values([\"energy\"], ascending=False,inplace=True)\n",
    "filtered_spotify.head(5).style.highlight_max()\n",
    "#filtered_spotify.head(5).style.highlight_min()"
   ]
  },
  {
   "cell_type": "code",
   "execution_count": 69,
   "metadata": {},
   "outputs": [
    {
     "output_type": "execute_result",
     "data": {
      "text/plain": [
       "   acousticness  danceability  duration_ms  energy  instrumentalness  key  \\\n",
       "0        0.0102         0.833       204600   0.434          0.021900    2   \n",
       "1        0.1990         0.743       326933   0.359          0.006110    1   \n",
       "2        0.0344         0.838       185707   0.412          0.000234    2   \n",
       "3        0.6040         0.494       199413   0.338          0.510000    5   \n",
       "4        0.1800         0.678       392893   0.561          0.512000    5   \n",
       "\n",
       "   liveness  loudness  mode  speechiness    tempo  time_signature  valence  \\\n",
       "0    0.1650    -8.795     1       0.4310  150.062             4.0    0.286   \n",
       "1    0.1370   -10.401     1       0.0794  160.083             4.0    0.588   \n",
       "2    0.1590    -7.148     1       0.2890   75.044             4.0    0.173   \n",
       "3    0.0922   -15.236     1       0.0261   86.468             4.0    0.230   \n",
       "4    0.4390   -11.648     0       0.0694  174.004             4.0    0.904   \n",
       "\n",
       "   target      song_title            artist  \n",
       "0       1        Mask Off            Future  \n",
       "1       1         Redbone  Childish Gambino  \n",
       "2       1    Xanny Family            Future  \n",
       "3       1  Master Of None       Beach House  \n",
       "4       1  Parallel Lines       Junior Boys  "
      ],
      "text/html": "<div>\n<style scoped>\n    .dataframe tbody tr th:only-of-type {\n        vertical-align: middle;\n    }\n\n    .dataframe tbody tr th {\n        vertical-align: top;\n    }\n\n    .dataframe thead th {\n        text-align: right;\n    }\n</style>\n<table border=\"1\" class=\"dataframe\">\n  <thead>\n    <tr style=\"text-align: right;\">\n      <th></th>\n      <th>acousticness</th>\n      <th>danceability</th>\n      <th>duration_ms</th>\n      <th>energy</th>\n      <th>instrumentalness</th>\n      <th>key</th>\n      <th>liveness</th>\n      <th>loudness</th>\n      <th>mode</th>\n      <th>speechiness</th>\n      <th>tempo</th>\n      <th>time_signature</th>\n      <th>valence</th>\n      <th>target</th>\n      <th>song_title</th>\n      <th>artist</th>\n    </tr>\n  </thead>\n  <tbody>\n    <tr>\n      <th>0</th>\n      <td>0.0102</td>\n      <td>0.833</td>\n      <td>204600</td>\n      <td>0.434</td>\n      <td>0.021900</td>\n      <td>2</td>\n      <td>0.1650</td>\n      <td>-8.795</td>\n      <td>1</td>\n      <td>0.4310</td>\n      <td>150.062</td>\n      <td>4.0</td>\n      <td>0.286</td>\n      <td>1</td>\n      <td>Mask Off</td>\n      <td>Future</td>\n    </tr>\n    <tr>\n      <th>1</th>\n      <td>0.1990</td>\n      <td>0.743</td>\n      <td>326933</td>\n      <td>0.359</td>\n      <td>0.006110</td>\n      <td>1</td>\n      <td>0.1370</td>\n      <td>-10.401</td>\n      <td>1</td>\n      <td>0.0794</td>\n      <td>160.083</td>\n      <td>4.0</td>\n      <td>0.588</td>\n      <td>1</td>\n      <td>Redbone</td>\n      <td>Childish Gambino</td>\n    </tr>\n    <tr>\n      <th>2</th>\n      <td>0.0344</td>\n      <td>0.838</td>\n      <td>185707</td>\n      <td>0.412</td>\n      <td>0.000234</td>\n      <td>2</td>\n      <td>0.1590</td>\n      <td>-7.148</td>\n      <td>1</td>\n      <td>0.2890</td>\n      <td>75.044</td>\n      <td>4.0</td>\n      <td>0.173</td>\n      <td>1</td>\n      <td>Xanny Family</td>\n      <td>Future</td>\n    </tr>\n    <tr>\n      <th>3</th>\n      <td>0.6040</td>\n      <td>0.494</td>\n      <td>199413</td>\n      <td>0.338</td>\n      <td>0.510000</td>\n      <td>5</td>\n      <td>0.0922</td>\n      <td>-15.236</td>\n      <td>1</td>\n      <td>0.0261</td>\n      <td>86.468</td>\n      <td>4.0</td>\n      <td>0.230</td>\n      <td>1</td>\n      <td>Master Of None</td>\n      <td>Beach House</td>\n    </tr>\n    <tr>\n      <th>4</th>\n      <td>0.1800</td>\n      <td>0.678</td>\n      <td>392893</td>\n      <td>0.561</td>\n      <td>0.512000</td>\n      <td>5</td>\n      <td>0.4390</td>\n      <td>-11.648</td>\n      <td>0</td>\n      <td>0.0694</td>\n      <td>174.004</td>\n      <td>4.0</td>\n      <td>0.904</td>\n      <td>1</td>\n      <td>Parallel Lines</td>\n      <td>Junior Boys</td>\n    </tr>\n  </tbody>\n</table>\n</div>"
     },
     "metadata": {},
     "execution_count": 69
    }
   ],
   "source": [
    "spotify.head()"
   ]
  },
  {
   "cell_type": "code",
   "execution_count": 70,
   "metadata": {},
   "outputs": [
    {
     "output_type": "execute_result",
     "data": {
      "text/plain": [
       "                acousticness  danceability  energy  instrumentalness  \\\n",
       "song_title                                                             \n",
       "Mask Off              0.0102         0.833   0.434          0.021900   \n",
       "Redbone               0.1990         0.743   0.359          0.006110   \n",
       "Xanny Family          0.0344         0.838   0.412          0.000234   \n",
       "Master Of None        0.6040         0.494   0.338          0.510000   \n",
       "Parallel Lines        0.1800         0.678   0.561          0.512000   \n",
       "\n",
       "                liveness  speechiness  valence  \n",
       "song_title                                      \n",
       "Mask Off          0.1650       0.4310    0.286  \n",
       "Redbone           0.1370       0.0794    0.588  \n",
       "Xanny Family      0.1590       0.2890    0.173  \n",
       "Master Of None    0.0922       0.0261    0.230  \n",
       "Parallel Lines    0.4390       0.0694    0.904  "
      ],
      "text/html": "<div>\n<style scoped>\n    .dataframe tbody tr th:only-of-type {\n        vertical-align: middle;\n    }\n\n    .dataframe tbody tr th {\n        vertical-align: top;\n    }\n\n    .dataframe thead th {\n        text-align: right;\n    }\n</style>\n<table border=\"1\" class=\"dataframe\">\n  <thead>\n    <tr style=\"text-align: right;\">\n      <th></th>\n      <th>acousticness</th>\n      <th>danceability</th>\n      <th>energy</th>\n      <th>instrumentalness</th>\n      <th>liveness</th>\n      <th>speechiness</th>\n      <th>valence</th>\n    </tr>\n    <tr>\n      <th>song_title</th>\n      <th></th>\n      <th></th>\n      <th></th>\n      <th></th>\n      <th></th>\n      <th></th>\n      <th></th>\n    </tr>\n  </thead>\n  <tbody>\n    <tr>\n      <th>Mask Off</th>\n      <td>0.0102</td>\n      <td>0.833</td>\n      <td>0.434</td>\n      <td>0.021900</td>\n      <td>0.1650</td>\n      <td>0.4310</td>\n      <td>0.286</td>\n    </tr>\n    <tr>\n      <th>Redbone</th>\n      <td>0.1990</td>\n      <td>0.743</td>\n      <td>0.359</td>\n      <td>0.006110</td>\n      <td>0.1370</td>\n      <td>0.0794</td>\n      <td>0.588</td>\n    </tr>\n    <tr>\n      <th>Xanny Family</th>\n      <td>0.0344</td>\n      <td>0.838</td>\n      <td>0.412</td>\n      <td>0.000234</td>\n      <td>0.1590</td>\n      <td>0.2890</td>\n      <td>0.173</td>\n    </tr>\n    <tr>\n      <th>Master Of None</th>\n      <td>0.6040</td>\n      <td>0.494</td>\n      <td>0.338</td>\n      <td>0.510000</td>\n      <td>0.0922</td>\n      <td>0.0261</td>\n      <td>0.230</td>\n    </tr>\n    <tr>\n      <th>Parallel Lines</th>\n      <td>0.1800</td>\n      <td>0.678</td>\n      <td>0.561</td>\n      <td>0.512000</td>\n      <td>0.4390</td>\n      <td>0.0694</td>\n      <td>0.904</td>\n    </tr>\n  </tbody>\n</table>\n</div>"
     },
     "metadata": {},
     "execution_count": 70
    }
   ],
   "source": [
    "cols= ['acousticness', 'danceability', 'energy','instrumentalness','liveness','speechiness','valence','song_title']\n",
    "spotify4 = spotify[cols]\n",
    "spotify4.set_index(\"song_title\",inplace=True)\n",
    "spotify4.head()"
   ]
  },
  {
   "cell_type": "code",
   "execution_count": 71,
   "metadata": {},
   "outputs": [
    {
     "output_type": "execute_result",
     "data": {
      "text/plain": [
       "acousticness                  Lyric Pieces, Book I Op. 12: I. Arietta\n",
       "danceability                                   Flashwind - Radio Edit\n",
       "energy                                                  No Absolution\n",
       "instrumentalness                                      Senseless Order\n",
       "liveness            dance yrself clean - live at madison square ga...\n",
       "dtype: object"
      ]
     },
     "metadata": {},
     "execution_count": 71
    }
   ],
   "source": [
    "max_spotify = spotify4.idxmax(axis=\"index\")\n",
    "max_spotify.head()"
   ]
  },
  {
   "cell_type": "code",
   "execution_count": 72,
   "metadata": {},
   "outputs": [
    {
     "output_type": "execute_result",
     "data": {
      "text/plain": [
       "energy              49.0\n",
       "danceability        24.0\n",
       "valence             13.0\n",
       "acousticness         8.0\n",
       "instrumentalness     4.0\n",
       "liveness             1.0\n",
       "dtype: float64"
      ]
     },
     "metadata": {},
     "execution_count": 72
    }
   ],
   "source": [
    "max_spotify_columns = spotify4.idxmax(axis=\"columns\")\n",
    "round(max_spotify_columns.value_counts(normalize=True),2)*100"
   ]
  },
  {
   "cell_type": "code",
   "execution_count": null,
   "metadata": {},
   "outputs": [],
   "source": []
  }
 ]
}